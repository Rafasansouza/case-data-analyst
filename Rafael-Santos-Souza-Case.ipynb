{
 "cells": [
  {
   "cell_type": "markdown",
   "id": "bf754584",
   "metadata": {},
   "source": [
    "#### Criando insights em case com dados de uma empresa de fibra óptica fictícia"
   ]
  },
  {
   "cell_type": "markdown",
   "id": "8e75c888",
   "metadata": {},
   "source": [
    "De inicio começo importando as bibliotecas para o tratamento dos dados e criação de insights"
   ]
  },
  {
   "cell_type": "code",
   "execution_count": 77,
   "id": "02d1f6b6",
   "metadata": {},
   "outputs": [],
   "source": [
    "import pandas as pd\n",
    "import numpy as np\n",
    "import matplotlib.pyplot as plt\n",
    "import plotly.express as px\n",
    "import re"
   ]
  },
  {
   "cell_type": "markdown",
   "id": "d1a58682",
   "metadata": {},
   "source": [
    "Carregando a \"amostra_360\" para o df"
   ]
  },
  {
   "cell_type": "code",
   "execution_count": 40,
   "id": "329f0dbb",
   "metadata": {},
   "outputs": [],
   "source": [
    "df = pd.read_excel('amostra_360.xlsx')"
   ]
  },
  {
   "cell_type": "markdown",
   "id": "6c3c7a83",
   "metadata": {},
   "source": [
    "Visualizando o df"
   ]
  },
  {
   "cell_type": "code",
   "execution_count": 41,
   "id": "ae20621e",
   "metadata": {
    "scrolled": true
   },
   "outputs": [
    {
     "data": {
      "text/html": [
       "<div>\n",
       "<style scoped>\n",
       "    .dataframe tbody tr th:only-of-type {\n",
       "        vertical-align: middle;\n",
       "    }\n",
       "\n",
       "    .dataframe tbody tr th {\n",
       "        vertical-align: top;\n",
       "    }\n",
       "\n",
       "    .dataframe thead th {\n",
       "        text-align: right;\n",
       "    }\n",
       "</style>\n",
       "<table border=\"1\" class=\"dataframe\">\n",
       "  <thead>\n",
       "    <tr style=\"text-align: right;\">\n",
       "      <th></th>\n",
       "      <th>base_origem_hp</th>\n",
       "      <th>last_update_hp</th>\n",
       "      <th>id_hp_survey</th>\n",
       "      <th>no_viabilidade_hp</th>\n",
       "      <th>ds_estacao_abastecedora_hp</th>\n",
       "      <th>cd_tipo_survey_hp</th>\n",
       "      <th>hc_max</th>\n",
       "      <th>ds_uf_hp</th>\n",
       "      <th>ds_municipio_hp</th>\n",
       "      <th>nu_id_endereco_hp</th>\n",
       "      <th>...</th>\n",
       "      <th>f56_</th>\n",
       "      <th>f57_</th>\n",
       "      <th>f58_</th>\n",
       "      <th>f59_</th>\n",
       "      <th>f60_</th>\n",
       "      <th>f61_</th>\n",
       "      <th>f62_</th>\n",
       "      <th>matricula_tecnico_desbloqueio</th>\n",
       "      <th>ic_venda_valida</th>\n",
       "      <th>f63_</th>\n",
       "    </tr>\n",
       "  </thead>\n",
       "  <tbody>\n",
       "    <tr>\n",
       "      <th>0</th>\n",
       "      <td>NaN</td>\n",
       "      <td>NaT</td>\n",
       "      <td>NaN</td>\n",
       "      <td>NaN</td>\n",
       "      <td>NaN</td>\n",
       "      <td>NaN</td>\n",
       "      <td>NaN</td>\n",
       "      <td>NaN</td>\n",
       "      <td>NaN</td>\n",
       "      <td>NaN</td>\n",
       "      <td>...</td>\n",
       "      <td>NaN</td>\n",
       "      <td>NaN</td>\n",
       "      <td>NaN</td>\n",
       "      <td>NaN</td>\n",
       "      <td>NaN</td>\n",
       "      <td>NaN</td>\n",
       "      <td>NaN</td>\n",
       "      <td>NaN</td>\n",
       "      <td>Sim</td>\n",
       "      <td>2023-02-27 11:52:35.318683</td>\n",
       "    </tr>\n",
       "    <tr>\n",
       "      <th>1</th>\n",
       "      <td>NaN</td>\n",
       "      <td>NaT</td>\n",
       "      <td>NaN</td>\n",
       "      <td>NaN</td>\n",
       "      <td>NaN</td>\n",
       "      <td>NaN</td>\n",
       "      <td>NaN</td>\n",
       "      <td>NaN</td>\n",
       "      <td>NaN</td>\n",
       "      <td>NaN</td>\n",
       "      <td>...</td>\n",
       "      <td>NaN</td>\n",
       "      <td>NaN</td>\n",
       "      <td>NaN</td>\n",
       "      <td>NaN</td>\n",
       "      <td>NaN</td>\n",
       "      <td>NaN</td>\n",
       "      <td>NaN</td>\n",
       "      <td>NaN</td>\n",
       "      <td>Não</td>\n",
       "      <td>2023-02-27 11:52:35.318683</td>\n",
       "    </tr>\n",
       "    <tr>\n",
       "      <th>2</th>\n",
       "      <td>NaN</td>\n",
       "      <td>NaT</td>\n",
       "      <td>NaN</td>\n",
       "      <td>NaN</td>\n",
       "      <td>NaN</td>\n",
       "      <td>NaN</td>\n",
       "      <td>NaN</td>\n",
       "      <td>NaN</td>\n",
       "      <td>NaN</td>\n",
       "      <td>NaN</td>\n",
       "      <td>...</td>\n",
       "      <td>NaN</td>\n",
       "      <td>NaN</td>\n",
       "      <td>NaN</td>\n",
       "      <td>NaN</td>\n",
       "      <td>NaN</td>\n",
       "      <td>NaN</td>\n",
       "      <td>NaN</td>\n",
       "      <td>NaN</td>\n",
       "      <td>Sim</td>\n",
       "      <td>2023-02-27 11:52:35.318683</td>\n",
       "    </tr>\n",
       "    <tr>\n",
       "      <th>3</th>\n",
       "      <td>NaN</td>\n",
       "      <td>NaT</td>\n",
       "      <td>NaN</td>\n",
       "      <td>NaN</td>\n",
       "      <td>NaN</td>\n",
       "      <td>NaN</td>\n",
       "      <td>NaN</td>\n",
       "      <td>NaN</td>\n",
       "      <td>NaN</td>\n",
       "      <td>NaN</td>\n",
       "      <td>...</td>\n",
       "      <td>NaN</td>\n",
       "      <td>NaN</td>\n",
       "      <td>NaN</td>\n",
       "      <td>NaN</td>\n",
       "      <td>NaN</td>\n",
       "      <td>NaN</td>\n",
       "      <td>NaN</td>\n",
       "      <td>NaN</td>\n",
       "      <td>Sim</td>\n",
       "      <td>2023-02-27 11:52:35.318683</td>\n",
       "    </tr>\n",
       "    <tr>\n",
       "      <th>4</th>\n",
       "      <td>NaN</td>\n",
       "      <td>NaT</td>\n",
       "      <td>NaN</td>\n",
       "      <td>NaN</td>\n",
       "      <td>NaN</td>\n",
       "      <td>NaN</td>\n",
       "      <td>NaN</td>\n",
       "      <td>NaN</td>\n",
       "      <td>NaN</td>\n",
       "      <td>NaN</td>\n",
       "      <td>...</td>\n",
       "      <td>NaN</td>\n",
       "      <td>NaN</td>\n",
       "      <td>NaN</td>\n",
       "      <td>NaN</td>\n",
       "      <td>NaN</td>\n",
       "      <td>NaN</td>\n",
       "      <td>NaN</td>\n",
       "      <td>NaN</td>\n",
       "      <td>Sim</td>\n",
       "      <td>2023-02-27 11:52:35.318683</td>\n",
       "    </tr>\n",
       "  </tbody>\n",
       "</table>\n",
       "<p>5 rows × 256 columns</p>\n",
       "</div>"
      ],
      "text/plain": [
       "  base_origem_hp last_update_hp id_hp_survey no_viabilidade_hp  \\\n",
       "0            NaN            NaT          NaN               NaN   \n",
       "1            NaN            NaT          NaN               NaN   \n",
       "2            NaN            NaT          NaN               NaN   \n",
       "3            NaN            NaT          NaN               NaN   \n",
       "4            NaN            NaT          NaN               NaN   \n",
       "\n",
       "  ds_estacao_abastecedora_hp cd_tipo_survey_hp  hc_max ds_uf_hp  \\\n",
       "0                        NaN               NaN     NaN      NaN   \n",
       "1                        NaN               NaN     NaN      NaN   \n",
       "2                        NaN               NaN     NaN      NaN   \n",
       "3                        NaN               NaN     NaN      NaN   \n",
       "4                        NaN               NaN     NaN      NaN   \n",
       "\n",
       "  ds_municipio_hp  nu_id_endereco_hp  ...  f56_ f57_  f58_ f59_ f60_ f61_  \\\n",
       "0             NaN                NaN  ...   NaN  NaN   NaN  NaN  NaN  NaN   \n",
       "1             NaN                NaN  ...   NaN  NaN   NaN  NaN  NaN  NaN   \n",
       "2             NaN                NaN  ...   NaN  NaN   NaN  NaN  NaN  NaN   \n",
       "3             NaN                NaN  ...   NaN  NaN   NaN  NaN  NaN  NaN   \n",
       "4             NaN                NaN  ...   NaN  NaN   NaN  NaN  NaN  NaN   \n",
       "\n",
       "  f62_ matricula_tecnico_desbloqueio  ic_venda_valida  \\\n",
       "0  NaN                           NaN              Sim   \n",
       "1  NaN                           NaN              Não   \n",
       "2  NaN                           NaN              Sim   \n",
       "3  NaN                           NaN              Sim   \n",
       "4  NaN                           NaN              Sim   \n",
       "\n",
       "                         f63_  \n",
       "0  2023-02-27 11:52:35.318683  \n",
       "1  2023-02-27 11:52:35.318683  \n",
       "2  2023-02-27 11:52:35.318683  \n",
       "3  2023-02-27 11:52:35.318683  \n",
       "4  2023-02-27 11:52:35.318683  \n",
       "\n",
       "[5 rows x 256 columns]"
      ]
     },
     "execution_count": 41,
     "metadata": {},
     "output_type": "execute_result"
    }
   ],
   "source": [
    "df.head()"
   ]
  },
  {
   "cell_type": "code",
   "execution_count": 42,
   "id": "1bf1cb51",
   "metadata": {},
   "outputs": [
    {
     "name": "stdout",
     "output_type": "stream",
     "text": [
      "<class 'pandas.core.frame.DataFrame'>\n",
      "RangeIndex: 50000 entries, 0 to 49999\n",
      "Columns: 256 entries, base_origem_hp to f63_\n",
      "dtypes: datetime64[ns](4), float64(85), int64(4), object(163)\n",
      "memory usage: 97.7+ MB\n"
     ]
    }
   ],
   "source": [
    "df.info() #Solicitando informações do df"
   ]
  },
  {
   "cell_type": "code",
   "execution_count": 43,
   "id": "f28dd25d",
   "metadata": {},
   "outputs": [
    {
     "data": {
      "text/plain": [
       "base_origem_hp                    6271\n",
       "last_update_hp                    6271\n",
       "id_hp_survey                      6271\n",
       "no_viabilidade_hp                 6271\n",
       "ds_estacao_abastecedora_hp        6272\n",
       "                                 ...  \n",
       "f61_                             50000\n",
       "f62_                             50000\n",
       "matricula_tecnico_desbloqueio    50000\n",
       "ic_venda_valida                      0\n",
       "f63_                                 0\n",
       "Length: 256, dtype: int64"
      ]
     },
     "execution_count": 43,
     "metadata": {},
     "output_type": "execute_result"
    }
   ],
   "source": [
    "df.isnull().sum() #Consultando celulas vazias por coluna"
   ]
  },
  {
   "cell_type": "code",
   "execution_count": 44,
   "id": "a1df51b5",
   "metadata": {},
   "outputs": [
    {
     "data": {
      "text/html": [
       "<div>\n",
       "<style scoped>\n",
       "    .dataframe tbody tr th:only-of-type {\n",
       "        vertical-align: middle;\n",
       "    }\n",
       "\n",
       "    .dataframe tbody tr th {\n",
       "        vertical-align: top;\n",
       "    }\n",
       "\n",
       "    .dataframe thead th {\n",
       "        text-align: right;\n",
       "    }\n",
       "</style>\n",
       "<table border=\"1\" class=\"dataframe\">\n",
       "  <thead>\n",
       "    <tr style=\"text-align: right;\">\n",
       "      <th></th>\n",
       "      <th>base_origem_hp</th>\n",
       "      <th>last_update_hp</th>\n",
       "      <th>id_hp_survey</th>\n",
       "      <th>no_viabilidade_hp</th>\n",
       "      <th>ds_estacao_abastecedora_hp</th>\n",
       "      <th>cd_tipo_survey_hp</th>\n",
       "      <th>hc_max</th>\n",
       "      <th>ds_uf_hp</th>\n",
       "      <th>ds_municipio_hp</th>\n",
       "      <th>nu_id_endereco_hp</th>\n",
       "      <th>...</th>\n",
       "      <th>tipo_ordem_desbloqueio</th>\n",
       "      <th>status_ordem_desbloqueio</th>\n",
       "      <th>f53_</th>\n",
       "      <th>f54_</th>\n",
       "      <th>f55_</th>\n",
       "      <th>cd_pendencia_desbloqueio</th>\n",
       "      <th>ds_pendencia_desbloqueio</th>\n",
       "      <th>tipo_pendencia_desbloqueio</th>\n",
       "      <th>ic_venda_valida</th>\n",
       "      <th>f63_</th>\n",
       "    </tr>\n",
       "  </thead>\n",
       "  <tbody>\n",
       "    <tr>\n",
       "      <th>0</th>\n",
       "      <td>NaN</td>\n",
       "      <td>NaT</td>\n",
       "      <td>NaN</td>\n",
       "      <td>NaN</td>\n",
       "      <td>NaN</td>\n",
       "      <td>NaN</td>\n",
       "      <td>NaN</td>\n",
       "      <td>NaN</td>\n",
       "      <td>NaN</td>\n",
       "      <td>NaN</td>\n",
       "      <td>...</td>\n",
       "      <td>NaN</td>\n",
       "      <td>NaN</td>\n",
       "      <td>NaN</td>\n",
       "      <td>NaN</td>\n",
       "      <td>NaN</td>\n",
       "      <td>NaN</td>\n",
       "      <td>NaN</td>\n",
       "      <td>NaN</td>\n",
       "      <td>Sim</td>\n",
       "      <td>2023-02-27 11:52:35.318683</td>\n",
       "    </tr>\n",
       "    <tr>\n",
       "      <th>1</th>\n",
       "      <td>NaN</td>\n",
       "      <td>NaT</td>\n",
       "      <td>NaN</td>\n",
       "      <td>NaN</td>\n",
       "      <td>NaN</td>\n",
       "      <td>NaN</td>\n",
       "      <td>NaN</td>\n",
       "      <td>NaN</td>\n",
       "      <td>NaN</td>\n",
       "      <td>NaN</td>\n",
       "      <td>...</td>\n",
       "      <td>NaN</td>\n",
       "      <td>NaN</td>\n",
       "      <td>NaN</td>\n",
       "      <td>NaN</td>\n",
       "      <td>NaN</td>\n",
       "      <td>NaN</td>\n",
       "      <td>NaN</td>\n",
       "      <td>NaN</td>\n",
       "      <td>Não</td>\n",
       "      <td>2023-02-27 11:52:35.318683</td>\n",
       "    </tr>\n",
       "    <tr>\n",
       "      <th>2</th>\n",
       "      <td>NaN</td>\n",
       "      <td>NaT</td>\n",
       "      <td>NaN</td>\n",
       "      <td>NaN</td>\n",
       "      <td>NaN</td>\n",
       "      <td>NaN</td>\n",
       "      <td>NaN</td>\n",
       "      <td>NaN</td>\n",
       "      <td>NaN</td>\n",
       "      <td>NaN</td>\n",
       "      <td>...</td>\n",
       "      <td>NaN</td>\n",
       "      <td>NaN</td>\n",
       "      <td>NaN</td>\n",
       "      <td>NaN</td>\n",
       "      <td>NaN</td>\n",
       "      <td>NaN</td>\n",
       "      <td>NaN</td>\n",
       "      <td>NaN</td>\n",
       "      <td>Sim</td>\n",
       "      <td>2023-02-27 11:52:35.318683</td>\n",
       "    </tr>\n",
       "    <tr>\n",
       "      <th>3</th>\n",
       "      <td>NaN</td>\n",
       "      <td>NaT</td>\n",
       "      <td>NaN</td>\n",
       "      <td>NaN</td>\n",
       "      <td>NaN</td>\n",
       "      <td>NaN</td>\n",
       "      <td>NaN</td>\n",
       "      <td>NaN</td>\n",
       "      <td>NaN</td>\n",
       "      <td>NaN</td>\n",
       "      <td>...</td>\n",
       "      <td>NaN</td>\n",
       "      <td>NaN</td>\n",
       "      <td>NaN</td>\n",
       "      <td>NaN</td>\n",
       "      <td>NaN</td>\n",
       "      <td>NaN</td>\n",
       "      <td>NaN</td>\n",
       "      <td>NaN</td>\n",
       "      <td>Sim</td>\n",
       "      <td>2023-02-27 11:52:35.318683</td>\n",
       "    </tr>\n",
       "    <tr>\n",
       "      <th>4</th>\n",
       "      <td>NaN</td>\n",
       "      <td>NaT</td>\n",
       "      <td>NaN</td>\n",
       "      <td>NaN</td>\n",
       "      <td>NaN</td>\n",
       "      <td>NaN</td>\n",
       "      <td>NaN</td>\n",
       "      <td>NaN</td>\n",
       "      <td>NaN</td>\n",
       "      <td>NaN</td>\n",
       "      <td>...</td>\n",
       "      <td>NaN</td>\n",
       "      <td>NaN</td>\n",
       "      <td>NaN</td>\n",
       "      <td>NaN</td>\n",
       "      <td>NaN</td>\n",
       "      <td>NaN</td>\n",
       "      <td>NaN</td>\n",
       "      <td>NaN</td>\n",
       "      <td>Sim</td>\n",
       "      <td>2023-02-27 11:52:35.318683</td>\n",
       "    </tr>\n",
       "    <tr>\n",
       "      <th>...</th>\n",
       "      <td>...</td>\n",
       "      <td>...</td>\n",
       "      <td>...</td>\n",
       "      <td>...</td>\n",
       "      <td>...</td>\n",
       "      <td>...</td>\n",
       "      <td>...</td>\n",
       "      <td>...</td>\n",
       "      <td>...</td>\n",
       "      <td>...</td>\n",
       "      <td>...</td>\n",
       "      <td>...</td>\n",
       "      <td>...</td>\n",
       "      <td>...</td>\n",
       "      <td>...</td>\n",
       "      <td>...</td>\n",
       "      <td>...</td>\n",
       "      <td>...</td>\n",
       "      <td>...</td>\n",
       "      <td>...</td>\n",
       "      <td>...</td>\n",
       "    </tr>\n",
       "    <tr>\n",
       "      <th>49995</th>\n",
       "      <td>vtal-data-lake.raw.stg_netwin_exp_enderecos_to...</td>\n",
       "      <td>2023-02-27</td>\n",
       "      <td>R305949</td>\n",
       "      <td>Viável</td>\n",
       "      <td>NLP</td>\n",
       "      <td>EDIFICACAO COMPLETA</td>\n",
       "      <td>2.0</td>\n",
       "      <td>RJ</td>\n",
       "      <td>NILÓPOLIS</td>\n",
       "      <td>3920761.0</td>\n",
       "      <td>...</td>\n",
       "      <td>FIBRA_DESBLOQUEIO_ORDEM</td>\n",
       "      <td>COMPLETED</td>\n",
       "      <td>2022-12-05 20:45:45+00</td>\n",
       "      <td>2022-12-05 20:45:45+00</td>\n",
       "      <td>2022-12-05 20:46:13+00</td>\n",
       "      <td>NaN</td>\n",
       "      <td>NaN</td>\n",
       "      <td>NaN</td>\n",
       "      <td>Sim</td>\n",
       "      <td>2023-02-27 11:52:35.318683</td>\n",
       "    </tr>\n",
       "    <tr>\n",
       "      <th>49996</th>\n",
       "      <td>vtal-data-lake.raw.stg_netwin_exp_enderecos_to...</td>\n",
       "      <td>2023-02-27</td>\n",
       "      <td>W324958</td>\n",
       "      <td>Viável</td>\n",
       "      <td>RSL</td>\n",
       "      <td>MORADIA</td>\n",
       "      <td>1.0</td>\n",
       "      <td>SC</td>\n",
       "      <td>RIO DO SUL</td>\n",
       "      <td>48717126.0</td>\n",
       "      <td>...</td>\n",
       "      <td>NaN</td>\n",
       "      <td>NaN</td>\n",
       "      <td>NaN</td>\n",
       "      <td>NaN</td>\n",
       "      <td>NaN</td>\n",
       "      <td>NaN</td>\n",
       "      <td>NaN</td>\n",
       "      <td>NaN</td>\n",
       "      <td>Sim</td>\n",
       "      <td>2023-02-27 11:52:35.318683</td>\n",
       "    </tr>\n",
       "    <tr>\n",
       "      <th>49997</th>\n",
       "      <td>vtal-data-lake.raw.stg_netwin_exp_enderecos_to...</td>\n",
       "      <td>2023-02-27</td>\n",
       "      <td>T1344496</td>\n",
       "      <td>Viável</td>\n",
       "      <td>IJI</td>\n",
       "      <td>MORADIA</td>\n",
       "      <td>1.0</td>\n",
       "      <td>RS</td>\n",
       "      <td>IJUÍ</td>\n",
       "      <td>66617362.0</td>\n",
       "      <td>...</td>\n",
       "      <td>FIBRA_DESBLOQUEIO_ORDEM</td>\n",
       "      <td>COMPLETED</td>\n",
       "      <td>2022-08-23 17:33:53+00</td>\n",
       "      <td>2022-08-23 17:33:53+00</td>\n",
       "      <td>2022-08-23 17:34:21+00</td>\n",
       "      <td>NaN</td>\n",
       "      <td>NaN</td>\n",
       "      <td>NaN</td>\n",
       "      <td>Sim</td>\n",
       "      <td>2023-02-27 11:52:35.318683</td>\n",
       "    </tr>\n",
       "    <tr>\n",
       "      <th>49998</th>\n",
       "      <td>vtal-data-lake.raw.stg_netwin_exp_enderecos_to...</td>\n",
       "      <td>2023-02-27</td>\n",
       "      <td>I158513</td>\n",
       "      <td>Viável</td>\n",
       "      <td>SIS</td>\n",
       "      <td>MORADIA</td>\n",
       "      <td>1.0</td>\n",
       "      <td>MA</td>\n",
       "      <td>SANTA INÊS</td>\n",
       "      <td>28036488.0</td>\n",
       "      <td>...</td>\n",
       "      <td>FIBRA_DESBLOQUEIO_ORDEM</td>\n",
       "      <td>COMPLETED</td>\n",
       "      <td>2022-08-20 05:59:07+00</td>\n",
       "      <td>2022-08-20 05:59:07+00</td>\n",
       "      <td>2022-08-20 05:59:25+00</td>\n",
       "      <td>NaN</td>\n",
       "      <td>NaN</td>\n",
       "      <td>NaN</td>\n",
       "      <td>Sim</td>\n",
       "      <td>2023-02-27 11:52:35.318683</td>\n",
       "    </tr>\n",
       "    <tr>\n",
       "      <th>49999</th>\n",
       "      <td>vtal-data-lake.raw.stg_netwin_exp_enderecos_to...</td>\n",
       "      <td>2023-02-27</td>\n",
       "      <td>L675112</td>\n",
       "      <td>Viável</td>\n",
       "      <td>SLA</td>\n",
       "      <td>MORADIA</td>\n",
       "      <td>1.0</td>\n",
       "      <td>MG</td>\n",
       "      <td>SETE LAGOAS</td>\n",
       "      <td>17861677.0</td>\n",
       "      <td>...</td>\n",
       "      <td>FIBRA_DESBLOQUEIO_ORDEM</td>\n",
       "      <td>COMPLETED</td>\n",
       "      <td>2022-11-29 14:15:01+00</td>\n",
       "      <td>2022-11-29 14:15:01+00</td>\n",
       "      <td>2022-11-29 14:15:31+00</td>\n",
       "      <td>NaN</td>\n",
       "      <td>NaN</td>\n",
       "      <td>NaN</td>\n",
       "      <td>Sim</td>\n",
       "      <td>2023-02-27 11:52:35.318683</td>\n",
       "    </tr>\n",
       "  </tbody>\n",
       "</table>\n",
       "<p>50000 rows × 202 columns</p>\n",
       "</div>"
      ],
      "text/plain": [
       "                                          base_origem_hp last_update_hp  \\\n",
       "0                                                    NaN            NaT   \n",
       "1                                                    NaN            NaT   \n",
       "2                                                    NaN            NaT   \n",
       "3                                                    NaN            NaT   \n",
       "4                                                    NaN            NaT   \n",
       "...                                                  ...            ...   \n",
       "49995  vtal-data-lake.raw.stg_netwin_exp_enderecos_to...     2023-02-27   \n",
       "49996  vtal-data-lake.raw.stg_netwin_exp_enderecos_to...     2023-02-27   \n",
       "49997  vtal-data-lake.raw.stg_netwin_exp_enderecos_to...     2023-02-27   \n",
       "49998  vtal-data-lake.raw.stg_netwin_exp_enderecos_to...     2023-02-27   \n",
       "49999  vtal-data-lake.raw.stg_netwin_exp_enderecos_to...     2023-02-27   \n",
       "\n",
       "      id_hp_survey no_viabilidade_hp ds_estacao_abastecedora_hp  \\\n",
       "0              NaN               NaN                        NaN   \n",
       "1              NaN               NaN                        NaN   \n",
       "2              NaN               NaN                        NaN   \n",
       "3              NaN               NaN                        NaN   \n",
       "4              NaN               NaN                        NaN   \n",
       "...            ...               ...                        ...   \n",
       "49995      R305949            Viável                        NLP   \n",
       "49996      W324958            Viável                        RSL   \n",
       "49997     T1344496            Viável                        IJI   \n",
       "49998      I158513            Viável                        SIS   \n",
       "49999      L675112            Viável                        SLA   \n",
       "\n",
       "         cd_tipo_survey_hp  hc_max ds_uf_hp ds_municipio_hp  \\\n",
       "0                      NaN     NaN      NaN             NaN   \n",
       "1                      NaN     NaN      NaN             NaN   \n",
       "2                      NaN     NaN      NaN             NaN   \n",
       "3                      NaN     NaN      NaN             NaN   \n",
       "4                      NaN     NaN      NaN             NaN   \n",
       "...                    ...     ...      ...             ...   \n",
       "49995  EDIFICACAO COMPLETA     2.0       RJ       NILÓPOLIS   \n",
       "49996              MORADIA     1.0       SC      RIO DO SUL   \n",
       "49997              MORADIA     1.0       RS            IJUÍ   \n",
       "49998              MORADIA     1.0       MA      SANTA INÊS   \n",
       "49999              MORADIA     1.0       MG     SETE LAGOAS   \n",
       "\n",
       "       nu_id_endereco_hp  ...   tipo_ordem_desbloqueio  \\\n",
       "0                    NaN  ...                      NaN   \n",
       "1                    NaN  ...                      NaN   \n",
       "2                    NaN  ...                      NaN   \n",
       "3                    NaN  ...                      NaN   \n",
       "4                    NaN  ...                      NaN   \n",
       "...                  ...  ...                      ...   \n",
       "49995          3920761.0  ...  FIBRA_DESBLOQUEIO_ORDEM   \n",
       "49996         48717126.0  ...                      NaN   \n",
       "49997         66617362.0  ...  FIBRA_DESBLOQUEIO_ORDEM   \n",
       "49998         28036488.0  ...  FIBRA_DESBLOQUEIO_ORDEM   \n",
       "49999         17861677.0  ...  FIBRA_DESBLOQUEIO_ORDEM   \n",
       "\n",
       "      status_ordem_desbloqueio                    f53_  \\\n",
       "0                          NaN                     NaN   \n",
       "1                          NaN                     NaN   \n",
       "2                          NaN                     NaN   \n",
       "3                          NaN                     NaN   \n",
       "4                          NaN                     NaN   \n",
       "...                        ...                     ...   \n",
       "49995                COMPLETED  2022-12-05 20:45:45+00   \n",
       "49996                      NaN                     NaN   \n",
       "49997                COMPLETED  2022-08-23 17:33:53+00   \n",
       "49998                COMPLETED  2022-08-20 05:59:07+00   \n",
       "49999                COMPLETED  2022-11-29 14:15:01+00   \n",
       "\n",
       "                         f54_                    f55_  \\\n",
       "0                         NaN                     NaN   \n",
       "1                         NaN                     NaN   \n",
       "2                         NaN                     NaN   \n",
       "3                         NaN                     NaN   \n",
       "4                         NaN                     NaN   \n",
       "...                       ...                     ...   \n",
       "49995  2022-12-05 20:45:45+00  2022-12-05 20:46:13+00   \n",
       "49996                     NaN                     NaN   \n",
       "49997  2022-08-23 17:33:53+00  2022-08-23 17:34:21+00   \n",
       "49998  2022-08-20 05:59:07+00  2022-08-20 05:59:25+00   \n",
       "49999  2022-11-29 14:15:01+00  2022-11-29 14:15:31+00   \n",
       "\n",
       "      cd_pendencia_desbloqueio ds_pendencia_desbloqueio  \\\n",
       "0                          NaN                      NaN   \n",
       "1                          NaN                      NaN   \n",
       "2                          NaN                      NaN   \n",
       "3                          NaN                      NaN   \n",
       "4                          NaN                      NaN   \n",
       "...                        ...                      ...   \n",
       "49995                      NaN                      NaN   \n",
       "49996                      NaN                      NaN   \n",
       "49997                      NaN                      NaN   \n",
       "49998                      NaN                      NaN   \n",
       "49999                      NaN                      NaN   \n",
       "\n",
       "      tipo_pendencia_desbloqueio  ic_venda_valida                        f63_  \n",
       "0                            NaN              Sim  2023-02-27 11:52:35.318683  \n",
       "1                            NaN              Não  2023-02-27 11:52:35.318683  \n",
       "2                            NaN              Sim  2023-02-27 11:52:35.318683  \n",
       "3                            NaN              Sim  2023-02-27 11:52:35.318683  \n",
       "4                            NaN              Sim  2023-02-27 11:52:35.318683  \n",
       "...                          ...              ...                         ...  \n",
       "49995                        NaN              Sim  2023-02-27 11:52:35.318683  \n",
       "49996                        NaN              Sim  2023-02-27 11:52:35.318683  \n",
       "49997                        NaN              Sim  2023-02-27 11:52:35.318683  \n",
       "49998                        NaN              Sim  2023-02-27 11:52:35.318683  \n",
       "49999                        NaN              Sim  2023-02-27 11:52:35.318683  \n",
       "\n",
       "[50000 rows x 202 columns]"
      ]
     },
     "execution_count": 44,
     "metadata": {},
     "output_type": "execute_result"
    }
   ],
   "source": [
    "df.dropna(axis = 1, how = 'all') #Removendo colunas completamente vazias"
   ]
  },
  {
   "cell_type": "markdown",
   "id": "ce883cbf",
   "metadata": {},
   "source": [
    "#### 54 colunas foram removidas."
   ]
  },
  {
   "cell_type": "code",
   "execution_count": 45,
   "id": "535246b7",
   "metadata": {},
   "outputs": [
    {
     "data": {
      "text/plain": [
       "base_origem_hp                    6271\n",
       "last_update_hp                    6271\n",
       "id_hp_survey                      6271\n",
       "no_viabilidade_hp                 6271\n",
       "ds_estacao_abastecedora_hp        6272\n",
       "                                 ...  \n",
       "f61_                             50000\n",
       "f62_                             50000\n",
       "matricula_tecnico_desbloqueio    50000\n",
       "ic_venda_valida                      0\n",
       "f63_                                 0\n",
       "Length: 256, dtype: int64"
      ]
     },
     "execution_count": 45,
     "metadata": {},
     "output_type": "execute_result"
    }
   ],
   "source": [
    "df.isnull().sum()"
   ]
  },
  {
   "cell_type": "code",
   "execution_count": 46,
   "id": "228ed63b",
   "metadata": {},
   "outputs": [
    {
     "data": {
      "text/html": [
       "<div>\n",
       "<style scoped>\n",
       "    .dataframe tbody tr th:only-of-type {\n",
       "        vertical-align: middle;\n",
       "    }\n",
       "\n",
       "    .dataframe tbody tr th {\n",
       "        vertical-align: top;\n",
       "    }\n",
       "\n",
       "    .dataframe thead th {\n",
       "        text-align: right;\n",
       "    }\n",
       "</style>\n",
       "<table border=\"1\" class=\"dataframe\">\n",
       "  <thead>\n",
       "    <tr style=\"text-align: right;\">\n",
       "      <th></th>\n",
       "      <th>base_origem_hp</th>\n",
       "      <th>last_update_hp</th>\n",
       "      <th>id_hp_survey</th>\n",
       "      <th>no_viabilidade_hp</th>\n",
       "      <th>ds_estacao_abastecedora_hp</th>\n",
       "      <th>cd_tipo_survey_hp</th>\n",
       "      <th>hc_max</th>\n",
       "      <th>ds_uf_hp</th>\n",
       "      <th>ds_municipio_hp</th>\n",
       "      <th>nu_id_endereco_hp</th>\n",
       "      <th>...</th>\n",
       "      <th>tipo_ordem_desbloqueio</th>\n",
       "      <th>status_ordem_desbloqueio</th>\n",
       "      <th>f53_</th>\n",
       "      <th>f54_</th>\n",
       "      <th>f55_</th>\n",
       "      <th>cd_pendencia_desbloqueio</th>\n",
       "      <th>ds_pendencia_desbloqueio</th>\n",
       "      <th>tipo_pendencia_desbloqueio</th>\n",
       "      <th>ic_venda_valida</th>\n",
       "      <th>f63_</th>\n",
       "    </tr>\n",
       "  </thead>\n",
       "  <tbody>\n",
       "    <tr>\n",
       "      <th>0</th>\n",
       "      <td>NaN</td>\n",
       "      <td>NaT</td>\n",
       "      <td>NaN</td>\n",
       "      <td>NaN</td>\n",
       "      <td>NaN</td>\n",
       "      <td>NaN</td>\n",
       "      <td>NaN</td>\n",
       "      <td>NaN</td>\n",
       "      <td>NaN</td>\n",
       "      <td>NaN</td>\n",
       "      <td>...</td>\n",
       "      <td>NaN</td>\n",
       "      <td>NaN</td>\n",
       "      <td>NaN</td>\n",
       "      <td>NaN</td>\n",
       "      <td>NaN</td>\n",
       "      <td>NaN</td>\n",
       "      <td>NaN</td>\n",
       "      <td>NaN</td>\n",
       "      <td>Sim</td>\n",
       "      <td>2023-02-27 11:52:35.318683</td>\n",
       "    </tr>\n",
       "    <tr>\n",
       "      <th>1</th>\n",
       "      <td>NaN</td>\n",
       "      <td>NaT</td>\n",
       "      <td>NaN</td>\n",
       "      <td>NaN</td>\n",
       "      <td>NaN</td>\n",
       "      <td>NaN</td>\n",
       "      <td>NaN</td>\n",
       "      <td>NaN</td>\n",
       "      <td>NaN</td>\n",
       "      <td>NaN</td>\n",
       "      <td>...</td>\n",
       "      <td>NaN</td>\n",
       "      <td>NaN</td>\n",
       "      <td>NaN</td>\n",
       "      <td>NaN</td>\n",
       "      <td>NaN</td>\n",
       "      <td>NaN</td>\n",
       "      <td>NaN</td>\n",
       "      <td>NaN</td>\n",
       "      <td>Não</td>\n",
       "      <td>2023-02-27 11:52:35.318683</td>\n",
       "    </tr>\n",
       "    <tr>\n",
       "      <th>2</th>\n",
       "      <td>NaN</td>\n",
       "      <td>NaT</td>\n",
       "      <td>NaN</td>\n",
       "      <td>NaN</td>\n",
       "      <td>NaN</td>\n",
       "      <td>NaN</td>\n",
       "      <td>NaN</td>\n",
       "      <td>NaN</td>\n",
       "      <td>NaN</td>\n",
       "      <td>NaN</td>\n",
       "      <td>...</td>\n",
       "      <td>NaN</td>\n",
       "      <td>NaN</td>\n",
       "      <td>NaN</td>\n",
       "      <td>NaN</td>\n",
       "      <td>NaN</td>\n",
       "      <td>NaN</td>\n",
       "      <td>NaN</td>\n",
       "      <td>NaN</td>\n",
       "      <td>Sim</td>\n",
       "      <td>2023-02-27 11:52:35.318683</td>\n",
       "    </tr>\n",
       "    <tr>\n",
       "      <th>3</th>\n",
       "      <td>NaN</td>\n",
       "      <td>NaT</td>\n",
       "      <td>NaN</td>\n",
       "      <td>NaN</td>\n",
       "      <td>NaN</td>\n",
       "      <td>NaN</td>\n",
       "      <td>NaN</td>\n",
       "      <td>NaN</td>\n",
       "      <td>NaN</td>\n",
       "      <td>NaN</td>\n",
       "      <td>...</td>\n",
       "      <td>NaN</td>\n",
       "      <td>NaN</td>\n",
       "      <td>NaN</td>\n",
       "      <td>NaN</td>\n",
       "      <td>NaN</td>\n",
       "      <td>NaN</td>\n",
       "      <td>NaN</td>\n",
       "      <td>NaN</td>\n",
       "      <td>Sim</td>\n",
       "      <td>2023-02-27 11:52:35.318683</td>\n",
       "    </tr>\n",
       "    <tr>\n",
       "      <th>4</th>\n",
       "      <td>NaN</td>\n",
       "      <td>NaT</td>\n",
       "      <td>NaN</td>\n",
       "      <td>NaN</td>\n",
       "      <td>NaN</td>\n",
       "      <td>NaN</td>\n",
       "      <td>NaN</td>\n",
       "      <td>NaN</td>\n",
       "      <td>NaN</td>\n",
       "      <td>NaN</td>\n",
       "      <td>...</td>\n",
       "      <td>NaN</td>\n",
       "      <td>NaN</td>\n",
       "      <td>NaN</td>\n",
       "      <td>NaN</td>\n",
       "      <td>NaN</td>\n",
       "      <td>NaN</td>\n",
       "      <td>NaN</td>\n",
       "      <td>NaN</td>\n",
       "      <td>Sim</td>\n",
       "      <td>2023-02-27 11:52:35.318683</td>\n",
       "    </tr>\n",
       "    <tr>\n",
       "      <th>...</th>\n",
       "      <td>...</td>\n",
       "      <td>...</td>\n",
       "      <td>...</td>\n",
       "      <td>...</td>\n",
       "      <td>...</td>\n",
       "      <td>...</td>\n",
       "      <td>...</td>\n",
       "      <td>...</td>\n",
       "      <td>...</td>\n",
       "      <td>...</td>\n",
       "      <td>...</td>\n",
       "      <td>...</td>\n",
       "      <td>...</td>\n",
       "      <td>...</td>\n",
       "      <td>...</td>\n",
       "      <td>...</td>\n",
       "      <td>...</td>\n",
       "      <td>...</td>\n",
       "      <td>...</td>\n",
       "      <td>...</td>\n",
       "      <td>...</td>\n",
       "    </tr>\n",
       "    <tr>\n",
       "      <th>49995</th>\n",
       "      <td>vtal-data-lake.raw.stg_netwin_exp_enderecos_to...</td>\n",
       "      <td>2023-02-27</td>\n",
       "      <td>R305949</td>\n",
       "      <td>Viável</td>\n",
       "      <td>NLP</td>\n",
       "      <td>EDIFICACAO COMPLETA</td>\n",
       "      <td>2.0</td>\n",
       "      <td>RJ</td>\n",
       "      <td>NILÓPOLIS</td>\n",
       "      <td>3920761.0</td>\n",
       "      <td>...</td>\n",
       "      <td>FIBRA_DESBLOQUEIO_ORDEM</td>\n",
       "      <td>COMPLETED</td>\n",
       "      <td>2022-12-05 20:45:45+00</td>\n",
       "      <td>2022-12-05 20:45:45+00</td>\n",
       "      <td>2022-12-05 20:46:13+00</td>\n",
       "      <td>NaN</td>\n",
       "      <td>NaN</td>\n",
       "      <td>NaN</td>\n",
       "      <td>Sim</td>\n",
       "      <td>2023-02-27 11:52:35.318683</td>\n",
       "    </tr>\n",
       "    <tr>\n",
       "      <th>49996</th>\n",
       "      <td>vtal-data-lake.raw.stg_netwin_exp_enderecos_to...</td>\n",
       "      <td>2023-02-27</td>\n",
       "      <td>W324958</td>\n",
       "      <td>Viável</td>\n",
       "      <td>RSL</td>\n",
       "      <td>MORADIA</td>\n",
       "      <td>1.0</td>\n",
       "      <td>SC</td>\n",
       "      <td>RIO DO SUL</td>\n",
       "      <td>48717126.0</td>\n",
       "      <td>...</td>\n",
       "      <td>NaN</td>\n",
       "      <td>NaN</td>\n",
       "      <td>NaN</td>\n",
       "      <td>NaN</td>\n",
       "      <td>NaN</td>\n",
       "      <td>NaN</td>\n",
       "      <td>NaN</td>\n",
       "      <td>NaN</td>\n",
       "      <td>Sim</td>\n",
       "      <td>2023-02-27 11:52:35.318683</td>\n",
       "    </tr>\n",
       "    <tr>\n",
       "      <th>49997</th>\n",
       "      <td>vtal-data-lake.raw.stg_netwin_exp_enderecos_to...</td>\n",
       "      <td>2023-02-27</td>\n",
       "      <td>T1344496</td>\n",
       "      <td>Viável</td>\n",
       "      <td>IJI</td>\n",
       "      <td>MORADIA</td>\n",
       "      <td>1.0</td>\n",
       "      <td>RS</td>\n",
       "      <td>IJUÍ</td>\n",
       "      <td>66617362.0</td>\n",
       "      <td>...</td>\n",
       "      <td>FIBRA_DESBLOQUEIO_ORDEM</td>\n",
       "      <td>COMPLETED</td>\n",
       "      <td>2022-08-23 17:33:53+00</td>\n",
       "      <td>2022-08-23 17:33:53+00</td>\n",
       "      <td>2022-08-23 17:34:21+00</td>\n",
       "      <td>NaN</td>\n",
       "      <td>NaN</td>\n",
       "      <td>NaN</td>\n",
       "      <td>Sim</td>\n",
       "      <td>2023-02-27 11:52:35.318683</td>\n",
       "    </tr>\n",
       "    <tr>\n",
       "      <th>49998</th>\n",
       "      <td>vtal-data-lake.raw.stg_netwin_exp_enderecos_to...</td>\n",
       "      <td>2023-02-27</td>\n",
       "      <td>I158513</td>\n",
       "      <td>Viável</td>\n",
       "      <td>SIS</td>\n",
       "      <td>MORADIA</td>\n",
       "      <td>1.0</td>\n",
       "      <td>MA</td>\n",
       "      <td>SANTA INÊS</td>\n",
       "      <td>28036488.0</td>\n",
       "      <td>...</td>\n",
       "      <td>FIBRA_DESBLOQUEIO_ORDEM</td>\n",
       "      <td>COMPLETED</td>\n",
       "      <td>2022-08-20 05:59:07+00</td>\n",
       "      <td>2022-08-20 05:59:07+00</td>\n",
       "      <td>2022-08-20 05:59:25+00</td>\n",
       "      <td>NaN</td>\n",
       "      <td>NaN</td>\n",
       "      <td>NaN</td>\n",
       "      <td>Sim</td>\n",
       "      <td>2023-02-27 11:52:35.318683</td>\n",
       "    </tr>\n",
       "    <tr>\n",
       "      <th>49999</th>\n",
       "      <td>vtal-data-lake.raw.stg_netwin_exp_enderecos_to...</td>\n",
       "      <td>2023-02-27</td>\n",
       "      <td>L675112</td>\n",
       "      <td>Viável</td>\n",
       "      <td>SLA</td>\n",
       "      <td>MORADIA</td>\n",
       "      <td>1.0</td>\n",
       "      <td>MG</td>\n",
       "      <td>SETE LAGOAS</td>\n",
       "      <td>17861677.0</td>\n",
       "      <td>...</td>\n",
       "      <td>FIBRA_DESBLOQUEIO_ORDEM</td>\n",
       "      <td>COMPLETED</td>\n",
       "      <td>2022-11-29 14:15:01+00</td>\n",
       "      <td>2022-11-29 14:15:01+00</td>\n",
       "      <td>2022-11-29 14:15:31+00</td>\n",
       "      <td>NaN</td>\n",
       "      <td>NaN</td>\n",
       "      <td>NaN</td>\n",
       "      <td>Sim</td>\n",
       "      <td>2023-02-27 11:52:35.318683</td>\n",
       "    </tr>\n",
       "  </tbody>\n",
       "</table>\n",
       "<p>50000 rows × 198 columns</p>\n",
       "</div>"
      ],
      "text/plain": [
       "                                          base_origem_hp last_update_hp  \\\n",
       "0                                                    NaN            NaT   \n",
       "1                                                    NaN            NaT   \n",
       "2                                                    NaN            NaT   \n",
       "3                                                    NaN            NaT   \n",
       "4                                                    NaN            NaT   \n",
       "...                                                  ...            ...   \n",
       "49995  vtal-data-lake.raw.stg_netwin_exp_enderecos_to...     2023-02-27   \n",
       "49996  vtal-data-lake.raw.stg_netwin_exp_enderecos_to...     2023-02-27   \n",
       "49997  vtal-data-lake.raw.stg_netwin_exp_enderecos_to...     2023-02-27   \n",
       "49998  vtal-data-lake.raw.stg_netwin_exp_enderecos_to...     2023-02-27   \n",
       "49999  vtal-data-lake.raw.stg_netwin_exp_enderecos_to...     2023-02-27   \n",
       "\n",
       "      id_hp_survey no_viabilidade_hp ds_estacao_abastecedora_hp  \\\n",
       "0              NaN               NaN                        NaN   \n",
       "1              NaN               NaN                        NaN   \n",
       "2              NaN               NaN                        NaN   \n",
       "3              NaN               NaN                        NaN   \n",
       "4              NaN               NaN                        NaN   \n",
       "...            ...               ...                        ...   \n",
       "49995      R305949            Viável                        NLP   \n",
       "49996      W324958            Viável                        RSL   \n",
       "49997     T1344496            Viável                        IJI   \n",
       "49998      I158513            Viável                        SIS   \n",
       "49999      L675112            Viável                        SLA   \n",
       "\n",
       "         cd_tipo_survey_hp  hc_max ds_uf_hp ds_municipio_hp  \\\n",
       "0                      NaN     NaN      NaN             NaN   \n",
       "1                      NaN     NaN      NaN             NaN   \n",
       "2                      NaN     NaN      NaN             NaN   \n",
       "3                      NaN     NaN      NaN             NaN   \n",
       "4                      NaN     NaN      NaN             NaN   \n",
       "...                    ...     ...      ...             ...   \n",
       "49995  EDIFICACAO COMPLETA     2.0       RJ       NILÓPOLIS   \n",
       "49996              MORADIA     1.0       SC      RIO DO SUL   \n",
       "49997              MORADIA     1.0       RS            IJUÍ   \n",
       "49998              MORADIA     1.0       MA      SANTA INÊS   \n",
       "49999              MORADIA     1.0       MG     SETE LAGOAS   \n",
       "\n",
       "       nu_id_endereco_hp  ...   tipo_ordem_desbloqueio  \\\n",
       "0                    NaN  ...                      NaN   \n",
       "1                    NaN  ...                      NaN   \n",
       "2                    NaN  ...                      NaN   \n",
       "3                    NaN  ...                      NaN   \n",
       "4                    NaN  ...                      NaN   \n",
       "...                  ...  ...                      ...   \n",
       "49995          3920761.0  ...  FIBRA_DESBLOQUEIO_ORDEM   \n",
       "49996         48717126.0  ...                      NaN   \n",
       "49997         66617362.0  ...  FIBRA_DESBLOQUEIO_ORDEM   \n",
       "49998         28036488.0  ...  FIBRA_DESBLOQUEIO_ORDEM   \n",
       "49999         17861677.0  ...  FIBRA_DESBLOQUEIO_ORDEM   \n",
       "\n",
       "      status_ordem_desbloqueio                    f53_  \\\n",
       "0                          NaN                     NaN   \n",
       "1                          NaN                     NaN   \n",
       "2                          NaN                     NaN   \n",
       "3                          NaN                     NaN   \n",
       "4                          NaN                     NaN   \n",
       "...                        ...                     ...   \n",
       "49995                COMPLETED  2022-12-05 20:45:45+00   \n",
       "49996                      NaN                     NaN   \n",
       "49997                COMPLETED  2022-08-23 17:33:53+00   \n",
       "49998                COMPLETED  2022-08-20 05:59:07+00   \n",
       "49999                COMPLETED  2022-11-29 14:15:01+00   \n",
       "\n",
       "                         f54_                    f55_  \\\n",
       "0                         NaN                     NaN   \n",
       "1                         NaN                     NaN   \n",
       "2                         NaN                     NaN   \n",
       "3                         NaN                     NaN   \n",
       "4                         NaN                     NaN   \n",
       "...                       ...                     ...   \n",
       "49995  2022-12-05 20:45:45+00  2022-12-05 20:46:13+00   \n",
       "49996                     NaN                     NaN   \n",
       "49997  2022-08-23 17:33:53+00  2022-08-23 17:34:21+00   \n",
       "49998  2022-08-20 05:59:07+00  2022-08-20 05:59:25+00   \n",
       "49999  2022-11-29 14:15:01+00  2022-11-29 14:15:31+00   \n",
       "\n",
       "      cd_pendencia_desbloqueio ds_pendencia_desbloqueio  \\\n",
       "0                          NaN                      NaN   \n",
       "1                          NaN                      NaN   \n",
       "2                          NaN                      NaN   \n",
       "3                          NaN                      NaN   \n",
       "4                          NaN                      NaN   \n",
       "...                        ...                      ...   \n",
       "49995                      NaN                      NaN   \n",
       "49996                      NaN                      NaN   \n",
       "49997                      NaN                      NaN   \n",
       "49998                      NaN                      NaN   \n",
       "49999                      NaN                      NaN   \n",
       "\n",
       "      tipo_pendencia_desbloqueio  ic_venda_valida                        f63_  \n",
       "0                            NaN              Sim  2023-02-27 11:52:35.318683  \n",
       "1                            NaN              Não  2023-02-27 11:52:35.318683  \n",
       "2                            NaN              Sim  2023-02-27 11:52:35.318683  \n",
       "3                            NaN              Sim  2023-02-27 11:52:35.318683  \n",
       "4                            NaN              Sim  2023-02-27 11:52:35.318683  \n",
       "...                          ...              ...                         ...  \n",
       "49995                        NaN              Sim  2023-02-27 11:52:35.318683  \n",
       "49996                        NaN              Sim  2023-02-27 11:52:35.318683  \n",
       "49997                        NaN              Sim  2023-02-27 11:52:35.318683  \n",
       "49998                        NaN              Sim  2023-02-27 11:52:35.318683  \n",
       "49999                        NaN              Sim  2023-02-27 11:52:35.318683  \n",
       "\n",
       "[50000 rows x 198 columns]"
      ]
     },
     "execution_count": 46,
     "metadata": {},
     "output_type": "execute_result"
    }
   ],
   "source": [
    "df.dropna(axis = 1, thresh = 11) #thresh para remover colunas com apenas 11 numeros"
   ]
  },
  {
   "cell_type": "markdown",
   "id": "d13684c0",
   "metadata": {},
   "source": [
    "Muitos dados em branco e fica dificil utilização da função \"dropna\". Sendo assim crio um df com colunas relevante para seguir com o tratamento de dados."
   ]
  },
  {
   "cell_type": "code",
   "execution_count": 47,
   "id": "4390648b",
   "metadata": {},
   "outputs": [
    {
     "data": {
      "text/html": [
       "<div>\n",
       "<style scoped>\n",
       "    .dataframe tbody tr th:only-of-type {\n",
       "        vertical-align: middle;\n",
       "    }\n",
       "\n",
       "    .dataframe tbody tr th {\n",
       "        vertical-align: top;\n",
       "    }\n",
       "\n",
       "    .dataframe thead th {\n",
       "        text-align: right;\n",
       "    }\n",
       "</style>\n",
       "<table border=\"1\" class=\"dataframe\">\n",
       "  <thead>\n",
       "    <tr style=\"text-align: right;\">\n",
       "      <th></th>\n",
       "      <th>cd_tipo_survey_hp</th>\n",
       "      <th>ic_venda</th>\n",
       "      <th>velocidade_hc</th>\n",
       "      <th>ds_uf_hc</th>\n",
       "      <th>ds_municipio_hc</th>\n",
       "      <th>prestadora_servico</th>\n",
       "      <th>produto</th>\n",
       "      <th>dt_solicitacao</th>\n",
       "      <th>dt_instalacao</th>\n",
       "      <th>status_ordem_instalacao</th>\n",
       "    </tr>\n",
       "  </thead>\n",
       "  <tbody>\n",
       "    <tr>\n",
       "      <th>0</th>\n",
       "      <td>NaN</td>\n",
       "      <td>1</td>\n",
       "      <td>200MBPS</td>\n",
       "      <td>PA</td>\n",
       "      <td>BELÉM</td>\n",
       "      <td>NaN</td>\n",
       "      <td>VELOC_200MBPS</td>\n",
       "      <td>2023-01-15</td>\n",
       "      <td>2999-01-01 00:00:00</td>\n",
       "      <td>CANCELLED</td>\n",
       "    </tr>\n",
       "    <tr>\n",
       "      <th>1</th>\n",
       "      <td>NaN</td>\n",
       "      <td>1</td>\n",
       "      <td>400 MBPS</td>\n",
       "      <td>RS</td>\n",
       "      <td>SANTA MARIA</td>\n",
       "      <td>SEREDE</td>\n",
       "      <td>Dual Play Fibra BL + VoIP</td>\n",
       "      <td>2022-08-09</td>\n",
       "      <td>2999-01-01 00:00:00</td>\n",
       "      <td>CANCELLED</td>\n",
       "    </tr>\n",
       "    <tr>\n",
       "      <th>2</th>\n",
       "      <td>NaN</td>\n",
       "      <td>1</td>\n",
       "      <td>400 MBPS</td>\n",
       "      <td>BA</td>\n",
       "      <td>SALVADOR</td>\n",
       "      <td>CONECTA</td>\n",
       "      <td>Dual Play Fibra BL + VoIP</td>\n",
       "      <td>2022-10-27</td>\n",
       "      <td>2999-01-01 00:00:00</td>\n",
       "      <td>CANCELLED</td>\n",
       "    </tr>\n",
       "    <tr>\n",
       "      <th>3</th>\n",
       "      <td>NaN</td>\n",
       "      <td>1</td>\n",
       "      <td>500 MBPS</td>\n",
       "      <td>PR</td>\n",
       "      <td>CURITIBA</td>\n",
       "      <td>SEREDE</td>\n",
       "      <td>Dual Play Fibra BL + VoIP</td>\n",
       "      <td>2022-11-10</td>\n",
       "      <td>2999-01-01 00:00:00</td>\n",
       "      <td>CANCELLED</td>\n",
       "    </tr>\n",
       "    <tr>\n",
       "      <th>4</th>\n",
       "      <td>NaN</td>\n",
       "      <td>1</td>\n",
       "      <td>400 MBPS</td>\n",
       "      <td>MG</td>\n",
       "      <td>BELO HORIZONTE</td>\n",
       "      <td>TELEMONT</td>\n",
       "      <td>Dual Play Fibra BL + VoIP</td>\n",
       "      <td>2022-10-05</td>\n",
       "      <td>2999-01-01 00:00:00</td>\n",
       "      <td>CANCELLED</td>\n",
       "    </tr>\n",
       "    <tr>\n",
       "      <th>...</th>\n",
       "      <td>...</td>\n",
       "      <td>...</td>\n",
       "      <td>...</td>\n",
       "      <td>...</td>\n",
       "      <td>...</td>\n",
       "      <td>...</td>\n",
       "      <td>...</td>\n",
       "      <td>...</td>\n",
       "      <td>...</td>\n",
       "      <td>...</td>\n",
       "    </tr>\n",
       "    <tr>\n",
       "      <th>49995</th>\n",
       "      <td>EDIFICACAO COMPLETA</td>\n",
       "      <td>1</td>\n",
       "      <td>200 MBPS</td>\n",
       "      <td>RJ</td>\n",
       "      <td>NILÓPOLIS</td>\n",
       "      <td>SEREDE</td>\n",
       "      <td>Dual Play Fibra BL + VoIP</td>\n",
       "      <td>2022-06-03</td>\n",
       "      <td>2022-06-06 00:00:00</td>\n",
       "      <td>COMPLETED</td>\n",
       "    </tr>\n",
       "    <tr>\n",
       "      <th>49996</th>\n",
       "      <td>MORADIA</td>\n",
       "      <td>1</td>\n",
       "      <td>400 MBPS</td>\n",
       "      <td>SC</td>\n",
       "      <td>RIO DO SUL</td>\n",
       "      <td>SEREDE</td>\n",
       "      <td>Dual Play Fibra BL + VoIP</td>\n",
       "      <td>2022-07-01</td>\n",
       "      <td>2022-07-07 00:00:00</td>\n",
       "      <td>COMPLETED</td>\n",
       "    </tr>\n",
       "    <tr>\n",
       "      <th>49997</th>\n",
       "      <td>MORADIA</td>\n",
       "      <td>1</td>\n",
       "      <td>400 MBPS</td>\n",
       "      <td>RS</td>\n",
       "      <td>IJUÍ</td>\n",
       "      <td>SEREDE</td>\n",
       "      <td>Dual Play Fibra BL + VoIP</td>\n",
       "      <td>2022-06-03</td>\n",
       "      <td>2022-06-08 00:00:00</td>\n",
       "      <td>COMPLETED</td>\n",
       "    </tr>\n",
       "    <tr>\n",
       "      <th>49998</th>\n",
       "      <td>MORADIA</td>\n",
       "      <td>1</td>\n",
       "      <td>400 MBPS</td>\n",
       "      <td>MA</td>\n",
       "      <td>SANTA INÊS</td>\n",
       "      <td>CONECTA</td>\n",
       "      <td>Dual Play Fibra BL + VoIP</td>\n",
       "      <td>2022-07-02</td>\n",
       "      <td>2022-07-04 00:00:00</td>\n",
       "      <td>COMPLETED</td>\n",
       "    </tr>\n",
       "    <tr>\n",
       "      <th>49999</th>\n",
       "      <td>MORADIA</td>\n",
       "      <td>1</td>\n",
       "      <td>400 MBPS</td>\n",
       "      <td>MG</td>\n",
       "      <td>SETE LAGOAS</td>\n",
       "      <td>TELEMONT</td>\n",
       "      <td>Dual Play Fibra BL + VoIP</td>\n",
       "      <td>2022-07-07</td>\n",
       "      <td>2022-07-11 00:00:00</td>\n",
       "      <td>COMPLETED</td>\n",
       "    </tr>\n",
       "  </tbody>\n",
       "</table>\n",
       "<p>50000 rows × 10 columns</p>\n",
       "</div>"
      ],
      "text/plain": [
       "         cd_tipo_survey_hp  ic_venda velocidade_hc ds_uf_hc ds_municipio_hc  \\\n",
       "0                      NaN         1       200MBPS       PA           BELÉM   \n",
       "1                      NaN         1      400 MBPS       RS     SANTA MARIA   \n",
       "2                      NaN         1      400 MBPS       BA        SALVADOR   \n",
       "3                      NaN         1      500 MBPS       PR        CURITIBA   \n",
       "4                      NaN         1      400 MBPS       MG  BELO HORIZONTE   \n",
       "...                    ...       ...           ...      ...             ...   \n",
       "49995  EDIFICACAO COMPLETA         1      200 MBPS       RJ       NILÓPOLIS   \n",
       "49996              MORADIA         1      400 MBPS       SC      RIO DO SUL   \n",
       "49997              MORADIA         1      400 MBPS       RS            IJUÍ   \n",
       "49998              MORADIA         1      400 MBPS       MA      SANTA INÊS   \n",
       "49999              MORADIA         1      400 MBPS       MG     SETE LAGOAS   \n",
       "\n",
       "      prestadora_servico                    produto dt_solicitacao  \\\n",
       "0                    NaN              VELOC_200MBPS     2023-01-15   \n",
       "1                 SEREDE  Dual Play Fibra BL + VoIP     2022-08-09   \n",
       "2                CONECTA  Dual Play Fibra BL + VoIP     2022-10-27   \n",
       "3                 SEREDE  Dual Play Fibra BL + VoIP     2022-11-10   \n",
       "4               TELEMONT  Dual Play Fibra BL + VoIP     2022-10-05   \n",
       "...                  ...                        ...            ...   \n",
       "49995             SEREDE  Dual Play Fibra BL + VoIP     2022-06-03   \n",
       "49996             SEREDE  Dual Play Fibra BL + VoIP     2022-07-01   \n",
       "49997             SEREDE  Dual Play Fibra BL + VoIP     2022-06-03   \n",
       "49998            CONECTA  Dual Play Fibra BL + VoIP     2022-07-02   \n",
       "49999           TELEMONT  Dual Play Fibra BL + VoIP     2022-07-07   \n",
       "\n",
       "             dt_instalacao status_ordem_instalacao  \n",
       "0      2999-01-01 00:00:00               CANCELLED  \n",
       "1      2999-01-01 00:00:00               CANCELLED  \n",
       "2      2999-01-01 00:00:00               CANCELLED  \n",
       "3      2999-01-01 00:00:00               CANCELLED  \n",
       "4      2999-01-01 00:00:00               CANCELLED  \n",
       "...                    ...                     ...  \n",
       "49995  2022-06-06 00:00:00               COMPLETED  \n",
       "49996  2022-07-07 00:00:00               COMPLETED  \n",
       "49997  2022-06-08 00:00:00               COMPLETED  \n",
       "49998  2022-07-04 00:00:00               COMPLETED  \n",
       "49999  2022-07-11 00:00:00               COMPLETED  \n",
       "\n",
       "[50000 rows x 10 columns]"
      ]
     },
     "execution_count": 47,
     "metadata": {},
     "output_type": "execute_result"
    }
   ],
   "source": [
    "list_columns = ['cd_tipo_survey_hp', 'ic_venda', 'velocidade_hc', 'ds_uf_hc', 'ds_municipio_hc', 'prestadora_servico', 'produto', 'dt_solicitacao', 'dt_instalacao', 'status_ordem_instalacao']\n",
    "df_analytics = df[list_columns]\n",
    "df_analytics"
   ]
  },
  {
   "cell_type": "code",
   "execution_count": 48,
   "id": "7c70e42f",
   "metadata": {
    "scrolled": true
   },
   "outputs": [
    {
     "data": {
      "text/plain": [
       "cd_tipo_survey_hp          6271\n",
       "ic_venda                      0\n",
       "velocidade_hc               127\n",
       "ds_uf_hc                      0\n",
       "ds_municipio_hc               0\n",
       "prestadora_servico         1267\n",
       "produto                       0\n",
       "dt_solicitacao                0\n",
       "dt_instalacao               145\n",
       "status_ordem_instalacao       0\n",
       "dtype: int64"
      ]
     },
     "execution_count": 48,
     "metadata": {},
     "output_type": "execute_result"
    }
   ],
   "source": [
    "df_analytics.isnull().sum()"
   ]
  },
  {
   "cell_type": "markdown",
   "id": "715e211c",
   "metadata": {},
   "source": [
    "\n",
    "## Tratamento de Dados\r\n",
    "\r\n",
    "Como visto na função `isnull().sum()`, ainda temos algumas células vazias. Agora, preciso explicar as hipóteses levantadas que justificaram o tratamento dos dados por meio da exclusão das linhas com células vazias e a aplicação de um filtro para o status de instalação `\"COMPLETED\"`.\r\n",
    "\r\n",
    "### Hipótese 1\r\n",
    "No pior dos casos, se considerarmos que as linhas não convergem entre si, ainda assim o número de células vazias é muito menor que o número total de linhas. Portanto, foi considerado que sua exclusão não impacta significativamente a análise das amostras. Além disso, completar esses dados com valores aleatórios ou fazer a interpolação seria um processo trabalhoso que, provavelmente, não traria resultados tão significativos.\r\n",
    "\r\n",
    "### Hipótese 2\r\n",
    "Não posso considerar os dados de empresas que não possuem o status de instalação `\"COMPLETED\"`. Dessa forma, registros com status `\"CANCELLED\"` são descartados, pois o serviço não foi prestado, e o status `\"IN_PROGRESS\"` não me garante que o serviço não será cancelado antes de sua conclusão, como, por exemplo, a equipe chegar ao local para a instalação.\r\n",
    "\r\n",
    "---\r\n",
    "\r\n",
    "Com isso, optei por excluir as linhas com células vazias e aplicar um filtro na coluna `Status_Instalação` para manter apenas os registros com o status `\"PLETED\"`.\r\n",
    "\n",
    "\n"
   ]
  },
  {
   "cell_type": "code",
   "execution_count": 49,
   "id": "c50a654d",
   "metadata": {},
   "outputs": [
    {
     "data": {
      "text/html": [
       "<div>\n",
       "<style scoped>\n",
       "    .dataframe tbody tr th:only-of-type {\n",
       "        vertical-align: middle;\n",
       "    }\n",
       "\n",
       "    .dataframe tbody tr th {\n",
       "        vertical-align: top;\n",
       "    }\n",
       "\n",
       "    .dataframe thead th {\n",
       "        text-align: right;\n",
       "    }\n",
       "</style>\n",
       "<table border=\"1\" class=\"dataframe\">\n",
       "  <thead>\n",
       "    <tr style=\"text-align: right;\">\n",
       "      <th></th>\n",
       "      <th>cd_tipo_survey_hp</th>\n",
       "      <th>ic_venda</th>\n",
       "      <th>velocidade_hc</th>\n",
       "      <th>ds_uf_hc</th>\n",
       "      <th>ds_municipio_hc</th>\n",
       "      <th>prestadora_servico</th>\n",
       "      <th>produto</th>\n",
       "      <th>dt_solicitacao</th>\n",
       "      <th>dt_instalacao</th>\n",
       "      <th>status_ordem_instalacao</th>\n",
       "    </tr>\n",
       "  </thead>\n",
       "  <tbody>\n",
       "    <tr>\n",
       "      <th>1437</th>\n",
       "      <td>MORADIA</td>\n",
       "      <td>0</td>\n",
       "      <td>400 MBPS</td>\n",
       "      <td>RO</td>\n",
       "      <td>JARU</td>\n",
       "      <td>TELEMONT</td>\n",
       "      <td>Dual Play Fibra BL + VoIP</td>\n",
       "      <td>2022-12-06</td>\n",
       "      <td>2999-01-01 00:00:00</td>\n",
       "      <td>CANCELLED</td>\n",
       "    </tr>\n",
       "    <tr>\n",
       "      <th>1439</th>\n",
       "      <td>MORADIA</td>\n",
       "      <td>0</td>\n",
       "      <td>400 MBPS</td>\n",
       "      <td>MG</td>\n",
       "      <td>UBÁ</td>\n",
       "      <td>TELEMONT</td>\n",
       "      <td>Dual Play Fibra BL + VoIP</td>\n",
       "      <td>2022-10-11</td>\n",
       "      <td>2999-01-01 00:00:00</td>\n",
       "      <td>CANCELLED</td>\n",
       "    </tr>\n",
       "    <tr>\n",
       "      <th>1440</th>\n",
       "      <td>MORADIA</td>\n",
       "      <td>0</td>\n",
       "      <td>400 MBPS</td>\n",
       "      <td>MG</td>\n",
       "      <td>UBÁ</td>\n",
       "      <td>TELEMONT</td>\n",
       "      <td>Dual Play Fibra BL + VoIP</td>\n",
       "      <td>2022-10-28</td>\n",
       "      <td>2999-01-01 00:00:00</td>\n",
       "      <td>CANCELLED</td>\n",
       "    </tr>\n",
       "    <tr>\n",
       "      <th>1441</th>\n",
       "      <td>MORADIA</td>\n",
       "      <td>1</td>\n",
       "      <td>500 MBPS</td>\n",
       "      <td>MG</td>\n",
       "      <td>UBÁ</td>\n",
       "      <td>TELEMONT</td>\n",
       "      <td>Dual Play Fibra BL + VoIP</td>\n",
       "      <td>2022-11-11</td>\n",
       "      <td>2999-01-01 00:00:00</td>\n",
       "      <td>CANCELLED</td>\n",
       "    </tr>\n",
       "    <tr>\n",
       "      <th>1442</th>\n",
       "      <td>MORADIA</td>\n",
       "      <td>0</td>\n",
       "      <td>400 MBPS</td>\n",
       "      <td>RS</td>\n",
       "      <td>BAGÉ</td>\n",
       "      <td>SEREDE</td>\n",
       "      <td>Dual Play Fibra BL + VoIP</td>\n",
       "      <td>2023-02-08</td>\n",
       "      <td>2999-01-01 00:00:00</td>\n",
       "      <td>CANCELLED</td>\n",
       "    </tr>\n",
       "    <tr>\n",
       "      <th>...</th>\n",
       "      <td>...</td>\n",
       "      <td>...</td>\n",
       "      <td>...</td>\n",
       "      <td>...</td>\n",
       "      <td>...</td>\n",
       "      <td>...</td>\n",
       "      <td>...</td>\n",
       "      <td>...</td>\n",
       "      <td>...</td>\n",
       "      <td>...</td>\n",
       "    </tr>\n",
       "    <tr>\n",
       "      <th>49995</th>\n",
       "      <td>EDIFICACAO COMPLETA</td>\n",
       "      <td>1</td>\n",
       "      <td>200 MBPS</td>\n",
       "      <td>RJ</td>\n",
       "      <td>NILÓPOLIS</td>\n",
       "      <td>SEREDE</td>\n",
       "      <td>Dual Play Fibra BL + VoIP</td>\n",
       "      <td>2022-06-03</td>\n",
       "      <td>2022-06-06 00:00:00</td>\n",
       "      <td>COMPLETED</td>\n",
       "    </tr>\n",
       "    <tr>\n",
       "      <th>49996</th>\n",
       "      <td>MORADIA</td>\n",
       "      <td>1</td>\n",
       "      <td>400 MBPS</td>\n",
       "      <td>SC</td>\n",
       "      <td>RIO DO SUL</td>\n",
       "      <td>SEREDE</td>\n",
       "      <td>Dual Play Fibra BL + VoIP</td>\n",
       "      <td>2022-07-01</td>\n",
       "      <td>2022-07-07 00:00:00</td>\n",
       "      <td>COMPLETED</td>\n",
       "    </tr>\n",
       "    <tr>\n",
       "      <th>49997</th>\n",
       "      <td>MORADIA</td>\n",
       "      <td>1</td>\n",
       "      <td>400 MBPS</td>\n",
       "      <td>RS</td>\n",
       "      <td>IJUÍ</td>\n",
       "      <td>SEREDE</td>\n",
       "      <td>Dual Play Fibra BL + VoIP</td>\n",
       "      <td>2022-06-03</td>\n",
       "      <td>2022-06-08 00:00:00</td>\n",
       "      <td>COMPLETED</td>\n",
       "    </tr>\n",
       "    <tr>\n",
       "      <th>49998</th>\n",
       "      <td>MORADIA</td>\n",
       "      <td>1</td>\n",
       "      <td>400 MBPS</td>\n",
       "      <td>MA</td>\n",
       "      <td>SANTA INÊS</td>\n",
       "      <td>CONECTA</td>\n",
       "      <td>Dual Play Fibra BL + VoIP</td>\n",
       "      <td>2022-07-02</td>\n",
       "      <td>2022-07-04 00:00:00</td>\n",
       "      <td>COMPLETED</td>\n",
       "    </tr>\n",
       "    <tr>\n",
       "      <th>49999</th>\n",
       "      <td>MORADIA</td>\n",
       "      <td>1</td>\n",
       "      <td>400 MBPS</td>\n",
       "      <td>MG</td>\n",
       "      <td>SETE LAGOAS</td>\n",
       "      <td>TELEMONT</td>\n",
       "      <td>Dual Play Fibra BL + VoIP</td>\n",
       "      <td>2022-07-07</td>\n",
       "      <td>2022-07-11 00:00:00</td>\n",
       "      <td>COMPLETED</td>\n",
       "    </tr>\n",
       "  </tbody>\n",
       "</table>\n",
       "<p>42958 rows × 10 columns</p>\n",
       "</div>"
      ],
      "text/plain": [
       "         cd_tipo_survey_hp  ic_venda velocidade_hc ds_uf_hc ds_municipio_hc  \\\n",
       "1437               MORADIA         0      400 MBPS       RO            JARU   \n",
       "1439               MORADIA         0      400 MBPS       MG             UBÁ   \n",
       "1440               MORADIA         0      400 MBPS       MG             UBÁ   \n",
       "1441               MORADIA         1      500 MBPS       MG             UBÁ   \n",
       "1442               MORADIA         0      400 MBPS       RS            BAGÉ   \n",
       "...                    ...       ...           ...      ...             ...   \n",
       "49995  EDIFICACAO COMPLETA         1      200 MBPS       RJ       NILÓPOLIS   \n",
       "49996              MORADIA         1      400 MBPS       SC      RIO DO SUL   \n",
       "49997              MORADIA         1      400 MBPS       RS            IJUÍ   \n",
       "49998              MORADIA         1      400 MBPS       MA      SANTA INÊS   \n",
       "49999              MORADIA         1      400 MBPS       MG     SETE LAGOAS   \n",
       "\n",
       "      prestadora_servico                    produto dt_solicitacao  \\\n",
       "1437            TELEMONT  Dual Play Fibra BL + VoIP     2022-12-06   \n",
       "1439            TELEMONT  Dual Play Fibra BL + VoIP     2022-10-11   \n",
       "1440            TELEMONT  Dual Play Fibra BL + VoIP     2022-10-28   \n",
       "1441            TELEMONT  Dual Play Fibra BL + VoIP     2022-11-11   \n",
       "1442              SEREDE  Dual Play Fibra BL + VoIP     2023-02-08   \n",
       "...                  ...                        ...            ...   \n",
       "49995             SEREDE  Dual Play Fibra BL + VoIP     2022-06-03   \n",
       "49996             SEREDE  Dual Play Fibra BL + VoIP     2022-07-01   \n",
       "49997             SEREDE  Dual Play Fibra BL + VoIP     2022-06-03   \n",
       "49998            CONECTA  Dual Play Fibra BL + VoIP     2022-07-02   \n",
       "49999           TELEMONT  Dual Play Fibra BL + VoIP     2022-07-07   \n",
       "\n",
       "             dt_instalacao status_ordem_instalacao  \n",
       "1437   2999-01-01 00:00:00               CANCELLED  \n",
       "1439   2999-01-01 00:00:00               CANCELLED  \n",
       "1440   2999-01-01 00:00:00               CANCELLED  \n",
       "1441   2999-01-01 00:00:00               CANCELLED  \n",
       "1442   2999-01-01 00:00:00               CANCELLED  \n",
       "...                    ...                     ...  \n",
       "49995  2022-06-06 00:00:00               COMPLETED  \n",
       "49996  2022-07-07 00:00:00               COMPLETED  \n",
       "49997  2022-06-08 00:00:00               COMPLETED  \n",
       "49998  2022-07-04 00:00:00               COMPLETED  \n",
       "49999  2022-07-11 00:00:00               COMPLETED  \n",
       "\n",
       "[42958 rows x 10 columns]"
      ]
     },
     "execution_count": 49,
     "metadata": {},
     "output_type": "execute_result"
    }
   ],
   "source": [
    "df_analytics = df_analytics.dropna(axis=0)#Remolvo as linhas vazias que contem celulas vazias\n",
    "df_analytics"
   ]
  },
  {
   "cell_type": "code",
   "execution_count": 50,
   "id": "54d624cd",
   "metadata": {},
   "outputs": [
    {
     "data": {
      "text/plain": [
       "cd_tipo_survey_hp          0\n",
       "ic_venda                   0\n",
       "velocidade_hc              0\n",
       "ds_uf_hc                   0\n",
       "ds_municipio_hc            0\n",
       "prestadora_servico         0\n",
       "produto                    0\n",
       "dt_solicitacao             0\n",
       "dt_instalacao              0\n",
       "status_ordem_instalacao    0\n",
       "dtype: int64"
      ]
     },
     "execution_count": 50,
     "metadata": {},
     "output_type": "execute_result"
    }
   ],
   "source": [
    "df_analytics.isnull().sum()"
   ]
  },
  {
   "cell_type": "code",
   "execution_count": 51,
   "id": "48524420",
   "metadata": {},
   "outputs": [
    {
     "data": {
      "text/html": [
       "<div>\n",
       "<style scoped>\n",
       "    .dataframe tbody tr th:only-of-type {\n",
       "        vertical-align: middle;\n",
       "    }\n",
       "\n",
       "    .dataframe tbody tr th {\n",
       "        vertical-align: top;\n",
       "    }\n",
       "\n",
       "    .dataframe thead th {\n",
       "        text-align: right;\n",
       "    }\n",
       "</style>\n",
       "<table border=\"1\" class=\"dataframe\">\n",
       "  <thead>\n",
       "    <tr style=\"text-align: right;\">\n",
       "      <th></th>\n",
       "      <th>cd_tipo_survey_hp</th>\n",
       "      <th>ic_venda</th>\n",
       "      <th>velocidade_hc</th>\n",
       "      <th>ds_uf_hc</th>\n",
       "      <th>ds_municipio_hc</th>\n",
       "      <th>prestadora_servico</th>\n",
       "      <th>produto</th>\n",
       "      <th>dt_solicitacao</th>\n",
       "      <th>dt_instalacao</th>\n",
       "      <th>status_ordem_instalacao</th>\n",
       "    </tr>\n",
       "  </thead>\n",
       "  <tbody>\n",
       "    <tr>\n",
       "      <th>10001</th>\n",
       "      <td>EDIFICACAO COMPLETA</td>\n",
       "      <td>1</td>\n",
       "      <td>200 MBPS</td>\n",
       "      <td>MG</td>\n",
       "      <td>BETIM</td>\n",
       "      <td>TELEMONT</td>\n",
       "      <td>Dual Play Fibra BL + VoIP</td>\n",
       "      <td>2022-09-20</td>\n",
       "      <td>2022-09-24 00:00:00</td>\n",
       "      <td>COMPLETED</td>\n",
       "    </tr>\n",
       "    <tr>\n",
       "      <th>10002</th>\n",
       "      <td>MORADIA</td>\n",
       "      <td>1</td>\n",
       "      <td>400 MBPS</td>\n",
       "      <td>ES</td>\n",
       "      <td>SERRA</td>\n",
       "      <td>TELEMONT</td>\n",
       "      <td>Dual Play Fibra BL + VoIP</td>\n",
       "      <td>2023-01-23</td>\n",
       "      <td>2023-01-28 00:00:00</td>\n",
       "      <td>COMPLETED</td>\n",
       "    </tr>\n",
       "    <tr>\n",
       "      <th>10003</th>\n",
       "      <td>MORADIA</td>\n",
       "      <td>1</td>\n",
       "      <td>400 MBPS</td>\n",
       "      <td>PA</td>\n",
       "      <td>BELÉM</td>\n",
       "      <td>CONECTA</td>\n",
       "      <td>Dual Play Fibra BL + VoIP</td>\n",
       "      <td>2022-09-22</td>\n",
       "      <td>2022-09-29 00:00:00</td>\n",
       "      <td>COMPLETED</td>\n",
       "    </tr>\n",
       "    <tr>\n",
       "      <th>10004</th>\n",
       "      <td>MORADIA</td>\n",
       "      <td>1</td>\n",
       "      <td>50 MBPS</td>\n",
       "      <td>PA</td>\n",
       "      <td>BELÉM</td>\n",
       "      <td>CONECTA</td>\n",
       "      <td>Dual Play Fibra BL + VoIP</td>\n",
       "      <td>2022-11-14</td>\n",
       "      <td>2022-11-21 00:00:00</td>\n",
       "      <td>COMPLETED</td>\n",
       "    </tr>\n",
       "    <tr>\n",
       "      <th>10005</th>\n",
       "      <td>EDIFICACAO COMPLETA</td>\n",
       "      <td>1</td>\n",
       "      <td>200 MBPS</td>\n",
       "      <td>PA</td>\n",
       "      <td>BELÉM</td>\n",
       "      <td>SEREDE SERVICOS DE REDE S.A.</td>\n",
       "      <td>VELOC_200MBPS</td>\n",
       "      <td>2022-09-16</td>\n",
       "      <td>2022-09-21 00:00:00</td>\n",
       "      <td>COMPLETED</td>\n",
       "    </tr>\n",
       "    <tr>\n",
       "      <th>...</th>\n",
       "      <td>...</td>\n",
       "      <td>...</td>\n",
       "      <td>...</td>\n",
       "      <td>...</td>\n",
       "      <td>...</td>\n",
       "      <td>...</td>\n",
       "      <td>...</td>\n",
       "      <td>...</td>\n",
       "      <td>...</td>\n",
       "      <td>...</td>\n",
       "    </tr>\n",
       "    <tr>\n",
       "      <th>49995</th>\n",
       "      <td>EDIFICACAO COMPLETA</td>\n",
       "      <td>1</td>\n",
       "      <td>200 MBPS</td>\n",
       "      <td>RJ</td>\n",
       "      <td>NILÓPOLIS</td>\n",
       "      <td>SEREDE</td>\n",
       "      <td>Dual Play Fibra BL + VoIP</td>\n",
       "      <td>2022-06-03</td>\n",
       "      <td>2022-06-06 00:00:00</td>\n",
       "      <td>COMPLETED</td>\n",
       "    </tr>\n",
       "    <tr>\n",
       "      <th>49996</th>\n",
       "      <td>MORADIA</td>\n",
       "      <td>1</td>\n",
       "      <td>400 MBPS</td>\n",
       "      <td>SC</td>\n",
       "      <td>RIO DO SUL</td>\n",
       "      <td>SEREDE</td>\n",
       "      <td>Dual Play Fibra BL + VoIP</td>\n",
       "      <td>2022-07-01</td>\n",
       "      <td>2022-07-07 00:00:00</td>\n",
       "      <td>COMPLETED</td>\n",
       "    </tr>\n",
       "    <tr>\n",
       "      <th>49997</th>\n",
       "      <td>MORADIA</td>\n",
       "      <td>1</td>\n",
       "      <td>400 MBPS</td>\n",
       "      <td>RS</td>\n",
       "      <td>IJUÍ</td>\n",
       "      <td>SEREDE</td>\n",
       "      <td>Dual Play Fibra BL + VoIP</td>\n",
       "      <td>2022-06-03</td>\n",
       "      <td>2022-06-08 00:00:00</td>\n",
       "      <td>COMPLETED</td>\n",
       "    </tr>\n",
       "    <tr>\n",
       "      <th>49998</th>\n",
       "      <td>MORADIA</td>\n",
       "      <td>1</td>\n",
       "      <td>400 MBPS</td>\n",
       "      <td>MA</td>\n",
       "      <td>SANTA INÊS</td>\n",
       "      <td>CONECTA</td>\n",
       "      <td>Dual Play Fibra BL + VoIP</td>\n",
       "      <td>2022-07-02</td>\n",
       "      <td>2022-07-04 00:00:00</td>\n",
       "      <td>COMPLETED</td>\n",
       "    </tr>\n",
       "    <tr>\n",
       "      <th>49999</th>\n",
       "      <td>MORADIA</td>\n",
       "      <td>1</td>\n",
       "      <td>400 MBPS</td>\n",
       "      <td>MG</td>\n",
       "      <td>SETE LAGOAS</td>\n",
       "      <td>TELEMONT</td>\n",
       "      <td>Dual Play Fibra BL + VoIP</td>\n",
       "      <td>2022-07-07</td>\n",
       "      <td>2022-07-11 00:00:00</td>\n",
       "      <td>COMPLETED</td>\n",
       "    </tr>\n",
       "  </tbody>\n",
       "</table>\n",
       "<p>39211 rows × 10 columns</p>\n",
       "</div>"
      ],
      "text/plain": [
       "         cd_tipo_survey_hp  ic_venda velocidade_hc ds_uf_hc ds_municipio_hc  \\\n",
       "10001  EDIFICACAO COMPLETA         1      200 MBPS       MG           BETIM   \n",
       "10002              MORADIA         1      400 MBPS       ES           SERRA   \n",
       "10003              MORADIA         1      400 MBPS       PA           BELÉM   \n",
       "10004              MORADIA         1       50 MBPS       PA           BELÉM   \n",
       "10005  EDIFICACAO COMPLETA         1      200 MBPS       PA           BELÉM   \n",
       "...                    ...       ...           ...      ...             ...   \n",
       "49995  EDIFICACAO COMPLETA         1      200 MBPS       RJ       NILÓPOLIS   \n",
       "49996              MORADIA         1      400 MBPS       SC      RIO DO SUL   \n",
       "49997              MORADIA         1      400 MBPS       RS            IJUÍ   \n",
       "49998              MORADIA         1      400 MBPS       MA      SANTA INÊS   \n",
       "49999              MORADIA         1      400 MBPS       MG     SETE LAGOAS   \n",
       "\n",
       "                 prestadora_servico                    produto dt_solicitacao  \\\n",
       "10001                      TELEMONT  Dual Play Fibra BL + VoIP     2022-09-20   \n",
       "10002                      TELEMONT  Dual Play Fibra BL + VoIP     2023-01-23   \n",
       "10003                       CONECTA  Dual Play Fibra BL + VoIP     2022-09-22   \n",
       "10004                       CONECTA  Dual Play Fibra BL + VoIP     2022-11-14   \n",
       "10005  SEREDE SERVICOS DE REDE S.A.              VELOC_200MBPS     2022-09-16   \n",
       "...                             ...                        ...            ...   \n",
       "49995                        SEREDE  Dual Play Fibra BL + VoIP     2022-06-03   \n",
       "49996                        SEREDE  Dual Play Fibra BL + VoIP     2022-07-01   \n",
       "49997                        SEREDE  Dual Play Fibra BL + VoIP     2022-06-03   \n",
       "49998                       CONECTA  Dual Play Fibra BL + VoIP     2022-07-02   \n",
       "49999                      TELEMONT  Dual Play Fibra BL + VoIP     2022-07-07   \n",
       "\n",
       "             dt_instalacao status_ordem_instalacao  \n",
       "10001  2022-09-24 00:00:00               COMPLETED  \n",
       "10002  2023-01-28 00:00:00               COMPLETED  \n",
       "10003  2022-09-29 00:00:00               COMPLETED  \n",
       "10004  2022-11-21 00:00:00               COMPLETED  \n",
       "10005  2022-09-21 00:00:00               COMPLETED  \n",
       "...                    ...                     ...  \n",
       "49995  2022-06-06 00:00:00               COMPLETED  \n",
       "49996  2022-07-07 00:00:00               COMPLETED  \n",
       "49997  2022-06-08 00:00:00               COMPLETED  \n",
       "49998  2022-07-04 00:00:00               COMPLETED  \n",
       "49999  2022-07-11 00:00:00               COMPLETED  \n",
       "\n",
       "[39211 rows x 10 columns]"
      ]
     },
     "execution_count": 51,
     "metadata": {},
     "output_type": "execute_result"
    }
   ],
   "source": [
    "#filtando o df apenas para o status de ordem \"completo\"\n",
    "df_analytics = df_analytics.loc[df_analytics['status_ordem_instalacao']=='COMPLETED']\n",
    "df_analytics"
   ]
  },
  {
   "cell_type": "code",
   "execution_count": 52,
   "id": "a2836b70",
   "metadata": {
    "scrolled": true
   },
   "outputs": [
    {
     "data": {
      "text/html": [
       "<div>\n",
       "<style scoped>\n",
       "    .dataframe tbody tr th:only-of-type {\n",
       "        vertical-align: middle;\n",
       "    }\n",
       "\n",
       "    .dataframe tbody tr th {\n",
       "        vertical-align: top;\n",
       "    }\n",
       "\n",
       "    .dataframe thead th {\n",
       "        text-align: right;\n",
       "    }\n",
       "</style>\n",
       "<table border=\"1\" class=\"dataframe\">\n",
       "  <thead>\n",
       "    <tr style=\"text-align: right;\">\n",
       "      <th></th>\n",
       "      <th>Tipo_Local</th>\n",
       "      <th>Num_Vendas</th>\n",
       "      <th>Velocidade</th>\n",
       "      <th>Estado</th>\n",
       "      <th>Municipio</th>\n",
       "      <th>Servico</th>\n",
       "      <th>Produto</th>\n",
       "      <th>Dt_Solicitacao</th>\n",
       "      <th>Dt_Instalacao</th>\n",
       "      <th>Status_Instalacao</th>\n",
       "    </tr>\n",
       "  </thead>\n",
       "  <tbody>\n",
       "    <tr>\n",
       "      <th>10001</th>\n",
       "      <td>EDIFICACAO COMPLETA</td>\n",
       "      <td>1</td>\n",
       "      <td>200 MBPS</td>\n",
       "      <td>MG</td>\n",
       "      <td>BETIM</td>\n",
       "      <td>TELEMONT</td>\n",
       "      <td>Dual Play Fibra BL + VoIP</td>\n",
       "      <td>2022-09-20</td>\n",
       "      <td>2022-09-24 00:00:00</td>\n",
       "      <td>COMPLETED</td>\n",
       "    </tr>\n",
       "    <tr>\n",
       "      <th>10002</th>\n",
       "      <td>MORADIA</td>\n",
       "      <td>1</td>\n",
       "      <td>400 MBPS</td>\n",
       "      <td>ES</td>\n",
       "      <td>SERRA</td>\n",
       "      <td>TELEMONT</td>\n",
       "      <td>Dual Play Fibra BL + VoIP</td>\n",
       "      <td>2023-01-23</td>\n",
       "      <td>2023-01-28 00:00:00</td>\n",
       "      <td>COMPLETED</td>\n",
       "    </tr>\n",
       "    <tr>\n",
       "      <th>10003</th>\n",
       "      <td>MORADIA</td>\n",
       "      <td>1</td>\n",
       "      <td>400 MBPS</td>\n",
       "      <td>PA</td>\n",
       "      <td>BELÉM</td>\n",
       "      <td>CONECTA</td>\n",
       "      <td>Dual Play Fibra BL + VoIP</td>\n",
       "      <td>2022-09-22</td>\n",
       "      <td>2022-09-29 00:00:00</td>\n",
       "      <td>COMPLETED</td>\n",
       "    </tr>\n",
       "    <tr>\n",
       "      <th>10004</th>\n",
       "      <td>MORADIA</td>\n",
       "      <td>1</td>\n",
       "      <td>50 MBPS</td>\n",
       "      <td>PA</td>\n",
       "      <td>BELÉM</td>\n",
       "      <td>CONECTA</td>\n",
       "      <td>Dual Play Fibra BL + VoIP</td>\n",
       "      <td>2022-11-14</td>\n",
       "      <td>2022-11-21 00:00:00</td>\n",
       "      <td>COMPLETED</td>\n",
       "    </tr>\n",
       "    <tr>\n",
       "      <th>10005</th>\n",
       "      <td>EDIFICACAO COMPLETA</td>\n",
       "      <td>1</td>\n",
       "      <td>200 MBPS</td>\n",
       "      <td>PA</td>\n",
       "      <td>BELÉM</td>\n",
       "      <td>SEREDE SERVICOS DE REDE S.A.</td>\n",
       "      <td>VELOC_200MBPS</td>\n",
       "      <td>2022-09-16</td>\n",
       "      <td>2022-09-21 00:00:00</td>\n",
       "      <td>COMPLETED</td>\n",
       "    </tr>\n",
       "    <tr>\n",
       "      <th>...</th>\n",
       "      <td>...</td>\n",
       "      <td>...</td>\n",
       "      <td>...</td>\n",
       "      <td>...</td>\n",
       "      <td>...</td>\n",
       "      <td>...</td>\n",
       "      <td>...</td>\n",
       "      <td>...</td>\n",
       "      <td>...</td>\n",
       "      <td>...</td>\n",
       "    </tr>\n",
       "    <tr>\n",
       "      <th>49995</th>\n",
       "      <td>EDIFICACAO COMPLETA</td>\n",
       "      <td>1</td>\n",
       "      <td>200 MBPS</td>\n",
       "      <td>RJ</td>\n",
       "      <td>NILÓPOLIS</td>\n",
       "      <td>SEREDE</td>\n",
       "      <td>Dual Play Fibra BL + VoIP</td>\n",
       "      <td>2022-06-03</td>\n",
       "      <td>2022-06-06 00:00:00</td>\n",
       "      <td>COMPLETED</td>\n",
       "    </tr>\n",
       "    <tr>\n",
       "      <th>49996</th>\n",
       "      <td>MORADIA</td>\n",
       "      <td>1</td>\n",
       "      <td>400 MBPS</td>\n",
       "      <td>SC</td>\n",
       "      <td>RIO DO SUL</td>\n",
       "      <td>SEREDE</td>\n",
       "      <td>Dual Play Fibra BL + VoIP</td>\n",
       "      <td>2022-07-01</td>\n",
       "      <td>2022-07-07 00:00:00</td>\n",
       "      <td>COMPLETED</td>\n",
       "    </tr>\n",
       "    <tr>\n",
       "      <th>49997</th>\n",
       "      <td>MORADIA</td>\n",
       "      <td>1</td>\n",
       "      <td>400 MBPS</td>\n",
       "      <td>RS</td>\n",
       "      <td>IJUÍ</td>\n",
       "      <td>SEREDE</td>\n",
       "      <td>Dual Play Fibra BL + VoIP</td>\n",
       "      <td>2022-06-03</td>\n",
       "      <td>2022-06-08 00:00:00</td>\n",
       "      <td>COMPLETED</td>\n",
       "    </tr>\n",
       "    <tr>\n",
       "      <th>49998</th>\n",
       "      <td>MORADIA</td>\n",
       "      <td>1</td>\n",
       "      <td>400 MBPS</td>\n",
       "      <td>MA</td>\n",
       "      <td>SANTA INÊS</td>\n",
       "      <td>CONECTA</td>\n",
       "      <td>Dual Play Fibra BL + VoIP</td>\n",
       "      <td>2022-07-02</td>\n",
       "      <td>2022-07-04 00:00:00</td>\n",
       "      <td>COMPLETED</td>\n",
       "    </tr>\n",
       "    <tr>\n",
       "      <th>49999</th>\n",
       "      <td>MORADIA</td>\n",
       "      <td>1</td>\n",
       "      <td>400 MBPS</td>\n",
       "      <td>MG</td>\n",
       "      <td>SETE LAGOAS</td>\n",
       "      <td>TELEMONT</td>\n",
       "      <td>Dual Play Fibra BL + VoIP</td>\n",
       "      <td>2022-07-07</td>\n",
       "      <td>2022-07-11 00:00:00</td>\n",
       "      <td>COMPLETED</td>\n",
       "    </tr>\n",
       "  </tbody>\n",
       "</table>\n",
       "<p>39211 rows × 10 columns</p>\n",
       "</div>"
      ],
      "text/plain": [
       "                Tipo_Local  Num_Vendas Velocidade Estado    Municipio  \\\n",
       "10001  EDIFICACAO COMPLETA           1   200 MBPS     MG        BETIM   \n",
       "10002              MORADIA           1   400 MBPS     ES        SERRA   \n",
       "10003              MORADIA           1   400 MBPS     PA        BELÉM   \n",
       "10004              MORADIA           1    50 MBPS     PA        BELÉM   \n",
       "10005  EDIFICACAO COMPLETA           1   200 MBPS     PA        BELÉM   \n",
       "...                    ...         ...        ...    ...          ...   \n",
       "49995  EDIFICACAO COMPLETA           1   200 MBPS     RJ    NILÓPOLIS   \n",
       "49996              MORADIA           1   400 MBPS     SC   RIO DO SUL   \n",
       "49997              MORADIA           1   400 MBPS     RS         IJUÍ   \n",
       "49998              MORADIA           1   400 MBPS     MA   SANTA INÊS   \n",
       "49999              MORADIA           1   400 MBPS     MG  SETE LAGOAS   \n",
       "\n",
       "                            Servico                    Produto Dt_Solicitacao  \\\n",
       "10001                      TELEMONT  Dual Play Fibra BL + VoIP     2022-09-20   \n",
       "10002                      TELEMONT  Dual Play Fibra BL + VoIP     2023-01-23   \n",
       "10003                       CONECTA  Dual Play Fibra BL + VoIP     2022-09-22   \n",
       "10004                       CONECTA  Dual Play Fibra BL + VoIP     2022-11-14   \n",
       "10005  SEREDE SERVICOS DE REDE S.A.              VELOC_200MBPS     2022-09-16   \n",
       "...                             ...                        ...            ...   \n",
       "49995                        SEREDE  Dual Play Fibra BL + VoIP     2022-06-03   \n",
       "49996                        SEREDE  Dual Play Fibra BL + VoIP     2022-07-01   \n",
       "49997                        SEREDE  Dual Play Fibra BL + VoIP     2022-06-03   \n",
       "49998                       CONECTA  Dual Play Fibra BL + VoIP     2022-07-02   \n",
       "49999                      TELEMONT  Dual Play Fibra BL + VoIP     2022-07-07   \n",
       "\n",
       "             Dt_Instalacao Status_Instalacao  \n",
       "10001  2022-09-24 00:00:00         COMPLETED  \n",
       "10002  2023-01-28 00:00:00         COMPLETED  \n",
       "10003  2022-09-29 00:00:00         COMPLETED  \n",
       "10004  2022-11-21 00:00:00         COMPLETED  \n",
       "10005  2022-09-21 00:00:00         COMPLETED  \n",
       "...                    ...               ...  \n",
       "49995  2022-06-06 00:00:00         COMPLETED  \n",
       "49996  2022-07-07 00:00:00         COMPLETED  \n",
       "49997  2022-06-08 00:00:00         COMPLETED  \n",
       "49998  2022-07-04 00:00:00         COMPLETED  \n",
       "49999  2022-07-11 00:00:00         COMPLETED  \n",
       "\n",
       "[39211 rows x 10 columns]"
      ]
     },
     "execution_count": 52,
     "metadata": {},
     "output_type": "execute_result"
    }
   ],
   "source": [
    "#Usando a função rename para renomear as colunas do df_analytics\n",
    "df_analytics = df_analytics.rename(columns={\"cd_tipo_survey_hp\": \"Tipo_Local\", \"ic_venda\": \"Num_Vendas\", \"velocidade_hc\": \"Velocidade\", \"ds_uf_hc\": \"Estado\", \"ds_municipio_hc\": \"Municipio\", \"prestadora_servico\": \"Servico\", \"produto\": \"Produto\", \"dt_solicitacao\": \"Dt_Solicitacao\", \"dt_instalacao\": \"Dt_Instalacao\", \"status_ordem_instalacao\": \"Status_Instalacao\"})\n",
    "df_analytics"
   ]
  },
  {
   "cell_type": "code",
   "execution_count": 53,
   "id": "40b11ddd",
   "metadata": {},
   "outputs": [],
   "source": [
    "df_analytics.reset_index(drop=True, inplace=True)#resetando o index de cada linhas"
   ]
  },
  {
   "cell_type": "code",
   "execution_count": 54,
   "id": "5eee33a2",
   "metadata": {},
   "outputs": [
    {
     "data": {
      "text/html": [
       "<div>\n",
       "<style scoped>\n",
       "    .dataframe tbody tr th:only-of-type {\n",
       "        vertical-align: middle;\n",
       "    }\n",
       "\n",
       "    .dataframe tbody tr th {\n",
       "        vertical-align: top;\n",
       "    }\n",
       "\n",
       "    .dataframe thead th {\n",
       "        text-align: right;\n",
       "    }\n",
       "</style>\n",
       "<table border=\"1\" class=\"dataframe\">\n",
       "  <thead>\n",
       "    <tr style=\"text-align: right;\">\n",
       "      <th></th>\n",
       "      <th>Tipo_Local</th>\n",
       "      <th>Num_Vendas</th>\n",
       "      <th>Velocidade</th>\n",
       "      <th>Estado</th>\n",
       "      <th>Municipio</th>\n",
       "      <th>Servico</th>\n",
       "      <th>Produto</th>\n",
       "      <th>Dt_Solicitacao</th>\n",
       "      <th>Dt_Instalacao</th>\n",
       "      <th>Status_Instalacao</th>\n",
       "    </tr>\n",
       "  </thead>\n",
       "  <tbody>\n",
       "    <tr>\n",
       "      <th>0</th>\n",
       "      <td>EDIFICACAO COMPLETA</td>\n",
       "      <td>1</td>\n",
       "      <td>200 MBPS</td>\n",
       "      <td>MG</td>\n",
       "      <td>BETIM</td>\n",
       "      <td>TELEMONT</td>\n",
       "      <td>Dual Play Fibra BL + VoIP</td>\n",
       "      <td>2022-09-20</td>\n",
       "      <td>2022-09-24 00:00:00</td>\n",
       "      <td>COMPLETED</td>\n",
       "    </tr>\n",
       "    <tr>\n",
       "      <th>1</th>\n",
       "      <td>MORADIA</td>\n",
       "      <td>1</td>\n",
       "      <td>400 MBPS</td>\n",
       "      <td>ES</td>\n",
       "      <td>SERRA</td>\n",
       "      <td>TELEMONT</td>\n",
       "      <td>Dual Play Fibra BL + VoIP</td>\n",
       "      <td>2023-01-23</td>\n",
       "      <td>2023-01-28 00:00:00</td>\n",
       "      <td>COMPLETED</td>\n",
       "    </tr>\n",
       "    <tr>\n",
       "      <th>2</th>\n",
       "      <td>MORADIA</td>\n",
       "      <td>1</td>\n",
       "      <td>400 MBPS</td>\n",
       "      <td>PA</td>\n",
       "      <td>BELÉM</td>\n",
       "      <td>CONECTA</td>\n",
       "      <td>Dual Play Fibra BL + VoIP</td>\n",
       "      <td>2022-09-22</td>\n",
       "      <td>2022-09-29 00:00:00</td>\n",
       "      <td>COMPLETED</td>\n",
       "    </tr>\n",
       "    <tr>\n",
       "      <th>3</th>\n",
       "      <td>MORADIA</td>\n",
       "      <td>1</td>\n",
       "      <td>50 MBPS</td>\n",
       "      <td>PA</td>\n",
       "      <td>BELÉM</td>\n",
       "      <td>CONECTA</td>\n",
       "      <td>Dual Play Fibra BL + VoIP</td>\n",
       "      <td>2022-11-14</td>\n",
       "      <td>2022-11-21 00:00:00</td>\n",
       "      <td>COMPLETED</td>\n",
       "    </tr>\n",
       "    <tr>\n",
       "      <th>4</th>\n",
       "      <td>EDIFICACAO COMPLETA</td>\n",
       "      <td>1</td>\n",
       "      <td>200 MBPS</td>\n",
       "      <td>PA</td>\n",
       "      <td>BELÉM</td>\n",
       "      <td>SEREDE SERVICOS DE REDE S.A.</td>\n",
       "      <td>VELOC_200MBPS</td>\n",
       "      <td>2022-09-16</td>\n",
       "      <td>2022-09-21 00:00:00</td>\n",
       "      <td>COMPLETED</td>\n",
       "    </tr>\n",
       "    <tr>\n",
       "      <th>...</th>\n",
       "      <td>...</td>\n",
       "      <td>...</td>\n",
       "      <td>...</td>\n",
       "      <td>...</td>\n",
       "      <td>...</td>\n",
       "      <td>...</td>\n",
       "      <td>...</td>\n",
       "      <td>...</td>\n",
       "      <td>...</td>\n",
       "      <td>...</td>\n",
       "    </tr>\n",
       "    <tr>\n",
       "      <th>39206</th>\n",
       "      <td>EDIFICACAO COMPLETA</td>\n",
       "      <td>1</td>\n",
       "      <td>200 MBPS</td>\n",
       "      <td>RJ</td>\n",
       "      <td>NILÓPOLIS</td>\n",
       "      <td>SEREDE</td>\n",
       "      <td>Dual Play Fibra BL + VoIP</td>\n",
       "      <td>2022-06-03</td>\n",
       "      <td>2022-06-06 00:00:00</td>\n",
       "      <td>COMPLETED</td>\n",
       "    </tr>\n",
       "    <tr>\n",
       "      <th>39207</th>\n",
       "      <td>MORADIA</td>\n",
       "      <td>1</td>\n",
       "      <td>400 MBPS</td>\n",
       "      <td>SC</td>\n",
       "      <td>RIO DO SUL</td>\n",
       "      <td>SEREDE</td>\n",
       "      <td>Dual Play Fibra BL + VoIP</td>\n",
       "      <td>2022-07-01</td>\n",
       "      <td>2022-07-07 00:00:00</td>\n",
       "      <td>COMPLETED</td>\n",
       "    </tr>\n",
       "    <tr>\n",
       "      <th>39208</th>\n",
       "      <td>MORADIA</td>\n",
       "      <td>1</td>\n",
       "      <td>400 MBPS</td>\n",
       "      <td>RS</td>\n",
       "      <td>IJUÍ</td>\n",
       "      <td>SEREDE</td>\n",
       "      <td>Dual Play Fibra BL + VoIP</td>\n",
       "      <td>2022-06-03</td>\n",
       "      <td>2022-06-08 00:00:00</td>\n",
       "      <td>COMPLETED</td>\n",
       "    </tr>\n",
       "    <tr>\n",
       "      <th>39209</th>\n",
       "      <td>MORADIA</td>\n",
       "      <td>1</td>\n",
       "      <td>400 MBPS</td>\n",
       "      <td>MA</td>\n",
       "      <td>SANTA INÊS</td>\n",
       "      <td>CONECTA</td>\n",
       "      <td>Dual Play Fibra BL + VoIP</td>\n",
       "      <td>2022-07-02</td>\n",
       "      <td>2022-07-04 00:00:00</td>\n",
       "      <td>COMPLETED</td>\n",
       "    </tr>\n",
       "    <tr>\n",
       "      <th>39210</th>\n",
       "      <td>MORADIA</td>\n",
       "      <td>1</td>\n",
       "      <td>400 MBPS</td>\n",
       "      <td>MG</td>\n",
       "      <td>SETE LAGOAS</td>\n",
       "      <td>TELEMONT</td>\n",
       "      <td>Dual Play Fibra BL + VoIP</td>\n",
       "      <td>2022-07-07</td>\n",
       "      <td>2022-07-11 00:00:00</td>\n",
       "      <td>COMPLETED</td>\n",
       "    </tr>\n",
       "  </tbody>\n",
       "</table>\n",
       "<p>39211 rows × 10 columns</p>\n",
       "</div>"
      ],
      "text/plain": [
       "                Tipo_Local  Num_Vendas Velocidade Estado    Municipio  \\\n",
       "0      EDIFICACAO COMPLETA           1   200 MBPS     MG        BETIM   \n",
       "1                  MORADIA           1   400 MBPS     ES        SERRA   \n",
       "2                  MORADIA           1   400 MBPS     PA        BELÉM   \n",
       "3                  MORADIA           1    50 MBPS     PA        BELÉM   \n",
       "4      EDIFICACAO COMPLETA           1   200 MBPS     PA        BELÉM   \n",
       "...                    ...         ...        ...    ...          ...   \n",
       "39206  EDIFICACAO COMPLETA           1   200 MBPS     RJ    NILÓPOLIS   \n",
       "39207              MORADIA           1   400 MBPS     SC   RIO DO SUL   \n",
       "39208              MORADIA           1   400 MBPS     RS         IJUÍ   \n",
       "39209              MORADIA           1   400 MBPS     MA   SANTA INÊS   \n",
       "39210              MORADIA           1   400 MBPS     MG  SETE LAGOAS   \n",
       "\n",
       "                            Servico                    Produto Dt_Solicitacao  \\\n",
       "0                          TELEMONT  Dual Play Fibra BL + VoIP     2022-09-20   \n",
       "1                          TELEMONT  Dual Play Fibra BL + VoIP     2023-01-23   \n",
       "2                           CONECTA  Dual Play Fibra BL + VoIP     2022-09-22   \n",
       "3                           CONECTA  Dual Play Fibra BL + VoIP     2022-11-14   \n",
       "4      SEREDE SERVICOS DE REDE S.A.              VELOC_200MBPS     2022-09-16   \n",
       "...                             ...                        ...            ...   \n",
       "39206                        SEREDE  Dual Play Fibra BL + VoIP     2022-06-03   \n",
       "39207                        SEREDE  Dual Play Fibra BL + VoIP     2022-07-01   \n",
       "39208                        SEREDE  Dual Play Fibra BL + VoIP     2022-06-03   \n",
       "39209                       CONECTA  Dual Play Fibra BL + VoIP     2022-07-02   \n",
       "39210                      TELEMONT  Dual Play Fibra BL + VoIP     2022-07-07   \n",
       "\n",
       "             Dt_Instalacao Status_Instalacao  \n",
       "0      2022-09-24 00:00:00         COMPLETED  \n",
       "1      2023-01-28 00:00:00         COMPLETED  \n",
       "2      2022-09-29 00:00:00         COMPLETED  \n",
       "3      2022-11-21 00:00:00         COMPLETED  \n",
       "4      2022-09-21 00:00:00         COMPLETED  \n",
       "...                    ...               ...  \n",
       "39206  2022-06-06 00:00:00         COMPLETED  \n",
       "39207  2022-07-07 00:00:00         COMPLETED  \n",
       "39208  2022-06-08 00:00:00         COMPLETED  \n",
       "39209  2022-07-04 00:00:00         COMPLETED  \n",
       "39210  2022-07-11 00:00:00         COMPLETED  \n",
       "\n",
       "[39211 rows x 10 columns]"
      ]
     },
     "execution_count": 54,
     "metadata": {},
     "output_type": "execute_result"
    }
   ],
   "source": [
    "df_analytics"
   ]
  },
  {
   "cell_type": "code",
   "execution_count": 55,
   "id": "c261dd37",
   "metadata": {},
   "outputs": [
    {
     "name": "stdout",
     "output_type": "stream",
     "text": [
      "<class 'pandas.core.frame.DataFrame'>\n",
      "RangeIndex: 39211 entries, 0 to 39210\n",
      "Data columns (total 10 columns):\n",
      " #   Column             Non-Null Count  Dtype         \n",
      "---  ------             --------------  -----         \n",
      " 0   Tipo_Local         39211 non-null  object        \n",
      " 1   Num_Vendas         39211 non-null  int64         \n",
      " 2   Velocidade         39211 non-null  object        \n",
      " 3   Estado             39211 non-null  object        \n",
      " 4   Municipio          39211 non-null  object        \n",
      " 5   Servico            39211 non-null  object        \n",
      " 6   Produto            39211 non-null  object        \n",
      " 7   Dt_Solicitacao     39211 non-null  datetime64[ns]\n",
      " 8   Dt_Instalacao      39211 non-null  object        \n",
      " 9   Status_Instalacao  39211 non-null  object        \n",
      "dtypes: datetime64[ns](1), int64(1), object(8)\n",
      "memory usage: 3.0+ MB\n"
     ]
    }
   ],
   "source": [
    "df_analytics.info()#agora verifico o dtype de cada coluna"
   ]
  },
  {
   "cell_type": "code",
   "execution_count": 56,
   "id": "df9928e5",
   "metadata": {},
   "outputs": [],
   "source": [
    "#transformando o dtype da coluna \"Dt_Instalacao\" de object para datetime\n",
    "df_analytics[\"Dt_Instalacao\"] = pd.to_datetime(df_analytics[\"Dt_Instalacao\"])"
   ]
  },
  {
   "cell_type": "code",
   "execution_count": 57,
   "id": "193fb6b0",
   "metadata": {},
   "outputs": [
    {
     "name": "stdout",
     "output_type": "stream",
     "text": [
      "<class 'pandas.core.frame.DataFrame'>\n",
      "RangeIndex: 39211 entries, 0 to 39210\n",
      "Data columns (total 10 columns):\n",
      " #   Column             Non-Null Count  Dtype         \n",
      "---  ------             --------------  -----         \n",
      " 0   Tipo_Local         39211 non-null  object        \n",
      " 1   Num_Vendas         39211 non-null  int64         \n",
      " 2   Velocidade         39211 non-null  object        \n",
      " 3   Estado             39211 non-null  object        \n",
      " 4   Municipio          39211 non-null  object        \n",
      " 5   Servico            39211 non-null  object        \n",
      " 6   Produto            39211 non-null  object        \n",
      " 7   Dt_Solicitacao     39211 non-null  datetime64[ns]\n",
      " 8   Dt_Instalacao      39211 non-null  datetime64[ns]\n",
      " 9   Status_Instalacao  39211 non-null  object        \n",
      "dtypes: datetime64[ns](2), int64(1), object(7)\n",
      "memory usage: 3.0+ MB\n"
     ]
    }
   ],
   "source": [
    "df_analytics.info()"
   ]
  },
  {
   "cell_type": "code",
   "execution_count": 58,
   "id": "6284ca0a",
   "metadata": {},
   "outputs": [],
   "source": [
    "#criando coluna de duração para concluir o serviço\n",
    "df_analytics['Duracao_Servico'] = df_analytics['Dt_Instalacao']-df_analytics['Dt_Solicitacao']"
   ]
  },
  {
   "cell_type": "code",
   "execution_count": 59,
   "id": "62a4f103",
   "metadata": {},
   "outputs": [
    {
     "name": "stdout",
     "output_type": "stream",
     "text": [
      "<class 'pandas.core.frame.DataFrame'>\n",
      "RangeIndex: 39211 entries, 0 to 39210\n",
      "Data columns (total 11 columns):\n",
      " #   Column             Non-Null Count  Dtype          \n",
      "---  ------             --------------  -----          \n",
      " 0   Tipo_Local         39211 non-null  object         \n",
      " 1   Num_Vendas         39211 non-null  int64          \n",
      " 2   Velocidade         39211 non-null  object         \n",
      " 3   Estado             39211 non-null  object         \n",
      " 4   Municipio          39211 non-null  object         \n",
      " 5   Servico            39211 non-null  object         \n",
      " 6   Produto            39211 non-null  object         \n",
      " 7   Dt_Solicitacao     39211 non-null  datetime64[ns] \n",
      " 8   Dt_Instalacao      39211 non-null  datetime64[ns] \n",
      " 9   Status_Instalacao  39211 non-null  object         \n",
      " 10  Duracao_Servico    39211 non-null  timedelta64[ns]\n",
      "dtypes: datetime64[ns](2), int64(1), object(7), timedelta64[ns](1)\n",
      "memory usage: 3.3+ MB\n"
     ]
    }
   ],
   "source": [
    "df_analytics.info()"
   ]
  },
  {
   "cell_type": "code",
   "execution_count": 60,
   "id": "d0a0f62b",
   "metadata": {},
   "outputs": [],
   "source": [
    "#transformo essa nova coluna de timedelta para int\n",
    "df_analytics['Duracao_Servico'] = df_analytics['Duracao_Servico'].dt.days.astype(int)"
   ]
  },
  {
   "cell_type": "code",
   "execution_count": 61,
   "id": "1eea27ab",
   "metadata": {},
   "outputs": [
    {
     "name": "stdout",
     "output_type": "stream",
     "text": [
      "<class 'pandas.core.frame.DataFrame'>\n",
      "RangeIndex: 39211 entries, 0 to 39210\n",
      "Data columns (total 11 columns):\n",
      " #   Column             Non-Null Count  Dtype         \n",
      "---  ------             --------------  -----         \n",
      " 0   Tipo_Local         39211 non-null  object        \n",
      " 1   Num_Vendas         39211 non-null  int64         \n",
      " 2   Velocidade         39211 non-null  object        \n",
      " 3   Estado             39211 non-null  object        \n",
      " 4   Municipio          39211 non-null  object        \n",
      " 5   Servico            39211 non-null  object        \n",
      " 6   Produto            39211 non-null  object        \n",
      " 7   Dt_Solicitacao     39211 non-null  datetime64[ns]\n",
      " 8   Dt_Instalacao      39211 non-null  datetime64[ns]\n",
      " 9   Status_Instalacao  39211 non-null  object        \n",
      " 10  Duracao_Servico    39211 non-null  int32         \n",
      "dtypes: datetime64[ns](2), int32(1), int64(1), object(7)\n",
      "memory usage: 3.1+ MB\n"
     ]
    }
   ],
   "source": [
    "df_analytics.info()"
   ]
  },
  {
   "cell_type": "code",
   "execution_count": 62,
   "id": "adfb86a1",
   "metadata": {},
   "outputs": [
    {
     "data": {
      "text/html": [
       "<div>\n",
       "<style scoped>\n",
       "    .dataframe tbody tr th:only-of-type {\n",
       "        vertical-align: middle;\n",
       "    }\n",
       "\n",
       "    .dataframe tbody tr th {\n",
       "        vertical-align: top;\n",
       "    }\n",
       "\n",
       "    .dataframe thead th {\n",
       "        text-align: right;\n",
       "    }\n",
       "</style>\n",
       "<table border=\"1\" class=\"dataframe\">\n",
       "  <thead>\n",
       "    <tr style=\"text-align: right;\">\n",
       "      <th></th>\n",
       "      <th>Tipo_Local</th>\n",
       "      <th>Num_Vendas</th>\n",
       "      <th>Velocidade</th>\n",
       "      <th>Estado</th>\n",
       "      <th>Municipio</th>\n",
       "      <th>Servico</th>\n",
       "      <th>Produto</th>\n",
       "      <th>Dt_Solicitacao</th>\n",
       "      <th>Dt_Instalacao</th>\n",
       "      <th>Status_Instalacao</th>\n",
       "      <th>Duracao_Servico</th>\n",
       "    </tr>\n",
       "  </thead>\n",
       "  <tbody>\n",
       "    <tr>\n",
       "      <th>0</th>\n",
       "      <td>EDIFICACAO COMPLETA</td>\n",
       "      <td>1</td>\n",
       "      <td>200 MBPS</td>\n",
       "      <td>MG</td>\n",
       "      <td>BETIM</td>\n",
       "      <td>TELEMONT</td>\n",
       "      <td>Dual Play Fibra BL + VoIP</td>\n",
       "      <td>2022-09-20</td>\n",
       "      <td>2022-09-24</td>\n",
       "      <td>COMPLETED</td>\n",
       "      <td>4</td>\n",
       "    </tr>\n",
       "    <tr>\n",
       "      <th>1</th>\n",
       "      <td>MORADIA</td>\n",
       "      <td>1</td>\n",
       "      <td>400 MBPS</td>\n",
       "      <td>ES</td>\n",
       "      <td>SERRA</td>\n",
       "      <td>TELEMONT</td>\n",
       "      <td>Dual Play Fibra BL + VoIP</td>\n",
       "      <td>2023-01-23</td>\n",
       "      <td>2023-01-28</td>\n",
       "      <td>COMPLETED</td>\n",
       "      <td>5</td>\n",
       "    </tr>\n",
       "    <tr>\n",
       "      <th>2</th>\n",
       "      <td>MORADIA</td>\n",
       "      <td>1</td>\n",
       "      <td>400 MBPS</td>\n",
       "      <td>PA</td>\n",
       "      <td>BELÉM</td>\n",
       "      <td>CONECTA</td>\n",
       "      <td>Dual Play Fibra BL + VoIP</td>\n",
       "      <td>2022-09-22</td>\n",
       "      <td>2022-09-29</td>\n",
       "      <td>COMPLETED</td>\n",
       "      <td>7</td>\n",
       "    </tr>\n",
       "    <tr>\n",
       "      <th>3</th>\n",
       "      <td>MORADIA</td>\n",
       "      <td>1</td>\n",
       "      <td>50 MBPS</td>\n",
       "      <td>PA</td>\n",
       "      <td>BELÉM</td>\n",
       "      <td>CONECTA</td>\n",
       "      <td>Dual Play Fibra BL + VoIP</td>\n",
       "      <td>2022-11-14</td>\n",
       "      <td>2022-11-21</td>\n",
       "      <td>COMPLETED</td>\n",
       "      <td>7</td>\n",
       "    </tr>\n",
       "    <tr>\n",
       "      <th>4</th>\n",
       "      <td>EDIFICACAO COMPLETA</td>\n",
       "      <td>1</td>\n",
       "      <td>200 MBPS</td>\n",
       "      <td>PA</td>\n",
       "      <td>BELÉM</td>\n",
       "      <td>SEREDE SERVICOS DE REDE S.A.</td>\n",
       "      <td>VELOC_200MBPS</td>\n",
       "      <td>2022-09-16</td>\n",
       "      <td>2022-09-21</td>\n",
       "      <td>COMPLETED</td>\n",
       "      <td>5</td>\n",
       "    </tr>\n",
       "    <tr>\n",
       "      <th>...</th>\n",
       "      <td>...</td>\n",
       "      <td>...</td>\n",
       "      <td>...</td>\n",
       "      <td>...</td>\n",
       "      <td>...</td>\n",
       "      <td>...</td>\n",
       "      <td>...</td>\n",
       "      <td>...</td>\n",
       "      <td>...</td>\n",
       "      <td>...</td>\n",
       "      <td>...</td>\n",
       "    </tr>\n",
       "    <tr>\n",
       "      <th>39206</th>\n",
       "      <td>EDIFICACAO COMPLETA</td>\n",
       "      <td>1</td>\n",
       "      <td>200 MBPS</td>\n",
       "      <td>RJ</td>\n",
       "      <td>NILÓPOLIS</td>\n",
       "      <td>SEREDE</td>\n",
       "      <td>Dual Play Fibra BL + VoIP</td>\n",
       "      <td>2022-06-03</td>\n",
       "      <td>2022-06-06</td>\n",
       "      <td>COMPLETED</td>\n",
       "      <td>3</td>\n",
       "    </tr>\n",
       "    <tr>\n",
       "      <th>39207</th>\n",
       "      <td>MORADIA</td>\n",
       "      <td>1</td>\n",
       "      <td>400 MBPS</td>\n",
       "      <td>SC</td>\n",
       "      <td>RIO DO SUL</td>\n",
       "      <td>SEREDE</td>\n",
       "      <td>Dual Play Fibra BL + VoIP</td>\n",
       "      <td>2022-07-01</td>\n",
       "      <td>2022-07-07</td>\n",
       "      <td>COMPLETED</td>\n",
       "      <td>6</td>\n",
       "    </tr>\n",
       "    <tr>\n",
       "      <th>39208</th>\n",
       "      <td>MORADIA</td>\n",
       "      <td>1</td>\n",
       "      <td>400 MBPS</td>\n",
       "      <td>RS</td>\n",
       "      <td>IJUÍ</td>\n",
       "      <td>SEREDE</td>\n",
       "      <td>Dual Play Fibra BL + VoIP</td>\n",
       "      <td>2022-06-03</td>\n",
       "      <td>2022-06-08</td>\n",
       "      <td>COMPLETED</td>\n",
       "      <td>5</td>\n",
       "    </tr>\n",
       "    <tr>\n",
       "      <th>39209</th>\n",
       "      <td>MORADIA</td>\n",
       "      <td>1</td>\n",
       "      <td>400 MBPS</td>\n",
       "      <td>MA</td>\n",
       "      <td>SANTA INÊS</td>\n",
       "      <td>CONECTA</td>\n",
       "      <td>Dual Play Fibra BL + VoIP</td>\n",
       "      <td>2022-07-02</td>\n",
       "      <td>2022-07-04</td>\n",
       "      <td>COMPLETED</td>\n",
       "      <td>2</td>\n",
       "    </tr>\n",
       "    <tr>\n",
       "      <th>39210</th>\n",
       "      <td>MORADIA</td>\n",
       "      <td>1</td>\n",
       "      <td>400 MBPS</td>\n",
       "      <td>MG</td>\n",
       "      <td>SETE LAGOAS</td>\n",
       "      <td>TELEMONT</td>\n",
       "      <td>Dual Play Fibra BL + VoIP</td>\n",
       "      <td>2022-07-07</td>\n",
       "      <td>2022-07-11</td>\n",
       "      <td>COMPLETED</td>\n",
       "      <td>4</td>\n",
       "    </tr>\n",
       "  </tbody>\n",
       "</table>\n",
       "<p>39211 rows × 11 columns</p>\n",
       "</div>"
      ],
      "text/plain": [
       "                Tipo_Local  Num_Vendas Velocidade Estado    Municipio  \\\n",
       "0      EDIFICACAO COMPLETA           1   200 MBPS     MG        BETIM   \n",
       "1                  MORADIA           1   400 MBPS     ES        SERRA   \n",
       "2                  MORADIA           1   400 MBPS     PA        BELÉM   \n",
       "3                  MORADIA           1    50 MBPS     PA        BELÉM   \n",
       "4      EDIFICACAO COMPLETA           1   200 MBPS     PA        BELÉM   \n",
       "...                    ...         ...        ...    ...          ...   \n",
       "39206  EDIFICACAO COMPLETA           1   200 MBPS     RJ    NILÓPOLIS   \n",
       "39207              MORADIA           1   400 MBPS     SC   RIO DO SUL   \n",
       "39208              MORADIA           1   400 MBPS     RS         IJUÍ   \n",
       "39209              MORADIA           1   400 MBPS     MA   SANTA INÊS   \n",
       "39210              MORADIA           1   400 MBPS     MG  SETE LAGOAS   \n",
       "\n",
       "                            Servico                    Produto Dt_Solicitacao  \\\n",
       "0                          TELEMONT  Dual Play Fibra BL + VoIP     2022-09-20   \n",
       "1                          TELEMONT  Dual Play Fibra BL + VoIP     2023-01-23   \n",
       "2                           CONECTA  Dual Play Fibra BL + VoIP     2022-09-22   \n",
       "3                           CONECTA  Dual Play Fibra BL + VoIP     2022-11-14   \n",
       "4      SEREDE SERVICOS DE REDE S.A.              VELOC_200MBPS     2022-09-16   \n",
       "...                             ...                        ...            ...   \n",
       "39206                        SEREDE  Dual Play Fibra BL + VoIP     2022-06-03   \n",
       "39207                        SEREDE  Dual Play Fibra BL + VoIP     2022-07-01   \n",
       "39208                        SEREDE  Dual Play Fibra BL + VoIP     2022-06-03   \n",
       "39209                       CONECTA  Dual Play Fibra BL + VoIP     2022-07-02   \n",
       "39210                      TELEMONT  Dual Play Fibra BL + VoIP     2022-07-07   \n",
       "\n",
       "      Dt_Instalacao Status_Instalacao  Duracao_Servico  \n",
       "0        2022-09-24         COMPLETED                4  \n",
       "1        2023-01-28         COMPLETED                5  \n",
       "2        2022-09-29         COMPLETED                7  \n",
       "3        2022-11-21         COMPLETED                7  \n",
       "4        2022-09-21         COMPLETED                5  \n",
       "...             ...               ...              ...  \n",
       "39206    2022-06-06         COMPLETED                3  \n",
       "39207    2022-07-07         COMPLETED                6  \n",
       "39208    2022-06-08         COMPLETED                5  \n",
       "39209    2022-07-04         COMPLETED                2  \n",
       "39210    2022-07-11         COMPLETED                4  \n",
       "\n",
       "[39211 rows x 11 columns]"
      ]
     },
     "execution_count": 62,
     "metadata": {},
     "output_type": "execute_result"
    }
   ],
   "source": [
    "df_analytics"
   ]
  },
  {
   "cell_type": "code",
   "execution_count": 63,
   "id": "7d9da673",
   "metadata": {},
   "outputs": [],
   "source": [
    "#observando a df_analytics a velocidade esta em object (valor da velocidade e sua unidade) e alguns dos dados estão escritos de forma diferente\n",
    "#Sendo assim, uso a função apply em conjunto com lambda para substituir strigs por um espaço, tendo so numero nas celulas as transformo int\n",
    "df_analytics['Velocidade'] = df_analytics['Velocidade'].apply(lambda x: re.sub('[^0-9]', '', str(x))).astype(int)"
   ]
  },
  {
   "cell_type": "code",
   "execution_count": 64,
   "id": "1da38244",
   "metadata": {},
   "outputs": [
    {
     "name": "stdout",
     "output_type": "stream",
     "text": [
      "<class 'pandas.core.frame.DataFrame'>\n",
      "RangeIndex: 39211 entries, 0 to 39210\n",
      "Data columns (total 11 columns):\n",
      " #   Column             Non-Null Count  Dtype         \n",
      "---  ------             --------------  -----         \n",
      " 0   Tipo_Local         39211 non-null  object        \n",
      " 1   Num_Vendas         39211 non-null  int64         \n",
      " 2   Velocidade         39211 non-null  int32         \n",
      " 3   Estado             39211 non-null  object        \n",
      " 4   Municipio          39211 non-null  object        \n",
      " 5   Servico            39211 non-null  object        \n",
      " 6   Produto            39211 non-null  object        \n",
      " 7   Dt_Solicitacao     39211 non-null  datetime64[ns]\n",
      " 8   Dt_Instalacao      39211 non-null  datetime64[ns]\n",
      " 9   Status_Instalacao  39211 non-null  object        \n",
      " 10  Duracao_Servico    39211 non-null  int32         \n",
      "dtypes: datetime64[ns](2), int32(2), int64(1), object(6)\n",
      "memory usage: 3.0+ MB\n"
     ]
    }
   ],
   "source": [
    "df_analytics.info()"
   ]
  },
  {
   "cell_type": "code",
   "execution_count": 65,
   "id": "5d44b59f",
   "metadata": {
    "scrolled": true
   },
   "outputs": [
    {
     "data": {
      "text/html": [
       "<div>\n",
       "<style scoped>\n",
       "    .dataframe tbody tr th:only-of-type {\n",
       "        vertical-align: middle;\n",
       "    }\n",
       "\n",
       "    .dataframe tbody tr th {\n",
       "        vertical-align: top;\n",
       "    }\n",
       "\n",
       "    .dataframe thead th {\n",
       "        text-align: right;\n",
       "    }\n",
       "</style>\n",
       "<table border=\"1\" class=\"dataframe\">\n",
       "  <thead>\n",
       "    <tr style=\"text-align: right;\">\n",
       "      <th></th>\n",
       "      <th>Tipo_Local</th>\n",
       "      <th>Num_Vendas</th>\n",
       "      <th>Velocidade_MBPS</th>\n",
       "      <th>Estado</th>\n",
       "      <th>Municipio</th>\n",
       "      <th>Servico</th>\n",
       "      <th>Produto</th>\n",
       "      <th>Dt_Solicitacao</th>\n",
       "      <th>Dt_Instalacao</th>\n",
       "      <th>Status_Instalacao</th>\n",
       "      <th>Duracao_Servico</th>\n",
       "    </tr>\n",
       "  </thead>\n",
       "  <tbody>\n",
       "    <tr>\n",
       "      <th>0</th>\n",
       "      <td>EDIFICACAO COMPLETA</td>\n",
       "      <td>1</td>\n",
       "      <td>200</td>\n",
       "      <td>MG</td>\n",
       "      <td>BETIM</td>\n",
       "      <td>TELEMONT</td>\n",
       "      <td>Dual Play Fibra BL + VoIP</td>\n",
       "      <td>2022-09-20</td>\n",
       "      <td>2022-09-24</td>\n",
       "      <td>COMPLETED</td>\n",
       "      <td>4</td>\n",
       "    </tr>\n",
       "    <tr>\n",
       "      <th>1</th>\n",
       "      <td>MORADIA</td>\n",
       "      <td>1</td>\n",
       "      <td>400</td>\n",
       "      <td>ES</td>\n",
       "      <td>SERRA</td>\n",
       "      <td>TELEMONT</td>\n",
       "      <td>Dual Play Fibra BL + VoIP</td>\n",
       "      <td>2023-01-23</td>\n",
       "      <td>2023-01-28</td>\n",
       "      <td>COMPLETED</td>\n",
       "      <td>5</td>\n",
       "    </tr>\n",
       "    <tr>\n",
       "      <th>2</th>\n",
       "      <td>MORADIA</td>\n",
       "      <td>1</td>\n",
       "      <td>400</td>\n",
       "      <td>PA</td>\n",
       "      <td>BELÉM</td>\n",
       "      <td>CONECTA</td>\n",
       "      <td>Dual Play Fibra BL + VoIP</td>\n",
       "      <td>2022-09-22</td>\n",
       "      <td>2022-09-29</td>\n",
       "      <td>COMPLETED</td>\n",
       "      <td>7</td>\n",
       "    </tr>\n",
       "    <tr>\n",
       "      <th>3</th>\n",
       "      <td>MORADIA</td>\n",
       "      <td>1</td>\n",
       "      <td>50</td>\n",
       "      <td>PA</td>\n",
       "      <td>BELÉM</td>\n",
       "      <td>CONECTA</td>\n",
       "      <td>Dual Play Fibra BL + VoIP</td>\n",
       "      <td>2022-11-14</td>\n",
       "      <td>2022-11-21</td>\n",
       "      <td>COMPLETED</td>\n",
       "      <td>7</td>\n",
       "    </tr>\n",
       "    <tr>\n",
       "      <th>4</th>\n",
       "      <td>EDIFICACAO COMPLETA</td>\n",
       "      <td>1</td>\n",
       "      <td>200</td>\n",
       "      <td>PA</td>\n",
       "      <td>BELÉM</td>\n",
       "      <td>SEREDE SERVICOS DE REDE S.A.</td>\n",
       "      <td>VELOC_200MBPS</td>\n",
       "      <td>2022-09-16</td>\n",
       "      <td>2022-09-21</td>\n",
       "      <td>COMPLETED</td>\n",
       "      <td>5</td>\n",
       "    </tr>\n",
       "    <tr>\n",
       "      <th>...</th>\n",
       "      <td>...</td>\n",
       "      <td>...</td>\n",
       "      <td>...</td>\n",
       "      <td>...</td>\n",
       "      <td>...</td>\n",
       "      <td>...</td>\n",
       "      <td>...</td>\n",
       "      <td>...</td>\n",
       "      <td>...</td>\n",
       "      <td>...</td>\n",
       "      <td>...</td>\n",
       "    </tr>\n",
       "    <tr>\n",
       "      <th>39206</th>\n",
       "      <td>EDIFICACAO COMPLETA</td>\n",
       "      <td>1</td>\n",
       "      <td>200</td>\n",
       "      <td>RJ</td>\n",
       "      <td>NILÓPOLIS</td>\n",
       "      <td>SEREDE</td>\n",
       "      <td>Dual Play Fibra BL + VoIP</td>\n",
       "      <td>2022-06-03</td>\n",
       "      <td>2022-06-06</td>\n",
       "      <td>COMPLETED</td>\n",
       "      <td>3</td>\n",
       "    </tr>\n",
       "    <tr>\n",
       "      <th>39207</th>\n",
       "      <td>MORADIA</td>\n",
       "      <td>1</td>\n",
       "      <td>400</td>\n",
       "      <td>SC</td>\n",
       "      <td>RIO DO SUL</td>\n",
       "      <td>SEREDE</td>\n",
       "      <td>Dual Play Fibra BL + VoIP</td>\n",
       "      <td>2022-07-01</td>\n",
       "      <td>2022-07-07</td>\n",
       "      <td>COMPLETED</td>\n",
       "      <td>6</td>\n",
       "    </tr>\n",
       "    <tr>\n",
       "      <th>39208</th>\n",
       "      <td>MORADIA</td>\n",
       "      <td>1</td>\n",
       "      <td>400</td>\n",
       "      <td>RS</td>\n",
       "      <td>IJUÍ</td>\n",
       "      <td>SEREDE</td>\n",
       "      <td>Dual Play Fibra BL + VoIP</td>\n",
       "      <td>2022-06-03</td>\n",
       "      <td>2022-06-08</td>\n",
       "      <td>COMPLETED</td>\n",
       "      <td>5</td>\n",
       "    </tr>\n",
       "    <tr>\n",
       "      <th>39209</th>\n",
       "      <td>MORADIA</td>\n",
       "      <td>1</td>\n",
       "      <td>400</td>\n",
       "      <td>MA</td>\n",
       "      <td>SANTA INÊS</td>\n",
       "      <td>CONECTA</td>\n",
       "      <td>Dual Play Fibra BL + VoIP</td>\n",
       "      <td>2022-07-02</td>\n",
       "      <td>2022-07-04</td>\n",
       "      <td>COMPLETED</td>\n",
       "      <td>2</td>\n",
       "    </tr>\n",
       "    <tr>\n",
       "      <th>39210</th>\n",
       "      <td>MORADIA</td>\n",
       "      <td>1</td>\n",
       "      <td>400</td>\n",
       "      <td>MG</td>\n",
       "      <td>SETE LAGOAS</td>\n",
       "      <td>TELEMONT</td>\n",
       "      <td>Dual Play Fibra BL + VoIP</td>\n",
       "      <td>2022-07-07</td>\n",
       "      <td>2022-07-11</td>\n",
       "      <td>COMPLETED</td>\n",
       "      <td>4</td>\n",
       "    </tr>\n",
       "  </tbody>\n",
       "</table>\n",
       "<p>39211 rows × 11 columns</p>\n",
       "</div>"
      ],
      "text/plain": [
       "                Tipo_Local  Num_Vendas  Velocidade_MBPS Estado    Municipio  \\\n",
       "0      EDIFICACAO COMPLETA           1              200     MG        BETIM   \n",
       "1                  MORADIA           1              400     ES        SERRA   \n",
       "2                  MORADIA           1              400     PA        BELÉM   \n",
       "3                  MORADIA           1               50     PA        BELÉM   \n",
       "4      EDIFICACAO COMPLETA           1              200     PA        BELÉM   \n",
       "...                    ...         ...              ...    ...          ...   \n",
       "39206  EDIFICACAO COMPLETA           1              200     RJ    NILÓPOLIS   \n",
       "39207              MORADIA           1              400     SC   RIO DO SUL   \n",
       "39208              MORADIA           1              400     RS         IJUÍ   \n",
       "39209              MORADIA           1              400     MA   SANTA INÊS   \n",
       "39210              MORADIA           1              400     MG  SETE LAGOAS   \n",
       "\n",
       "                            Servico                    Produto Dt_Solicitacao  \\\n",
       "0                          TELEMONT  Dual Play Fibra BL + VoIP     2022-09-20   \n",
       "1                          TELEMONT  Dual Play Fibra BL + VoIP     2023-01-23   \n",
       "2                           CONECTA  Dual Play Fibra BL + VoIP     2022-09-22   \n",
       "3                           CONECTA  Dual Play Fibra BL + VoIP     2022-11-14   \n",
       "4      SEREDE SERVICOS DE REDE S.A.              VELOC_200MBPS     2022-09-16   \n",
       "...                             ...                        ...            ...   \n",
       "39206                        SEREDE  Dual Play Fibra BL + VoIP     2022-06-03   \n",
       "39207                        SEREDE  Dual Play Fibra BL + VoIP     2022-07-01   \n",
       "39208                        SEREDE  Dual Play Fibra BL + VoIP     2022-06-03   \n",
       "39209                       CONECTA  Dual Play Fibra BL + VoIP     2022-07-02   \n",
       "39210                      TELEMONT  Dual Play Fibra BL + VoIP     2022-07-07   \n",
       "\n",
       "      Dt_Instalacao Status_Instalacao  Duracao_Servico  \n",
       "0        2022-09-24         COMPLETED                4  \n",
       "1        2023-01-28         COMPLETED                5  \n",
       "2        2022-09-29         COMPLETED                7  \n",
       "3        2022-11-21         COMPLETED                7  \n",
       "4        2022-09-21         COMPLETED                5  \n",
       "...             ...               ...              ...  \n",
       "39206    2022-06-06         COMPLETED                3  \n",
       "39207    2022-07-07         COMPLETED                6  \n",
       "39208    2022-06-08         COMPLETED                5  \n",
       "39209    2022-07-04         COMPLETED                2  \n",
       "39210    2022-07-11         COMPLETED                4  \n",
       "\n",
       "[39211 rows x 11 columns]"
      ]
     },
     "execution_count": 65,
     "metadata": {},
     "output_type": "execute_result"
    }
   ],
   "source": [
    "#renomeio a coluna de velocidade, adicionando a unidade MBPS\n",
    "df_analytics = df_analytics.rename(columns={'Velocidade': 'Velocidade_MBPS'})\n",
    "df_analytics"
   ]
  },
  {
   "cell_type": "code",
   "execution_count": 66,
   "id": "7335585b",
   "metadata": {
    "scrolled": true
   },
   "outputs": [
    {
     "data": {
      "text/html": [
       "<div>\n",
       "<style scoped>\n",
       "    .dataframe tbody tr th:only-of-type {\n",
       "        vertical-align: middle;\n",
       "    }\n",
       "\n",
       "    .dataframe tbody tr th {\n",
       "        vertical-align: top;\n",
       "    }\n",
       "\n",
       "    .dataframe thead th {\n",
       "        text-align: right;\n",
       "    }\n",
       "</style>\n",
       "<table border=\"1\" class=\"dataframe\">\n",
       "  <thead>\n",
       "    <tr style=\"text-align: right;\">\n",
       "      <th></th>\n",
       "      <th>Tipo_Local</th>\n",
       "      <th>Num_Vendas</th>\n",
       "      <th>Velocidade_MBPS</th>\n",
       "      <th>Estado</th>\n",
       "      <th>Municipio</th>\n",
       "      <th>Servico</th>\n",
       "      <th>Produto</th>\n",
       "      <th>Dt_Solicitacao</th>\n",
       "      <th>Dt_Instalacao</th>\n",
       "      <th>Status_Instalacao</th>\n",
       "      <th>Duracao_Servico</th>\n",
       "      <th>Mes</th>\n",
       "      <th>Ano</th>\n",
       "    </tr>\n",
       "  </thead>\n",
       "  <tbody>\n",
       "    <tr>\n",
       "      <th>0</th>\n",
       "      <td>EDIFICACAO COMPLETA</td>\n",
       "      <td>1</td>\n",
       "      <td>200</td>\n",
       "      <td>MG</td>\n",
       "      <td>BETIM</td>\n",
       "      <td>TELEMONT</td>\n",
       "      <td>Dual Play Fibra BL + VoIP</td>\n",
       "      <td>2022-09-20</td>\n",
       "      <td>2022-09-24</td>\n",
       "      <td>COMPLETED</td>\n",
       "      <td>4</td>\n",
       "      <td>September</td>\n",
       "      <td>2022</td>\n",
       "    </tr>\n",
       "    <tr>\n",
       "      <th>1</th>\n",
       "      <td>MORADIA</td>\n",
       "      <td>1</td>\n",
       "      <td>400</td>\n",
       "      <td>ES</td>\n",
       "      <td>SERRA</td>\n",
       "      <td>TELEMONT</td>\n",
       "      <td>Dual Play Fibra BL + VoIP</td>\n",
       "      <td>2023-01-23</td>\n",
       "      <td>2023-01-28</td>\n",
       "      <td>COMPLETED</td>\n",
       "      <td>5</td>\n",
       "      <td>January</td>\n",
       "      <td>2023</td>\n",
       "    </tr>\n",
       "    <tr>\n",
       "      <th>2</th>\n",
       "      <td>MORADIA</td>\n",
       "      <td>1</td>\n",
       "      <td>400</td>\n",
       "      <td>PA</td>\n",
       "      <td>BELÉM</td>\n",
       "      <td>CONECTA</td>\n",
       "      <td>Dual Play Fibra BL + VoIP</td>\n",
       "      <td>2022-09-22</td>\n",
       "      <td>2022-09-29</td>\n",
       "      <td>COMPLETED</td>\n",
       "      <td>7</td>\n",
       "      <td>September</td>\n",
       "      <td>2022</td>\n",
       "    </tr>\n",
       "    <tr>\n",
       "      <th>3</th>\n",
       "      <td>MORADIA</td>\n",
       "      <td>1</td>\n",
       "      <td>50</td>\n",
       "      <td>PA</td>\n",
       "      <td>BELÉM</td>\n",
       "      <td>CONECTA</td>\n",
       "      <td>Dual Play Fibra BL + VoIP</td>\n",
       "      <td>2022-11-14</td>\n",
       "      <td>2022-11-21</td>\n",
       "      <td>COMPLETED</td>\n",
       "      <td>7</td>\n",
       "      <td>November</td>\n",
       "      <td>2022</td>\n",
       "    </tr>\n",
       "    <tr>\n",
       "      <th>4</th>\n",
       "      <td>EDIFICACAO COMPLETA</td>\n",
       "      <td>1</td>\n",
       "      <td>200</td>\n",
       "      <td>PA</td>\n",
       "      <td>BELÉM</td>\n",
       "      <td>SEREDE SERVICOS DE REDE S.A.</td>\n",
       "      <td>VELOC_200MBPS</td>\n",
       "      <td>2022-09-16</td>\n",
       "      <td>2022-09-21</td>\n",
       "      <td>COMPLETED</td>\n",
       "      <td>5</td>\n",
       "      <td>September</td>\n",
       "      <td>2022</td>\n",
       "    </tr>\n",
       "    <tr>\n",
       "      <th>...</th>\n",
       "      <td>...</td>\n",
       "      <td>...</td>\n",
       "      <td>...</td>\n",
       "      <td>...</td>\n",
       "      <td>...</td>\n",
       "      <td>...</td>\n",
       "      <td>...</td>\n",
       "      <td>...</td>\n",
       "      <td>...</td>\n",
       "      <td>...</td>\n",
       "      <td>...</td>\n",
       "      <td>...</td>\n",
       "      <td>...</td>\n",
       "    </tr>\n",
       "    <tr>\n",
       "      <th>39206</th>\n",
       "      <td>EDIFICACAO COMPLETA</td>\n",
       "      <td>1</td>\n",
       "      <td>200</td>\n",
       "      <td>RJ</td>\n",
       "      <td>NILÓPOLIS</td>\n",
       "      <td>SEREDE</td>\n",
       "      <td>Dual Play Fibra BL + VoIP</td>\n",
       "      <td>2022-06-03</td>\n",
       "      <td>2022-06-06</td>\n",
       "      <td>COMPLETED</td>\n",
       "      <td>3</td>\n",
       "      <td>June</td>\n",
       "      <td>2022</td>\n",
       "    </tr>\n",
       "    <tr>\n",
       "      <th>39207</th>\n",
       "      <td>MORADIA</td>\n",
       "      <td>1</td>\n",
       "      <td>400</td>\n",
       "      <td>SC</td>\n",
       "      <td>RIO DO SUL</td>\n",
       "      <td>SEREDE</td>\n",
       "      <td>Dual Play Fibra BL + VoIP</td>\n",
       "      <td>2022-07-01</td>\n",
       "      <td>2022-07-07</td>\n",
       "      <td>COMPLETED</td>\n",
       "      <td>6</td>\n",
       "      <td>July</td>\n",
       "      <td>2022</td>\n",
       "    </tr>\n",
       "    <tr>\n",
       "      <th>39208</th>\n",
       "      <td>MORADIA</td>\n",
       "      <td>1</td>\n",
       "      <td>400</td>\n",
       "      <td>RS</td>\n",
       "      <td>IJUÍ</td>\n",
       "      <td>SEREDE</td>\n",
       "      <td>Dual Play Fibra BL + VoIP</td>\n",
       "      <td>2022-06-03</td>\n",
       "      <td>2022-06-08</td>\n",
       "      <td>COMPLETED</td>\n",
       "      <td>5</td>\n",
       "      <td>June</td>\n",
       "      <td>2022</td>\n",
       "    </tr>\n",
       "    <tr>\n",
       "      <th>39209</th>\n",
       "      <td>MORADIA</td>\n",
       "      <td>1</td>\n",
       "      <td>400</td>\n",
       "      <td>MA</td>\n",
       "      <td>SANTA INÊS</td>\n",
       "      <td>CONECTA</td>\n",
       "      <td>Dual Play Fibra BL + VoIP</td>\n",
       "      <td>2022-07-02</td>\n",
       "      <td>2022-07-04</td>\n",
       "      <td>COMPLETED</td>\n",
       "      <td>2</td>\n",
       "      <td>July</td>\n",
       "      <td>2022</td>\n",
       "    </tr>\n",
       "    <tr>\n",
       "      <th>39210</th>\n",
       "      <td>MORADIA</td>\n",
       "      <td>1</td>\n",
       "      <td>400</td>\n",
       "      <td>MG</td>\n",
       "      <td>SETE LAGOAS</td>\n",
       "      <td>TELEMONT</td>\n",
       "      <td>Dual Play Fibra BL + VoIP</td>\n",
       "      <td>2022-07-07</td>\n",
       "      <td>2022-07-11</td>\n",
       "      <td>COMPLETED</td>\n",
       "      <td>4</td>\n",
       "      <td>July</td>\n",
       "      <td>2022</td>\n",
       "    </tr>\n",
       "  </tbody>\n",
       "</table>\n",
       "<p>39211 rows × 13 columns</p>\n",
       "</div>"
      ],
      "text/plain": [
       "                Tipo_Local  Num_Vendas  Velocidade_MBPS Estado    Municipio  \\\n",
       "0      EDIFICACAO COMPLETA           1              200     MG        BETIM   \n",
       "1                  MORADIA           1              400     ES        SERRA   \n",
       "2                  MORADIA           1              400     PA        BELÉM   \n",
       "3                  MORADIA           1               50     PA        BELÉM   \n",
       "4      EDIFICACAO COMPLETA           1              200     PA        BELÉM   \n",
       "...                    ...         ...              ...    ...          ...   \n",
       "39206  EDIFICACAO COMPLETA           1              200     RJ    NILÓPOLIS   \n",
       "39207              MORADIA           1              400     SC   RIO DO SUL   \n",
       "39208              MORADIA           1              400     RS         IJUÍ   \n",
       "39209              MORADIA           1              400     MA   SANTA INÊS   \n",
       "39210              MORADIA           1              400     MG  SETE LAGOAS   \n",
       "\n",
       "                            Servico                    Produto Dt_Solicitacao  \\\n",
       "0                          TELEMONT  Dual Play Fibra BL + VoIP     2022-09-20   \n",
       "1                          TELEMONT  Dual Play Fibra BL + VoIP     2023-01-23   \n",
       "2                           CONECTA  Dual Play Fibra BL + VoIP     2022-09-22   \n",
       "3                           CONECTA  Dual Play Fibra BL + VoIP     2022-11-14   \n",
       "4      SEREDE SERVICOS DE REDE S.A.              VELOC_200MBPS     2022-09-16   \n",
       "...                             ...                        ...            ...   \n",
       "39206                        SEREDE  Dual Play Fibra BL + VoIP     2022-06-03   \n",
       "39207                        SEREDE  Dual Play Fibra BL + VoIP     2022-07-01   \n",
       "39208                        SEREDE  Dual Play Fibra BL + VoIP     2022-06-03   \n",
       "39209                       CONECTA  Dual Play Fibra BL + VoIP     2022-07-02   \n",
       "39210                      TELEMONT  Dual Play Fibra BL + VoIP     2022-07-07   \n",
       "\n",
       "      Dt_Instalacao Status_Instalacao  Duracao_Servico        Mes   Ano  \n",
       "0        2022-09-24         COMPLETED                4  September  2022  \n",
       "1        2023-01-28         COMPLETED                5    January  2023  \n",
       "2        2022-09-29         COMPLETED                7  September  2022  \n",
       "3        2022-11-21         COMPLETED                7   November  2022  \n",
       "4        2022-09-21         COMPLETED                5  September  2022  \n",
       "...             ...               ...              ...        ...   ...  \n",
       "39206    2022-06-06         COMPLETED                3       June  2022  \n",
       "39207    2022-07-07         COMPLETED                6       July  2022  \n",
       "39208    2022-06-08         COMPLETED                5       June  2022  \n",
       "39209    2022-07-04         COMPLETED                2       July  2022  \n",
       "39210    2022-07-11         COMPLETED                4       July  2022  \n",
       "\n",
       "[39211 rows x 13 columns]"
      ]
     },
     "execution_count": 66,
     "metadata": {},
     "output_type": "execute_result"
    }
   ],
   "source": [
    "#Aqui percebo que para analisar os dados em mes e ano, preciso extrair esses dados da coluna \"Dt_Solicitação\"\n",
    "#Sendo assim, tenho mes e ano em duas novas colunas\n",
    "df_analytics['Mes'] = df_analytics['Dt_Solicitacao'].dt.strftime('%B')\n",
    "df_analytics['Ano'] = df_analytics['Dt_Solicitacao'].dt.year\n",
    "df_analytics"
   ]
  },
  {
   "cell_type": "markdown",
   "id": "5328f7d6",
   "metadata": {},
   "source": [
    "#### Com o DataFrame tratado e pronto para gerar os insights, começo a utilizar as bibliotecas `matplotlib` e `plotly.express`.\r\n",
    "#### Observe que, neste ponto, procuro gerar os insights da forma mais variada possível. Isso é proposital, com o intuito de demonstrar o conhecimento em diversas funções das respectivas bibliotecas\r\n"
   ]
  },
  {
   "cell_type": "markdown",
   "id": "9c961deb",
   "metadata": {},
   "source": [
    "### Insights para visulizar as vendas de acordo com o tempo."
   ]
  },
  {
   "cell_type": "code",
   "execution_count": 67,
   "id": "0ef80a7a",
   "metadata": {
    "scrolled": true
   },
   "outputs": [
    {
     "data": {
      "application/vnd.plotly.v1+json": {
       "config": {
        "plotlyServerURL": "https://plot.ly"
       },
       "data": [
        {
         "alignmentgroup": "True",
         "hovertemplate": "Mes=%{x}<br>Num_Vendas=%{y}<br>Ano=%{marker.color}<extra></extra>",
         "legendgroup": "",
         "marker": {
          "color": [
           2022,
           2022,
           2022,
           2022,
           2022,
           2022,
           2022,
           2023,
           2023
          ],
          "coloraxis": "coloraxis",
          "pattern": {
           "shape": ""
          }
         },
         "name": "",
         "offsetgroup": "",
         "orientation": "v",
         "showlegend": false,
         "textposition": "auto",
         "type": "bar",
         "x": [
          "August",
          "December",
          "July",
          "June",
          "November",
          "October",
          "September",
          "February",
          "January"
         ],
         "xaxis": "x",
         "y": [
          5487,
          3263,
          5236,
          5286,
          3854,
          4758,
          5160,
          1894,
          3954
         ],
         "yaxis": "y"
        }
       ],
       "layout": {
        "autosize": true,
        "barmode": "relative",
        "coloraxis": {
         "colorbar": {
          "title": {
           "text": "Ano"
          }
         },
         "colorscale": [
          [
           0,
           "#0d0887"
          ],
          [
           0.1111111111111111,
           "#46039f"
          ],
          [
           0.2222222222222222,
           "#7201a8"
          ],
          [
           0.3333333333333333,
           "#9c179e"
          ],
          [
           0.4444444444444444,
           "#bd3786"
          ],
          [
           0.5555555555555556,
           "#d8576b"
          ],
          [
           0.6666666666666666,
           "#ed7953"
          ],
          [
           0.7777777777777778,
           "#fb9f3a"
          ],
          [
           0.8888888888888888,
           "#fdca26"
          ],
          [
           1,
           "#f0f921"
          ]
         ]
        },
        "legend": {
         "tracegroupgap": 0
        },
        "margin": {
         "t": 60
        },
        "template": {
         "data": {
          "bar": [
           {
            "error_x": {
             "color": "#2a3f5f"
            },
            "error_y": {
             "color": "#2a3f5f"
            },
            "marker": {
             "line": {
              "color": "#E5ECF6",
              "width": 0.5
             },
             "pattern": {
              "fillmode": "overlay",
              "size": 10,
              "solidity": 0.2
             }
            },
            "type": "bar"
           }
          ],
          "barpolar": [
           {
            "marker": {
             "line": {
              "color": "#E5ECF6",
              "width": 0.5
             },
             "pattern": {
              "fillmode": "overlay",
              "size": 10,
              "solidity": 0.2
             }
            },
            "type": "barpolar"
           }
          ],
          "carpet": [
           {
            "aaxis": {
             "endlinecolor": "#2a3f5f",
             "gridcolor": "white",
             "linecolor": "white",
             "minorgridcolor": "white",
             "startlinecolor": "#2a3f5f"
            },
            "baxis": {
             "endlinecolor": "#2a3f5f",
             "gridcolor": "white",
             "linecolor": "white",
             "minorgridcolor": "white",
             "startlinecolor": "#2a3f5f"
            },
            "type": "carpet"
           }
          ],
          "choropleth": [
           {
            "colorbar": {
             "outlinewidth": 0,
             "ticks": ""
            },
            "type": "choropleth"
           }
          ],
          "contour": [
           {
            "colorbar": {
             "outlinewidth": 0,
             "ticks": ""
            },
            "colorscale": [
             [
              0,
              "#0d0887"
             ],
             [
              0.1111111111111111,
              "#46039f"
             ],
             [
              0.2222222222222222,
              "#7201a8"
             ],
             [
              0.3333333333333333,
              "#9c179e"
             ],
             [
              0.4444444444444444,
              "#bd3786"
             ],
             [
              0.5555555555555556,
              "#d8576b"
             ],
             [
              0.6666666666666666,
              "#ed7953"
             ],
             [
              0.7777777777777778,
              "#fb9f3a"
             ],
             [
              0.8888888888888888,
              "#fdca26"
             ],
             [
              1,
              "#f0f921"
             ]
            ],
            "type": "contour"
           }
          ],
          "contourcarpet": [
           {
            "colorbar": {
             "outlinewidth": 0,
             "ticks": ""
            },
            "type": "contourcarpet"
           }
          ],
          "heatmap": [
           {
            "colorbar": {
             "outlinewidth": 0,
             "ticks": ""
            },
            "colorscale": [
             [
              0,
              "#0d0887"
             ],
             [
              0.1111111111111111,
              "#46039f"
             ],
             [
              0.2222222222222222,
              "#7201a8"
             ],
             [
              0.3333333333333333,
              "#9c179e"
             ],
             [
              0.4444444444444444,
              "#bd3786"
             ],
             [
              0.5555555555555556,
              "#d8576b"
             ],
             [
              0.6666666666666666,
              "#ed7953"
             ],
             [
              0.7777777777777778,
              "#fb9f3a"
             ],
             [
              0.8888888888888888,
              "#fdca26"
             ],
             [
              1,
              "#f0f921"
             ]
            ],
            "type": "heatmap"
           }
          ],
          "heatmapgl": [
           {
            "colorbar": {
             "outlinewidth": 0,
             "ticks": ""
            },
            "colorscale": [
             [
              0,
              "#0d0887"
             ],
             [
              0.1111111111111111,
              "#46039f"
             ],
             [
              0.2222222222222222,
              "#7201a8"
             ],
             [
              0.3333333333333333,
              "#9c179e"
             ],
             [
              0.4444444444444444,
              "#bd3786"
             ],
             [
              0.5555555555555556,
              "#d8576b"
             ],
             [
              0.6666666666666666,
              "#ed7953"
             ],
             [
              0.7777777777777778,
              "#fb9f3a"
             ],
             [
              0.8888888888888888,
              "#fdca26"
             ],
             [
              1,
              "#f0f921"
             ]
            ],
            "type": "heatmapgl"
           }
          ],
          "histogram": [
           {
            "marker": {
             "pattern": {
              "fillmode": "overlay",
              "size": 10,
              "solidity": 0.2
             }
            },
            "type": "histogram"
           }
          ],
          "histogram2d": [
           {
            "colorbar": {
             "outlinewidth": 0,
             "ticks": ""
            },
            "colorscale": [
             [
              0,
              "#0d0887"
             ],
             [
              0.1111111111111111,
              "#46039f"
             ],
             [
              0.2222222222222222,
              "#7201a8"
             ],
             [
              0.3333333333333333,
              "#9c179e"
             ],
             [
              0.4444444444444444,
              "#bd3786"
             ],
             [
              0.5555555555555556,
              "#d8576b"
             ],
             [
              0.6666666666666666,
              "#ed7953"
             ],
             [
              0.7777777777777778,
              "#fb9f3a"
             ],
             [
              0.8888888888888888,
              "#fdca26"
             ],
             [
              1,
              "#f0f921"
             ]
            ],
            "type": "histogram2d"
           }
          ],
          "histogram2dcontour": [
           {
            "colorbar": {
             "outlinewidth": 0,
             "ticks": ""
            },
            "colorscale": [
             [
              0,
              "#0d0887"
             ],
             [
              0.1111111111111111,
              "#46039f"
             ],
             [
              0.2222222222222222,
              "#7201a8"
             ],
             [
              0.3333333333333333,
              "#9c179e"
             ],
             [
              0.4444444444444444,
              "#bd3786"
             ],
             [
              0.5555555555555556,
              "#d8576b"
             ],
             [
              0.6666666666666666,
              "#ed7953"
             ],
             [
              0.7777777777777778,
              "#fb9f3a"
             ],
             [
              0.8888888888888888,
              "#fdca26"
             ],
             [
              1,
              "#f0f921"
             ]
            ],
            "type": "histogram2dcontour"
           }
          ],
          "mesh3d": [
           {
            "colorbar": {
             "outlinewidth": 0,
             "ticks": ""
            },
            "type": "mesh3d"
           }
          ],
          "parcoords": [
           {
            "line": {
             "colorbar": {
              "outlinewidth": 0,
              "ticks": ""
             }
            },
            "type": "parcoords"
           }
          ],
          "pie": [
           {
            "automargin": true,
            "type": "pie"
           }
          ],
          "scatter": [
           {
            "fillpattern": {
             "fillmode": "overlay",
             "size": 10,
             "solidity": 0.2
            },
            "type": "scatter"
           }
          ],
          "scatter3d": [
           {
            "line": {
             "colorbar": {
              "outlinewidth": 0,
              "ticks": ""
             }
            },
            "marker": {
             "colorbar": {
              "outlinewidth": 0,
              "ticks": ""
             }
            },
            "type": "scatter3d"
           }
          ],
          "scattercarpet": [
           {
            "marker": {
             "colorbar": {
              "outlinewidth": 0,
              "ticks": ""
             }
            },
            "type": "scattercarpet"
           }
          ],
          "scattergeo": [
           {
            "marker": {
             "colorbar": {
              "outlinewidth": 0,
              "ticks": ""
             }
            },
            "type": "scattergeo"
           }
          ],
          "scattergl": [
           {
            "marker": {
             "colorbar": {
              "outlinewidth": 0,
              "ticks": ""
             }
            },
            "type": "scattergl"
           }
          ],
          "scattermapbox": [
           {
            "marker": {
             "colorbar": {
              "outlinewidth": 0,
              "ticks": ""
             }
            },
            "type": "scattermapbox"
           }
          ],
          "scatterpolar": [
           {
            "marker": {
             "colorbar": {
              "outlinewidth": 0,
              "ticks": ""
             }
            },
            "type": "scatterpolar"
           }
          ],
          "scatterpolargl": [
           {
            "marker": {
             "colorbar": {
              "outlinewidth": 0,
              "ticks": ""
             }
            },
            "type": "scatterpolargl"
           }
          ],
          "scatterternary": [
           {
            "marker": {
             "colorbar": {
              "outlinewidth": 0,
              "ticks": ""
             }
            },
            "type": "scatterternary"
           }
          ],
          "surface": [
           {
            "colorbar": {
             "outlinewidth": 0,
             "ticks": ""
            },
            "colorscale": [
             [
              0,
              "#0d0887"
             ],
             [
              0.1111111111111111,
              "#46039f"
             ],
             [
              0.2222222222222222,
              "#7201a8"
             ],
             [
              0.3333333333333333,
              "#9c179e"
             ],
             [
              0.4444444444444444,
              "#bd3786"
             ],
             [
              0.5555555555555556,
              "#d8576b"
             ],
             [
              0.6666666666666666,
              "#ed7953"
             ],
             [
              0.7777777777777778,
              "#fb9f3a"
             ],
             [
              0.8888888888888888,
              "#fdca26"
             ],
             [
              1,
              "#f0f921"
             ]
            ],
            "type": "surface"
           }
          ],
          "table": [
           {
            "cells": {
             "fill": {
              "color": "#EBF0F8"
             },
             "line": {
              "color": "white"
             }
            },
            "header": {
             "fill": {
              "color": "#C8D4E3"
             },
             "line": {
              "color": "white"
             }
            },
            "type": "table"
           }
          ]
         },
         "layout": {
          "annotationdefaults": {
           "arrowcolor": "#2a3f5f",
           "arrowhead": 0,
           "arrowwidth": 1
          },
          "autotypenumbers": "strict",
          "coloraxis": {
           "colorbar": {
            "outlinewidth": 0,
            "ticks": ""
           }
          },
          "colorscale": {
           "diverging": [
            [
             0,
             "#8e0152"
            ],
            [
             0.1,
             "#c51b7d"
            ],
            [
             0.2,
             "#de77ae"
            ],
            [
             0.3,
             "#f1b6da"
            ],
            [
             0.4,
             "#fde0ef"
            ],
            [
             0.5,
             "#f7f7f7"
            ],
            [
             0.6,
             "#e6f5d0"
            ],
            [
             0.7,
             "#b8e186"
            ],
            [
             0.8,
             "#7fbc41"
            ],
            [
             0.9,
             "#4d9221"
            ],
            [
             1,
             "#276419"
            ]
           ],
           "sequential": [
            [
             0,
             "#0d0887"
            ],
            [
             0.1111111111111111,
             "#46039f"
            ],
            [
             0.2222222222222222,
             "#7201a8"
            ],
            [
             0.3333333333333333,
             "#9c179e"
            ],
            [
             0.4444444444444444,
             "#bd3786"
            ],
            [
             0.5555555555555556,
             "#d8576b"
            ],
            [
             0.6666666666666666,
             "#ed7953"
            ],
            [
             0.7777777777777778,
             "#fb9f3a"
            ],
            [
             0.8888888888888888,
             "#fdca26"
            ],
            [
             1,
             "#f0f921"
            ]
           ],
           "sequentialminus": [
            [
             0,
             "#0d0887"
            ],
            [
             0.1111111111111111,
             "#46039f"
            ],
            [
             0.2222222222222222,
             "#7201a8"
            ],
            [
             0.3333333333333333,
             "#9c179e"
            ],
            [
             0.4444444444444444,
             "#bd3786"
            ],
            [
             0.5555555555555556,
             "#d8576b"
            ],
            [
             0.6666666666666666,
             "#ed7953"
            ],
            [
             0.7777777777777778,
             "#fb9f3a"
            ],
            [
             0.8888888888888888,
             "#fdca26"
            ],
            [
             1,
             "#f0f921"
            ]
           ]
          },
          "colorway": [
           "#636efa",
           "#EF553B",
           "#00cc96",
           "#ab63fa",
           "#FFA15A",
           "#19d3f3",
           "#FF6692",
           "#B6E880",
           "#FF97FF",
           "#FECB52"
          ],
          "font": {
           "color": "#2a3f5f"
          },
          "geo": {
           "bgcolor": "white",
           "lakecolor": "white",
           "landcolor": "#E5ECF6",
           "showlakes": true,
           "showland": true,
           "subunitcolor": "white"
          },
          "hoverlabel": {
           "align": "left"
          },
          "hovermode": "closest",
          "mapbox": {
           "style": "light"
          },
          "paper_bgcolor": "white",
          "plot_bgcolor": "#E5ECF6",
          "polar": {
           "angularaxis": {
            "gridcolor": "white",
            "linecolor": "white",
            "ticks": ""
           },
           "bgcolor": "#E5ECF6",
           "radialaxis": {
            "gridcolor": "white",
            "linecolor": "white",
            "ticks": ""
           }
          },
          "scene": {
           "xaxis": {
            "backgroundcolor": "#E5ECF6",
            "gridcolor": "white",
            "gridwidth": 2,
            "linecolor": "white",
            "showbackground": true,
            "ticks": "",
            "zerolinecolor": "white"
           },
           "yaxis": {
            "backgroundcolor": "#E5ECF6",
            "gridcolor": "white",
            "gridwidth": 2,
            "linecolor": "white",
            "showbackground": true,
            "ticks": "",
            "zerolinecolor": "white"
           },
           "zaxis": {
            "backgroundcolor": "#E5ECF6",
            "gridcolor": "white",
            "gridwidth": 2,
            "linecolor": "white",
            "showbackground": true,
            "ticks": "",
            "zerolinecolor": "white"
           }
          },
          "shapedefaults": {
           "line": {
            "color": "#2a3f5f"
           }
          },
          "ternary": {
           "aaxis": {
            "gridcolor": "white",
            "linecolor": "white",
            "ticks": ""
           },
           "baxis": {
            "gridcolor": "white",
            "linecolor": "white",
            "ticks": ""
           },
           "bgcolor": "#E5ECF6",
           "caxis": {
            "gridcolor": "white",
            "linecolor": "white",
            "ticks": ""
           }
          },
          "title": {
           "x": 0.05
          },
          "xaxis": {
           "automargin": true,
           "gridcolor": "white",
           "linecolor": "white",
           "ticks": "",
           "title": {
            "standoff": 15
           },
           "zerolinecolor": "white",
           "zerolinewidth": 2
          },
          "yaxis": {
           "automargin": true,
           "gridcolor": "white",
           "linecolor": "white",
           "ticks": "",
           "title": {
            "standoff": 15
           },
           "zerolinecolor": "white",
           "zerolinewidth": 2
          }
         }
        },
        "title": {
         "text": "Vendas Mensais por Ano"
        },
        "xaxis": {
         "anchor": "y",
         "autorange": true,
         "domain": [
          0,
          1
         ],
         "range": [
          -0.5,
          8.5
         ],
         "title": {},
         "type": "category"
        },
        "yaxis": {
         "anchor": "x",
         "autorange": true,
         "domain": [
          0,
          1
         ],
         "range": [
          0,
          5775.789473684211
         ],
         "title": {},
         "type": "linear"
        }
       }
      },
      "image/png": "[encoded data removed]",
      "text/html": [
       "<div>                            <div id=\"4031e15e-8382-4793-bc7f-46c6d728a847\" class=\"plotly-graph-div\" style=\"height:525px; width:100%;\"></div>            <script type=\"text/javascript\">                require([\"plotly\"], function(Plotly) {                    window.PLOTLYENV=window.PLOTLYENV || {};                                    if (document.getElementById(\"4031e15e-8382-4793-bc7f-46c6d728a847\")) {                    Plotly.newPlot(                        \"4031e15e-8382-4793-bc7f-46c6d728a847\",                        [{\"alignmentgroup\":\"True\",\"hovertemplate\":\"Mes=%{x}\\u003cbr\\u003eNum_Vendas=%{y}\\u003cbr\\u003eAno=%{marker.color}\\u003cextra\\u003e\\u003c\\u002fextra\\u003e\",\"legendgroup\":\"\",\"marker\":{\"color\":[2022,2022,2022,2022,2022,2022,2022,2023,2023],\"coloraxis\":\"coloraxis\",\"pattern\":{\"shape\":\"\"}},\"name\":\"\",\"offsetgroup\":\"\",\"orientation\":\"v\",\"showlegend\":false,\"textposition\":\"auto\",\"x\":[\"August\",\"December\",\"July\",\"June\",\"November\",\"October\",\"September\",\"February\",\"January\"],\"xaxis\":\"x\",\"y\":[5487,3263,5236,5286,3854,4758,5160,1894,3954],\"yaxis\":\"y\",\"type\":\"bar\"}],                        {\"template\":{\"data\":{\"histogram2dcontour\":[{\"type\":\"histogram2dcontour\",\"colorbar\":{\"outlinewidth\":0,\"ticks\":\"\"},\"colorscale\":[[0.0,\"#0d0887\"],[0.1111111111111111,\"#46039f\"],[0.2222222222222222,\"#7201a8\"],[0.3333333333333333,\"#9c179e\"],[0.4444444444444444,\"#bd3786\"],[0.5555555555555556,\"#d8576b\"],[0.6666666666666666,\"#ed7953\"],[0.7777777777777778,\"#fb9f3a\"],[0.8888888888888888,\"#fdca26\"],[1.0,\"#f0f921\"]]}],\"choropleth\":[{\"type\":\"choropleth\",\"colorbar\":{\"outlinewidth\":0,\"ticks\":\"\"}}],\"histogram2d\":[{\"type\":\"histogram2d\",\"colorbar\":{\"outlinewidth\":0,\"ticks\":\"\"},\"colorscale\":[[0.0,\"#0d0887\"],[0.1111111111111111,\"#46039f\"],[0.2222222222222222,\"#7201a8\"],[0.3333333333333333,\"#9c179e\"],[0.4444444444444444,\"#bd3786\"],[0.5555555555555556,\"#d8576b\"],[0.6666666666666666,\"#ed7953\"],[0.7777777777777778,\"#fb9f3a\"],[0.8888888888888888,\"#fdca26\"],[1.0,\"#f0f921\"]]}],\"heatmap\":[{\"type\":\"heatmap\",\"colorbar\":{\"outlinewidth\":0,\"ticks\":\"\"},\"colorscale\":[[0.0,\"#0d0887\"],[0.1111111111111111,\"#46039f\"],[0.2222222222222222,\"#7201a8\"],[0.3333333333333333,\"#9c179e\"],[0.4444444444444444,\"#bd3786\"],[0.5555555555555556,\"#d8576b\"],[0.6666666666666666,\"#ed7953\"],[0.7777777777777778,\"#fb9f3a\"],[0.8888888888888888,\"#fdca26\"],[1.0,\"#f0f921\"]]}],\"heatmapgl\":[{\"type\":\"heatmapgl\",\"colorbar\":{\"outlinewidth\":0,\"ticks\":\"\"},\"colorscale\":[[0.0,\"#0d0887\"],[0.1111111111111111,\"#46039f\"],[0.2222222222222222,\"#7201a8\"],[0.3333333333333333,\"#9c179e\"],[0.4444444444444444,\"#bd3786\"],[0.5555555555555556,\"#d8576b\"],[0.6666666666666666,\"#ed7953\"],[0.7777777777777778,\"#fb9f3a\"],[0.8888888888888888,\"#fdca26\"],[1.0,\"#f0f921\"]]}],\"contourcarpet\":[{\"type\":\"contourcarpet\",\"colorbar\":{\"outlinewidth\":0,\"ticks\":\"\"}}],\"contour\":[{\"type\":\"contour\",\"colorbar\":{\"outlinewidth\":0,\"ticks\":\"\"},\"colorscale\":[[0.0,\"#0d0887\"],[0.1111111111111111,\"#46039f\"],[0.2222222222222222,\"#7201a8\"],[0.3333333333333333,\"#9c179e\"],[0.4444444444444444,\"#bd3786\"],[0.5555555555555556,\"#d8576b\"],[0.6666666666666666,\"#ed7953\"],[0.7777777777777778,\"#fb9f3a\"],[0.8888888888888888,\"#fdca26\"],[1.0,\"#f0f921\"]]}],\"surface\":[{\"type\":\"surface\",\"colorbar\":{\"outlinewidth\":0,\"ticks\":\"\"},\"colorscale\":[[0.0,\"#0d0887\"],[0.1111111111111111,\"#46039f\"],[0.2222222222222222,\"#7201a8\"],[0.3333333333333333,\"#9c179e\"],[0.4444444444444444,\"#bd3786\"],[0.5555555555555556,\"#d8576b\"],[0.6666666666666666,\"#ed7953\"],[0.7777777777777778,\"#fb9f3a\"],[0.8888888888888888,\"#fdca26\"],[1.0,\"#f0f921\"]]}],\"mesh3d\":[{\"type\":\"mesh3d\",\"colorbar\":{\"outlinewidth\":0,\"ticks\":\"\"}}],\"scatter\":[{\"fillpattern\":{\"fillmode\":\"overlay\",\"size\":10,\"solidity\":0.2},\"type\":\"scatter\"}],\"parcoords\":[{\"type\":\"parcoords\",\"line\":{\"colorbar\":{\"outlinewidth\":0,\"ticks\":\"\"}}}],\"scatterpolargl\":[{\"type\":\"scatterpolargl\",\"marker\":{\"colorbar\":{\"outlinewidth\":0,\"ticks\":\"\"}}}],\"bar\":[{\"error_x\":{\"color\":\"#2a3f5f\"},\"error_y\":{\"color\":\"#2a3f5f\"},\"marker\":{\"line\":{\"color\":\"#E5ECF6\",\"width\":0.5},\"pattern\":{\"fillmode\":\"overlay\",\"size\":10,\"solidity\":0.2}},\"type\":\"bar\"}],\"scattergeo\":[{\"type\":\"scattergeo\",\"marker\":{\"colorbar\":{\"outlinewidth\":0,\"ticks\":\"\"}}}],\"scatterpolar\":[{\"type\":\"scatterpolar\",\"marker\":{\"colorbar\":{\"outlinewidth\":0,\"ticks\":\"\"}}}],\"histogram\":[{\"marker\":{\"pattern\":{\"fillmode\":\"overlay\",\"size\":10,\"solidity\":0.2}},\"type\":\"histogram\"}],\"scattergl\":[{\"type\":\"scattergl\",\"marker\":{\"colorbar\":{\"outlinewidth\":0,\"ticks\":\"\"}}}],\"scatter3d\":[{\"type\":\"scatter3d\",\"line\":{\"colorbar\":{\"outlinewidth\":0,\"ticks\":\"\"}},\"marker\":{\"colorbar\":{\"outlinewidth\":0,\"ticks\":\"\"}}}],\"scattermapbox\":[{\"type\":\"scattermapbox\",\"marker\":{\"colorbar\":{\"outlinewidth\":0,\"ticks\":\"\"}}}],\"scatterternary\":[{\"type\":\"scatterternary\",\"marker\":{\"colorbar\":{\"outlinewidth\":0,\"ticks\":\"\"}}}],\"scattercarpet\":[{\"type\":\"scattercarpet\",\"marker\":{\"colorbar\":{\"outlinewidth\":0,\"ticks\":\"\"}}}],\"carpet\":[{\"aaxis\":{\"endlinecolor\":\"#2a3f5f\",\"gridcolor\":\"white\",\"linecolor\":\"white\",\"minorgridcolor\":\"white\",\"startlinecolor\":\"#2a3f5f\"},\"baxis\":{\"endlinecolor\":\"#2a3f5f\",\"gridcolor\":\"white\",\"linecolor\":\"white\",\"minorgridcolor\":\"white\",\"startlinecolor\":\"#2a3f5f\"},\"type\":\"carpet\"}],\"table\":[{\"cells\":{\"fill\":{\"color\":\"#EBF0F8\"},\"line\":{\"color\":\"white\"}},\"header\":{\"fill\":{\"color\":\"#C8D4E3\"},\"line\":{\"color\":\"white\"}},\"type\":\"table\"}],\"barpolar\":[{\"marker\":{\"line\":{\"color\":\"#E5ECF6\",\"width\":0.5},\"pattern\":{\"fillmode\":\"overlay\",\"size\":10,\"solidity\":0.2}},\"type\":\"barpolar\"}],\"pie\":[{\"automargin\":true,\"type\":\"pie\"}]},\"layout\":{\"autotypenumbers\":\"strict\",\"colorway\":[\"#636efa\",\"#EF553B\",\"#00cc96\",\"#ab63fa\",\"#FFA15A\",\"#19d3f3\",\"#FF6692\",\"#B6E880\",\"#FF97FF\",\"#FECB52\"],\"font\":{\"color\":\"#2a3f5f\"},\"hovermode\":\"closest\",\"hoverlabel\":{\"align\":\"left\"},\"paper_bgcolor\":\"white\",\"plot_bgcolor\":\"#E5ECF6\",\"polar\":{\"bgcolor\":\"#E5ECF6\",\"angularaxis\":{\"gridcolor\":\"white\",\"linecolor\":\"white\",\"ticks\":\"\"},\"radialaxis\":{\"gridcolor\":\"white\",\"linecolor\":\"white\",\"ticks\":\"\"}},\"ternary\":{\"bgcolor\":\"#E5ECF6\",\"aaxis\":{\"gridcolor\":\"white\",\"linecolor\":\"white\",\"ticks\":\"\"},\"baxis\":{\"gridcolor\":\"white\",\"linecolor\":\"white\",\"ticks\":\"\"},\"caxis\":{\"gridcolor\":\"white\",\"linecolor\":\"white\",\"ticks\":\"\"}},\"coloraxis\":{\"colorbar\":{\"outlinewidth\":0,\"ticks\":\"\"}},\"colorscale\":{\"sequential\":[[0.0,\"#0d0887\"],[0.1111111111111111,\"#46039f\"],[0.2222222222222222,\"#7201a8\"],[0.3333333333333333,\"#9c179e\"],[0.4444444444444444,\"#bd3786\"],[0.5555555555555556,\"#d8576b\"],[0.6666666666666666,\"#ed7953\"],[0.7777777777777778,\"#fb9f3a\"],[0.8888888888888888,\"#fdca26\"],[1.0,\"#f0f921\"]],\"sequentialminus\":[[0.0,\"#0d0887\"],[0.1111111111111111,\"#46039f\"],[0.2222222222222222,\"#7201a8\"],[0.3333333333333333,\"#9c179e\"],[0.4444444444444444,\"#bd3786\"],[0.5555555555555556,\"#d8576b\"],[0.6666666666666666,\"#ed7953\"],[0.7777777777777778,\"#fb9f3a\"],[0.8888888888888888,\"#fdca26\"],[1.0,\"#f0f921\"]],\"diverging\":[[0,\"#8e0152\"],[0.1,\"#c51b7d\"],[0.2,\"#de77ae\"],[0.3,\"#f1b6da\"],[0.4,\"#fde0ef\"],[0.5,\"#f7f7f7\"],[0.6,\"#e6f5d0\"],[0.7,\"#b8e186\"],[0.8,\"#7fbc41\"],[0.9,\"#4d9221\"],[1,\"#276419\"]]},\"xaxis\":{\"gridcolor\":\"white\",\"linecolor\":\"white\",\"ticks\":\"\",\"title\":{\"standoff\":15},\"zerolinecolor\":\"white\",\"automargin\":true,\"zerolinewidth\":2},\"yaxis\":{\"gridcolor\":\"white\",\"linecolor\":\"white\",\"ticks\":\"\",\"title\":{\"standoff\":15},\"zerolinecolor\":\"white\",\"automargin\":true,\"zerolinewidth\":2},\"scene\":{\"xaxis\":{\"backgroundcolor\":\"#E5ECF6\",\"gridcolor\":\"white\",\"linecolor\":\"white\",\"showbackground\":true,\"ticks\":\"\",\"zerolinecolor\":\"white\",\"gridwidth\":2},\"yaxis\":{\"backgroundcolor\":\"#E5ECF6\",\"gridcolor\":\"white\",\"linecolor\":\"white\",\"showbackground\":true,\"ticks\":\"\",\"zerolinecolor\":\"white\",\"gridwidth\":2},\"zaxis\":{\"backgroundcolor\":\"#E5ECF6\",\"gridcolor\":\"white\",\"linecolor\":\"white\",\"showbackground\":true,\"ticks\":\"\",\"zerolinecolor\":\"white\",\"gridwidth\":2}},\"shapedefaults\":{\"line\":{\"color\":\"#2a3f5f\"}},\"annotationdefaults\":{\"arrowcolor\":\"#2a3f5f\",\"arrowhead\":0,\"arrowwidth\":1},\"geo\":{\"bgcolor\":\"white\",\"landcolor\":\"#E5ECF6\",\"subunitcolor\":\"white\",\"showland\":true,\"showlakes\":true,\"lakecolor\":\"white\"},\"title\":{\"x\":0.05},\"mapbox\":{\"style\":\"light\"}}},\"xaxis\":{\"anchor\":\"y\",\"domain\":[0.0,1.0],\"title\":{}},\"yaxis\":{\"anchor\":\"x\",\"domain\":[0.0,1.0],\"title\":{}},\"coloraxis\":{\"colorbar\":{\"title\":{\"text\":\"Ano\"}},\"colorscale\":[[0.0,\"#0d0887\"],[0.1111111111111111,\"#46039f\"],[0.2222222222222222,\"#7201a8\"],[0.3333333333333333,\"#9c179e\"],[0.4444444444444444,\"#bd3786\"],[0.5555555555555556,\"#d8576b\"],[0.6666666666666666,\"#ed7953\"],[0.7777777777777778,\"#fb9f3a\"],[0.8888888888888888,\"#fdca26\"],[1.0,\"#f0f921\"]]},\"legend\":{\"tracegroupgap\":0},\"margin\":{\"t\":60},\"barmode\":\"relative\",\"title\":{\"text\":\"Vendas Mensais por Ano\"}},                        {\"responsive\": true}                    ).then(function(){\n",
       "                            \n",
       "var gd = document.getElementById('4031e15e-8382-4793-bc7f-46c6d728a847');\n",
       "var x = new MutationObserver(function (mutations, observer) {{\n",
       "        var display = window.getComputedStyle(gd).display;\n",
       "        if (!display || display === 'none') {{\n",
       "            console.log([gd, 'removed!']);\n",
       "            Plotly.purge(gd);\n",
       "            observer.disconnect();\n",
       "        }}\n",
       "}});\n",
       "\n",
       "// Listen for the removal of the full notebook cells\n",
       "var notebookContainer = gd.closest('#notebook-container');\n",
       "if (notebookContainer) {{\n",
       "    x.observe(notebookContainer, {childList: true});\n",
       "}}\n",
       "\n",
       "// Listen for the clearing of the current output cell\n",
       "var outputEl = gd.closest('.output');\n",
       "if (outputEl) {{\n",
       "    x.observe(outputEl, {childList: true});\n",
       "}}\n",
       "\n",
       "                        })                };                });            </script>        </div>"
      ]
     },
     "metadata": {},
     "output_type": "display_data"
    }
   ],
   "source": [
    "\n",
    "meses_vendas = df_analytics.groupby(['Ano', 'Mes'])['Num_Vendas'].sum().reset_index()\n",
    "\n",
    "px.bar(meses_vendas, x='Mes', y='Num_Vendas', color= 'Ano').update_layout(title='Vendas Mensais por Ano').update_xaxes(title_text=None).update_yaxes(title_text=None)\n"
   ]
  },
  {
   "cell_type": "markdown",
   "id": "6785d6f7",
   "metadata": {},
   "source": [
    "#### Aqui é percepitivel que o mês de agosto, junho e julho de 2022 se destacou nas vendas. Por que será? O fatos desses meses fazerem parte da estação do ano de inverno. Pode ser uma justificativa, as pessoas passam mais o fim de semana em suas casas, aquelas que não tem internet porque passa pouquissimo tempo em casa e se satisfaz com os dados moveis, começam a necessitar de internet ? \n",
    "#### Outro ponto que chama atenção é a minima de vendas no mês de fevereiro, será que o verão contribui de forma oposta ao inverno?\n"
   ]
  },
  {
   "cell_type": "code",
   "execution_count": 68,
   "id": "82ce14fa",
   "metadata": {},
   "outputs": [
    {
     "data": {
      "application/vnd.plotly.v1+json": {
       "config": {
        "plotlyServerURL": "https://plot.ly"
       },
       "data": [
        {
         "domain": {
          "x": [
           0,
           1
          ],
          "y": [
           0,
           1
          ]
         },
         "hovertemplate": "Ano=%{label}<br>value=%{value}<extra></extra>",
         "labels": [
          2022,
          2023
         ],
         "legendgroup": "",
         "name": "",
         "showlegend": true,
         "type": "pie",
         "values": [
          33044,
          5848
         ]
        }
       ],
       "layout": {
        "autosize": true,
        "legend": {
         "tracegroupgap": 0
        },
        "margin": {
         "t": 60
        },
        "piecolorway": [
         "gray",
         "yellow"
        ],
        "template": {
         "data": {
          "bar": [
           {
            "error_x": {
             "color": "#2a3f5f"
            },
            "error_y": {
             "color": "#2a3f5f"
            },
            "marker": {
             "line": {
              "color": "#E5ECF6",
              "width": 0.5
             },
             "pattern": {
              "fillmode": "overlay",
              "size": 10,
              "solidity": 0.2
             }
            },
            "type": "bar"
           }
          ],
          "barpolar": [
           {
            "marker": {
             "line": {
              "color": "#E5ECF6",
              "width": 0.5
             },
             "pattern": {
              "fillmode": "overlay",
              "size": 10,
              "solidity": 0.2
             }
            },
            "type": "barpolar"
           }
          ],
          "carpet": [
           {
            "aaxis": {
             "endlinecolor": "#2a3f5f",
             "gridcolor": "white",
             "linecolor": "white",
             "minorgridcolor": "white",
             "startlinecolor": "#2a3f5f"
            },
            "baxis": {
             "endlinecolor": "#2a3f5f",
             "gridcolor": "white",
             "linecolor": "white",
             "minorgridcolor": "white",
             "startlinecolor": "#2a3f5f"
            },
            "type": "carpet"
           }
          ],
          "choropleth": [
           {
            "colorbar": {
             "outlinewidth": 0,
             "ticks": ""
            },
            "type": "choropleth"
           }
          ],
          "contour": [
           {
            "colorbar": {
             "outlinewidth": 0,
             "ticks": ""
            },
            "colorscale": [
             [
              0,
              "#0d0887"
             ],
             [
              0.1111111111111111,
              "#46039f"
             ],
             [
              0.2222222222222222,
              "#7201a8"
             ],
             [
              0.3333333333333333,
              "#9c179e"
             ],
             [
              0.4444444444444444,
              "#bd3786"
             ],
             [
              0.5555555555555556,
              "#d8576b"
             ],
             [
              0.6666666666666666,
              "#ed7953"
             ],
             [
              0.7777777777777778,
              "#fb9f3a"
             ],
             [
              0.8888888888888888,
              "#fdca26"
             ],
             [
              1,
              "#f0f921"
             ]
            ],
            "type": "contour"
           }
          ],
          "contourcarpet": [
           {
            "colorbar": {
             "outlinewidth": 0,
             "ticks": ""
            },
            "type": "contourcarpet"
           }
          ],
          "heatmap": [
           {
            "colorbar": {
             "outlinewidth": 0,
             "ticks": ""
            },
            "colorscale": [
             [
              0,
              "#0d0887"
             ],
             [
              0.1111111111111111,
              "#46039f"
             ],
             [
              0.2222222222222222,
              "#7201a8"
             ],
             [
              0.3333333333333333,
              "#9c179e"
             ],
             [
              0.4444444444444444,
              "#bd3786"
             ],
             [
              0.5555555555555556,
              "#d8576b"
             ],
             [
              0.6666666666666666,
              "#ed7953"
             ],
             [
              0.7777777777777778,
              "#fb9f3a"
             ],
             [
              0.8888888888888888,
              "#fdca26"
             ],
             [
              1,
              "#f0f921"
             ]
            ],
            "type": "heatmap"
           }
          ],
          "heatmapgl": [
           {
            "colorbar": {
             "outlinewidth": 0,
             "ticks": ""
            },
            "colorscale": [
             [
              0,
              "#0d0887"
             ],
             [
              0.1111111111111111,
              "#46039f"
             ],
             [
              0.2222222222222222,
              "#7201a8"
             ],
             [
              0.3333333333333333,
              "#9c179e"
             ],
             [
              0.4444444444444444,
              "#bd3786"
             ],
             [
              0.5555555555555556,
              "#d8576b"
             ],
             [
              0.6666666666666666,
              "#ed7953"
             ],
             [
              0.7777777777777778,
              "#fb9f3a"
             ],
             [
              0.8888888888888888,
              "#fdca26"
             ],
             [
              1,
              "#f0f921"
             ]
            ],
            "type": "heatmapgl"
           }
          ],
          "histogram": [
           {
            "marker": {
             "pattern": {
              "fillmode": "overlay",
              "size": 10,
              "solidity": 0.2
             }
            },
            "type": "histogram"
           }
          ],
          "histogram2d": [
           {
            "colorbar": {
             "outlinewidth": 0,
             "ticks": ""
            },
            "colorscale": [
             [
              0,
              "#0d0887"
             ],
             [
              0.1111111111111111,
              "#46039f"
             ],
             [
              0.2222222222222222,
              "#7201a8"
             ],
             [
              0.3333333333333333,
              "#9c179e"
             ],
             [
              0.4444444444444444,
              "#bd3786"
             ],
             [
              0.5555555555555556,
              "#d8576b"
             ],
             [
              0.6666666666666666,
              "#ed7953"
             ],
             [
              0.7777777777777778,
              "#fb9f3a"
             ],
             [
              0.8888888888888888,
              "#fdca26"
             ],
             [
              1,
              "#f0f921"
             ]
            ],
            "type": "histogram2d"
           }
          ],
          "histogram2dcontour": [
           {
            "colorbar": {
             "outlinewidth": 0,
             "ticks": ""
            },
            "colorscale": [
             [
              0,
              "#0d0887"
             ],
             [
              0.1111111111111111,
              "#46039f"
             ],
             [
              0.2222222222222222,
              "#7201a8"
             ],
             [
              0.3333333333333333,
              "#9c179e"
             ],
             [
              0.4444444444444444,
              "#bd3786"
             ],
             [
              0.5555555555555556,
              "#d8576b"
             ],
             [
              0.6666666666666666,
              "#ed7953"
             ],
             [
              0.7777777777777778,
              "#fb9f3a"
             ],
             [
              0.8888888888888888,
              "#fdca26"
             ],
             [
              1,
              "#f0f921"
             ]
            ],
            "type": "histogram2dcontour"
           }
          ],
          "mesh3d": [
           {
            "colorbar": {
             "outlinewidth": 0,
             "ticks": ""
            },
            "type": "mesh3d"
           }
          ],
          "parcoords": [
           {
            "line": {
             "colorbar": {
              "outlinewidth": 0,
              "ticks": ""
             }
            },
            "type": "parcoords"
           }
          ],
          "pie": [
           {
            "automargin": true,
            "type": "pie"
           }
          ],
          "scatter": [
           {
            "fillpattern": {
             "fillmode": "overlay",
             "size": 10,
             "solidity": 0.2
            },
            "type": "scatter"
           }
          ],
          "scatter3d": [
           {
            "line": {
             "colorbar": {
              "outlinewidth": 0,
              "ticks": ""
             }
            },
            "marker": {
             "colorbar": {
              "outlinewidth": 0,
              "ticks": ""
             }
            },
            "type": "scatter3d"
           }
          ],
          "scattercarpet": [
           {
            "marker": {
             "colorbar": {
              "outlinewidth": 0,
              "ticks": ""
             }
            },
            "type": "scattercarpet"
           }
          ],
          "scattergeo": [
           {
            "marker": {
             "colorbar": {
              "outlinewidth": 0,
              "ticks": ""
             }
            },
            "type": "scattergeo"
           }
          ],
          "scattergl": [
           {
            "marker": {
             "colorbar": {
              "outlinewidth": 0,
              "ticks": ""
             }
            },
            "type": "scattergl"
           }
          ],
          "scattermapbox": [
           {
            "marker": {
             "colorbar": {
              "outlinewidth": 0,
              "ticks": ""
             }
            },
            "type": "scattermapbox"
           }
          ],
          "scatterpolar": [
           {
            "marker": {
             "colorbar": {
              "outlinewidth": 0,
              "ticks": ""
             }
            },
            "type": "scatterpolar"
           }
          ],
          "scatterpolargl": [
           {
            "marker": {
             "colorbar": {
              "outlinewidth": 0,
              "ticks": ""
             }
            },
            "type": "scatterpolargl"
           }
          ],
          "scatterternary": [
           {
            "marker": {
             "colorbar": {
              "outlinewidth": 0,
              "ticks": ""
             }
            },
            "type": "scatterternary"
           }
          ],
          "surface": [
           {
            "colorbar": {
             "outlinewidth": 0,
             "ticks": ""
            },
            "colorscale": [
             [
              0,
              "#0d0887"
             ],
             [
              0.1111111111111111,
              "#46039f"
             ],
             [
              0.2222222222222222,
              "#7201a8"
             ],
             [
              0.3333333333333333,
              "#9c179e"
             ],
             [
              0.4444444444444444,
              "#bd3786"
             ],
             [
              0.5555555555555556,
              "#d8576b"
             ],
             [
              0.6666666666666666,
              "#ed7953"
             ],
             [
              0.7777777777777778,
              "#fb9f3a"
             ],
             [
              0.8888888888888888,
              "#fdca26"
             ],
             [
              1,
              "#f0f921"
             ]
            ],
            "type": "surface"
           }
          ],
          "table": [
           {
            "cells": {
             "fill": {
              "color": "#EBF0F8"
             },
             "line": {
              "color": "white"
             }
            },
            "header": {
             "fill": {
              "color": "#C8D4E3"
             },
             "line": {
              "color": "white"
             }
            },
            "type": "table"
           }
          ]
         },
         "layout": {
          "annotationdefaults": {
           "arrowcolor": "#2a3f5f",
           "arrowhead": 0,
           "arrowwidth": 1
          },
          "autotypenumbers": "strict",
          "coloraxis": {
           "colorbar": {
            "outlinewidth": 0,
            "ticks": ""
           }
          },
          "colorscale": {
           "diverging": [
            [
             0,
             "#8e0152"
            ],
            [
             0.1,
             "#c51b7d"
            ],
            [
             0.2,
             "#de77ae"
            ],
            [
             0.3,
             "#f1b6da"
            ],
            [
             0.4,
             "#fde0ef"
            ],
            [
             0.5,
             "#f7f7f7"
            ],
            [
             0.6,
             "#e6f5d0"
            ],
            [
             0.7,
             "#b8e186"
            ],
            [
             0.8,
             "#7fbc41"
            ],
            [
             0.9,
             "#4d9221"
            ],
            [
             1,
             "#276419"
            ]
           ],
           "sequential": [
            [
             0,
             "#0d0887"
            ],
            [
             0.1111111111111111,
             "#46039f"
            ],
            [
             0.2222222222222222,
             "#7201a8"
            ],
            [
             0.3333333333333333,
             "#9c179e"
            ],
            [
             0.4444444444444444,
             "#bd3786"
            ],
            [
             0.5555555555555556,
             "#d8576b"
            ],
            [
             0.6666666666666666,
             "#ed7953"
            ],
            [
             0.7777777777777778,
             "#fb9f3a"
            ],
            [
             0.8888888888888888,
             "#fdca26"
            ],
            [
             1,
             "#f0f921"
            ]
           ],
           "sequentialminus": [
            [
             0,
             "#0d0887"
            ],
            [
             0.1111111111111111,
             "#46039f"
            ],
            [
             0.2222222222222222,
             "#7201a8"
            ],
            [
             0.3333333333333333,
             "#9c179e"
            ],
            [
             0.4444444444444444,
             "#bd3786"
            ],
            [
             0.5555555555555556,
             "#d8576b"
            ],
            [
             0.6666666666666666,
             "#ed7953"
            ],
            [
             0.7777777777777778,
             "#fb9f3a"
            ],
            [
             0.8888888888888888,
             "#fdca26"
            ],
            [
             1,
             "#f0f921"
            ]
           ]
          },
          "colorway": [
           "#636efa",
           "#EF553B",
           "#00cc96",
           "#ab63fa",
           "#FFA15A",
           "#19d3f3",
           "#FF6692",
           "#B6E880",
           "#FF97FF",
           "#FECB52"
          ],
          "font": {
           "color": "#2a3f5f"
          },
          "geo": {
           "bgcolor": "white",
           "lakecolor": "white",
           "landcolor": "#E5ECF6",
           "showlakes": true,
           "showland": true,
           "subunitcolor": "white"
          },
          "hoverlabel": {
           "align": "left"
          },
          "hovermode": "closest",
          "mapbox": {
           "style": "light"
          },
          "paper_bgcolor": "white",
          "plot_bgcolor": "#E5ECF6",
          "polar": {
           "angularaxis": {
            "gridcolor": "white",
            "linecolor": "white",
            "ticks": ""
           },
           "bgcolor": "#E5ECF6",
           "radialaxis": {
            "gridcolor": "white",
            "linecolor": "white",
            "ticks": ""
           }
          },
          "scene": {
           "xaxis": {
            "backgroundcolor": "#E5ECF6",
            "gridcolor": "white",
            "gridwidth": 2,
            "linecolor": "white",
            "showbackground": true,
            "ticks": "",
            "zerolinecolor": "white"
           },
           "yaxis": {
            "backgroundcolor": "#E5ECF6",
            "gridcolor": "white",
            "gridwidth": 2,
            "linecolor": "white",
            "showbackground": true,
            "ticks": "",
            "zerolinecolor": "white"
           },
           "zaxis": {
            "backgroundcolor": "#E5ECF6",
            "gridcolor": "white",
            "gridwidth": 2,
            "linecolor": "white",
            "showbackground": true,
            "ticks": "",
            "zerolinecolor": "white"
           }
          },
          "shapedefaults": {
           "line": {
            "color": "#2a3f5f"
           }
          },
          "ternary": {
           "aaxis": {
            "gridcolor": "white",
            "linecolor": "white",
            "ticks": ""
           },
           "baxis": {
            "gridcolor": "white",
            "linecolor": "white",
            "ticks": ""
           },
           "bgcolor": "#E5ECF6",
           "caxis": {
            "gridcolor": "white",
            "linecolor": "white",
            "ticks": ""
           }
          },
          "title": {
           "x": 0.05
          },
          "xaxis": {
           "automargin": true,
           "gridcolor": "white",
           "linecolor": "white",
           "ticks": "",
           "title": {
            "standoff": 15
           },
           "zerolinecolor": "white",
           "zerolinewidth": 2
          },
          "yaxis": {
           "automargin": true,
           "gridcolor": "white",
           "linecolor": "white",
           "ticks": "",
           "title": {
            "standoff": 15
           },
           "zerolinecolor": "white",
           "zerolinewidth": 2
          }
         }
        },
        "title": {
         "text": "Vendas por Ano"
        }
       }
      },
      "image/png": "[encoded data removed]",
      "text/html": [
       "<div>                            <div id=\"2995edcd-8b1a-4037-891b-a11cc35aa561\" class=\"plotly-graph-div\" style=\"height:525px; width:100%;\"></div>            <script type=\"text/javascript\">                require([\"plotly\"], function(Plotly) {                    window.PLOTLYENV=window.PLOTLYENV || {};                                    if (document.getElementById(\"2995edcd-8b1a-4037-891b-a11cc35aa561\")) {                    Plotly.newPlot(                        \"2995edcd-8b1a-4037-891b-a11cc35aa561\",                        [{\"domain\":{\"x\":[0.0,1.0],\"y\":[0.0,1.0]},\"hovertemplate\":\"Ano=%{label}\\u003cbr\\u003evalue=%{value}\\u003cextra\\u003e\\u003c\\u002fextra\\u003e\",\"labels\":[2022,2023],\"legendgroup\":\"\",\"name\":\"\",\"showlegend\":true,\"values\":[33044,5848],\"type\":\"pie\"}],                        {\"template\":{\"data\":{\"histogram2dcontour\":[{\"type\":\"histogram2dcontour\",\"colorbar\":{\"outlinewidth\":0,\"ticks\":\"\"},\"colorscale\":[[0.0,\"#0d0887\"],[0.1111111111111111,\"#46039f\"],[0.2222222222222222,\"#7201a8\"],[0.3333333333333333,\"#9c179e\"],[0.4444444444444444,\"#bd3786\"],[0.5555555555555556,\"#d8576b\"],[0.6666666666666666,\"#ed7953\"],[0.7777777777777778,\"#fb9f3a\"],[0.8888888888888888,\"#fdca26\"],[1.0,\"#f0f921\"]]}],\"choropleth\":[{\"type\":\"choropleth\",\"colorbar\":{\"outlinewidth\":0,\"ticks\":\"\"}}],\"histogram2d\":[{\"type\":\"histogram2d\",\"colorbar\":{\"outlinewidth\":0,\"ticks\":\"\"},\"colorscale\":[[0.0,\"#0d0887\"],[0.1111111111111111,\"#46039f\"],[0.2222222222222222,\"#7201a8\"],[0.3333333333333333,\"#9c179e\"],[0.4444444444444444,\"#bd3786\"],[0.5555555555555556,\"#d8576b\"],[0.6666666666666666,\"#ed7953\"],[0.7777777777777778,\"#fb9f3a\"],[0.8888888888888888,\"#fdca26\"],[1.0,\"#f0f921\"]]}],\"heatmap\":[{\"type\":\"heatmap\",\"colorbar\":{\"outlinewidth\":0,\"ticks\":\"\"},\"colorscale\":[[0.0,\"#0d0887\"],[0.1111111111111111,\"#46039f\"],[0.2222222222222222,\"#7201a8\"],[0.3333333333333333,\"#9c179e\"],[0.4444444444444444,\"#bd3786\"],[0.5555555555555556,\"#d8576b\"],[0.6666666666666666,\"#ed7953\"],[0.7777777777777778,\"#fb9f3a\"],[0.8888888888888888,\"#fdca26\"],[1.0,\"#f0f921\"]]}],\"heatmapgl\":[{\"type\":\"heatmapgl\",\"colorbar\":{\"outlinewidth\":0,\"ticks\":\"\"},\"colorscale\":[[0.0,\"#0d0887\"],[0.1111111111111111,\"#46039f\"],[0.2222222222222222,\"#7201a8\"],[0.3333333333333333,\"#9c179e\"],[0.4444444444444444,\"#bd3786\"],[0.5555555555555556,\"#d8576b\"],[0.6666666666666666,\"#ed7953\"],[0.7777777777777778,\"#fb9f3a\"],[0.8888888888888888,\"#fdca26\"],[1.0,\"#f0f921\"]]}],\"contourcarpet\":[{\"type\":\"contourcarpet\",\"colorbar\":{\"outlinewidth\":0,\"ticks\":\"\"}}],\"contour\":[{\"type\":\"contour\",\"colorbar\":{\"outlinewidth\":0,\"ticks\":\"\"},\"colorscale\":[[0.0,\"#0d0887\"],[0.1111111111111111,\"#46039f\"],[0.2222222222222222,\"#7201a8\"],[0.3333333333333333,\"#9c179e\"],[0.4444444444444444,\"#bd3786\"],[0.5555555555555556,\"#d8576b\"],[0.6666666666666666,\"#ed7953\"],[0.7777777777777778,\"#fb9f3a\"],[0.8888888888888888,\"#fdca26\"],[1.0,\"#f0f921\"]]}],\"surface\":[{\"type\":\"surface\",\"colorbar\":{\"outlinewidth\":0,\"ticks\":\"\"},\"colorscale\":[[0.0,\"#0d0887\"],[0.1111111111111111,\"#46039f\"],[0.2222222222222222,\"#7201a8\"],[0.3333333333333333,\"#9c179e\"],[0.4444444444444444,\"#bd3786\"],[0.5555555555555556,\"#d8576b\"],[0.6666666666666666,\"#ed7953\"],[0.7777777777777778,\"#fb9f3a\"],[0.8888888888888888,\"#fdca26\"],[1.0,\"#f0f921\"]]}],\"mesh3d\":[{\"type\":\"mesh3d\",\"colorbar\":{\"outlinewidth\":0,\"ticks\":\"\"}}],\"scatter\":[{\"fillpattern\":{\"fillmode\":\"overlay\",\"size\":10,\"solidity\":0.2},\"type\":\"scatter\"}],\"parcoords\":[{\"type\":\"parcoords\",\"line\":{\"colorbar\":{\"outlinewidth\":0,\"ticks\":\"\"}}}],\"scatterpolargl\":[{\"type\":\"scatterpolargl\",\"marker\":{\"colorbar\":{\"outlinewidth\":0,\"ticks\":\"\"}}}],\"bar\":[{\"error_x\":{\"color\":\"#2a3f5f\"},\"error_y\":{\"color\":\"#2a3f5f\"},\"marker\":{\"line\":{\"color\":\"#E5ECF6\",\"width\":0.5},\"pattern\":{\"fillmode\":\"overlay\",\"size\":10,\"solidity\":0.2}},\"type\":\"bar\"}],\"scattergeo\":[{\"type\":\"scattergeo\",\"marker\":{\"colorbar\":{\"outlinewidth\":0,\"ticks\":\"\"}}}],\"scatterpolar\":[{\"type\":\"scatterpolar\",\"marker\":{\"colorbar\":{\"outlinewidth\":0,\"ticks\":\"\"}}}],\"histogram\":[{\"marker\":{\"pattern\":{\"fillmode\":\"overlay\",\"size\":10,\"solidity\":0.2}},\"type\":\"histogram\"}],\"scattergl\":[{\"type\":\"scattergl\",\"marker\":{\"colorbar\":{\"outlinewidth\":0,\"ticks\":\"\"}}}],\"scatter3d\":[{\"type\":\"scatter3d\",\"line\":{\"colorbar\":{\"outlinewidth\":0,\"ticks\":\"\"}},\"marker\":{\"colorbar\":{\"outlinewidth\":0,\"ticks\":\"\"}}}],\"scattermapbox\":[{\"type\":\"scattermapbox\",\"marker\":{\"colorbar\":{\"outlinewidth\":0,\"ticks\":\"\"}}}],\"scatterternary\":[{\"type\":\"scatterternary\",\"marker\":{\"colorbar\":{\"outlinewidth\":0,\"ticks\":\"\"}}}],\"scattercarpet\":[{\"type\":\"scattercarpet\",\"marker\":{\"colorbar\":{\"outlinewidth\":0,\"ticks\":\"\"}}}],\"carpet\":[{\"aaxis\":{\"endlinecolor\":\"#2a3f5f\",\"gridcolor\":\"white\",\"linecolor\":\"white\",\"minorgridcolor\":\"white\",\"startlinecolor\":\"#2a3f5f\"},\"baxis\":{\"endlinecolor\":\"#2a3f5f\",\"gridcolor\":\"white\",\"linecolor\":\"white\",\"minorgridcolor\":\"white\",\"startlinecolor\":\"#2a3f5f\"},\"type\":\"carpet\"}],\"table\":[{\"cells\":{\"fill\":{\"color\":\"#EBF0F8\"},\"line\":{\"color\":\"white\"}},\"header\":{\"fill\":{\"color\":\"#C8D4E3\"},\"line\":{\"color\":\"white\"}},\"type\":\"table\"}],\"barpolar\":[{\"marker\":{\"line\":{\"color\":\"#E5ECF6\",\"width\":0.5},\"pattern\":{\"fillmode\":\"overlay\",\"size\":10,\"solidity\":0.2}},\"type\":\"barpolar\"}],\"pie\":[{\"automargin\":true,\"type\":\"pie\"}]},\"layout\":{\"autotypenumbers\":\"strict\",\"colorway\":[\"#636efa\",\"#EF553B\",\"#00cc96\",\"#ab63fa\",\"#FFA15A\",\"#19d3f3\",\"#FF6692\",\"#B6E880\",\"#FF97FF\",\"#FECB52\"],\"font\":{\"color\":\"#2a3f5f\"},\"hovermode\":\"closest\",\"hoverlabel\":{\"align\":\"left\"},\"paper_bgcolor\":\"white\",\"plot_bgcolor\":\"#E5ECF6\",\"polar\":{\"bgcolor\":\"#E5ECF6\",\"angularaxis\":{\"gridcolor\":\"white\",\"linecolor\":\"white\",\"ticks\":\"\"},\"radialaxis\":{\"gridcolor\":\"white\",\"linecolor\":\"white\",\"ticks\":\"\"}},\"ternary\":{\"bgcolor\":\"#E5ECF6\",\"aaxis\":{\"gridcolor\":\"white\",\"linecolor\":\"white\",\"ticks\":\"\"},\"baxis\":{\"gridcolor\":\"white\",\"linecolor\":\"white\",\"ticks\":\"\"},\"caxis\":{\"gridcolor\":\"white\",\"linecolor\":\"white\",\"ticks\":\"\"}},\"coloraxis\":{\"colorbar\":{\"outlinewidth\":0,\"ticks\":\"\"}},\"colorscale\":{\"sequential\":[[0.0,\"#0d0887\"],[0.1111111111111111,\"#46039f\"],[0.2222222222222222,\"#7201a8\"],[0.3333333333333333,\"#9c179e\"],[0.4444444444444444,\"#bd3786\"],[0.5555555555555556,\"#d8576b\"],[0.6666666666666666,\"#ed7953\"],[0.7777777777777778,\"#fb9f3a\"],[0.8888888888888888,\"#fdca26\"],[1.0,\"#f0f921\"]],\"sequentialminus\":[[0.0,\"#0d0887\"],[0.1111111111111111,\"#46039f\"],[0.2222222222222222,\"#7201a8\"],[0.3333333333333333,\"#9c179e\"],[0.4444444444444444,\"#bd3786\"],[0.5555555555555556,\"#d8576b\"],[0.6666666666666666,\"#ed7953\"],[0.7777777777777778,\"#fb9f3a\"],[0.8888888888888888,\"#fdca26\"],[1.0,\"#f0f921\"]],\"diverging\":[[0,\"#8e0152\"],[0.1,\"#c51b7d\"],[0.2,\"#de77ae\"],[0.3,\"#f1b6da\"],[0.4,\"#fde0ef\"],[0.5,\"#f7f7f7\"],[0.6,\"#e6f5d0\"],[0.7,\"#b8e186\"],[0.8,\"#7fbc41\"],[0.9,\"#4d9221\"],[1,\"#276419\"]]},\"xaxis\":{\"gridcolor\":\"white\",\"linecolor\":\"white\",\"ticks\":\"\",\"title\":{\"standoff\":15},\"zerolinecolor\":\"white\",\"automargin\":true,\"zerolinewidth\":2},\"yaxis\":{\"gridcolor\":\"white\",\"linecolor\":\"white\",\"ticks\":\"\",\"title\":{\"standoff\":15},\"zerolinecolor\":\"white\",\"automargin\":true,\"zerolinewidth\":2},\"scene\":{\"xaxis\":{\"backgroundcolor\":\"#E5ECF6\",\"gridcolor\":\"white\",\"linecolor\":\"white\",\"showbackground\":true,\"ticks\":\"\",\"zerolinecolor\":\"white\",\"gridwidth\":2},\"yaxis\":{\"backgroundcolor\":\"#E5ECF6\",\"gridcolor\":\"white\",\"linecolor\":\"white\",\"showbackground\":true,\"ticks\":\"\",\"zerolinecolor\":\"white\",\"gridwidth\":2},\"zaxis\":{\"backgroundcolor\":\"#E5ECF6\",\"gridcolor\":\"white\",\"linecolor\":\"white\",\"showbackground\":true,\"ticks\":\"\",\"zerolinecolor\":\"white\",\"gridwidth\":2}},\"shapedefaults\":{\"line\":{\"color\":\"#2a3f5f\"}},\"annotationdefaults\":{\"arrowcolor\":\"#2a3f5f\",\"arrowhead\":0,\"arrowwidth\":1},\"geo\":{\"bgcolor\":\"white\",\"landcolor\":\"#E5ECF6\",\"subunitcolor\":\"white\",\"showland\":true,\"showlakes\":true,\"lakecolor\":\"white\"},\"title\":{\"x\":0.05},\"mapbox\":{\"style\":\"light\"}}},\"legend\":{\"tracegroupgap\":0},\"margin\":{\"t\":60},\"piecolorway\":[\"gray\",\"yellow\"],\"title\":{\"text\":\"Vendas por Ano\"}},                        {\"responsive\": true}                    ).then(function(){\n",
       "                            \n",
       "var gd = document.getElementById('2995edcd-8b1a-4037-891b-a11cc35aa561');\n",
       "var x = new MutationObserver(function (mutations, observer) {{\n",
       "        var display = window.getComputedStyle(gd).display;\n",
       "        if (!display || display === 'none') {{\n",
       "            console.log([gd, 'removed!']);\n",
       "            Plotly.purge(gd);\n",
       "            observer.disconnect();\n",
       "        }}\n",
       "}});\n",
       "\n",
       "// Listen for the removal of the full notebook cells\n",
       "var notebookContainer = gd.closest('#notebook-container');\n",
       "if (notebookContainer) {{\n",
       "    x.observe(notebookContainer, {childList: true});\n",
       "}}\n",
       "\n",
       "// Listen for the clearing of the current output cell\n",
       "var outputEl = gd.closest('.output');\n",
       "if (outputEl) {{\n",
       "    x.observe(outputEl, {childList: true});\n",
       "}}\n",
       "\n",
       "                        })                };                });            </script>        </div>"
      ]
     },
     "metadata": {},
     "output_type": "display_data"
    }
   ],
   "source": [
    "ano_vendas = df_analytics.groupby('Ano')['Num_Vendas'].sum()\n",
    "\n",
    "colors = ['gray', 'yellow']\n",
    "\n",
    "px.pie(ano_vendas, names = ano_vendas.index, values = ano_vendas.values, color_discrete_sequence=colors).update_layout(title='Vendas por Ano')"
   ]
  },
  {
   "cell_type": "markdown",
   "id": "3268e9d7",
   "metadata": {},
   "source": [
    "#### Por falta de dados não há como comparar os dados de 2022 e 2023."
   ]
  },
  {
   "cell_type": "markdown",
   "id": "978c6010",
   "metadata": {},
   "source": [
    "#### Porém, apenas os dois primeiros meses de 2023 esta bem proximo de 2/12 do ano de 2022. O que leva a seguinte pergunta, nesse ritimo será que as vendas no ano de 2023 vão superar o ano anterior? "
   ]
  },
  {
   "cell_type": "code",
   "execution_count": 69,
   "id": "3220cbf1",
   "metadata": {},
   "outputs": [
    {
     "data": {
      "image/png": "[encoded data removed]",
      "text/plain": [
       "<Figure size 800x500 with 1 Axes>"
      ]
     },
     "metadata": {},
     "output_type": "display_data"
    }
   ],
   "source": [
    "fig, ax = plt.subplots(figsize=(8,5))\n",
    "colors = ['gray']\n",
    "\n",
    "data_vendas = df_analytics.groupby('Dt_Solicitacao')['Num_Vendas'].sum()\n",
    "\n",
    "ax.plot( data_vendas.index, data_vendas.values, color=colors[0], linewidth=2.0)\n",
    "plt.show()"
   ]
  },
  {
   "cell_type": "markdown",
   "id": "e10167ac",
   "metadata": {},
   "source": [
    "#### Aqui temos um grafico de linhas das vendas ao longo dos dias. Percebe-se uma diminuição no número de vendas por dia."
   ]
  },
  {
   "cell_type": "code",
   "execution_count": 70,
   "id": "42f8a53d",
   "metadata": {
    "scrolled": true
   },
   "outputs": [
    {
     "data": {
      "image/png": "[encoded data removed]",
      "text/plain": [
       "<Figure size 640x480 with 1 Axes>"
      ]
     },
     "metadata": {},
     "output_type": "display_data"
    }
   ],
   "source": [
    "#Gerando grafico de vendas por estado\n",
    "vendas_por_estado = df_analytics.groupby('Estado')['Num_Vendas'].sum()\n",
    "\n",
    "vendas_por_estado.plot.bar(color='gray');"
   ]
  },
  {
   "cell_type": "code",
   "execution_count": 71,
   "id": "dde058c3",
   "metadata": {},
   "outputs": [
    {
     "data": {
      "image/png": "[encoded data removed]",
      "text/plain": [
       "<Figure size 800x500 with 1 Axes>"
      ]
     },
     "metadata": {},
     "output_type": "display_data"
    }
   ],
   "source": [
    "#Gerando grafico de duração de instalação por estado\n",
    "fig, ax = plt.subplots(figsize=(8,5))\n",
    "\n",
    "mean_duracao_estado = df_analytics.groupby('Estado')['Duracao_Servico'].mean()\n",
    "\n",
    "mean_duracao_estado.plot.bar(color='gray', title = 'Duração de instalação(dias) por estado');"
   ]
  },
  {
   "cell_type": "markdown",
   "id": "49bc58e1",
   "metadata": {},
   "source": [
    "#### Nos gráficos de barras dos estados por vendas e duração de instalação. Percebe-se que nas regiões que temos um maior tempo de instalação, há uma deficiência de vendas."
   ]
  },
  {
   "cell_type": "markdown",
   "id": "6f080551",
   "metadata": {},
   "source": [
    "#### Buscar parcerias com outros serviços do estado seria uma solução? Empresa que dispõe uma maior atenção aos clientes se destacam no mercado, agilidade na instação desso produto pode contribuir para uma maior fama na região consequentemente maior número de vendas."
   ]
  },
  {
   "cell_type": "code",
   "execution_count": 72,
   "id": "a6f07a16",
   "metadata": {},
   "outputs": [
    {
     "data": {
      "application/vnd.plotly.v1+json": {
       "config": {
        "plotlyServerURL": "https://plot.ly"
       },
       "data": [
        {
         "domain": {
          "x": [
           0,
           1
          ],
          "y": [
           0,
           1
          ]
         },
         "hovertemplate": "Tipo_Local=%{label}<br>value=%{value}<extra></extra>",
         "labels": [
          "EDIFICACAO COMPLETA",
          "MORADIA"
         ],
         "legendgroup": "",
         "name": "",
         "showlegend": true,
         "type": "pie",
         "values": [
          8665,
          30227
         ]
        }
       ],
       "layout": {
        "autosize": true,
        "legend": {
         "tracegroupgap": 0
        },
        "margin": {
         "t": 60
        },
        "piecolorway": [
         "gray",
         "yellow"
        ],
        "template": {
         "data": {
          "bar": [
           {
            "error_x": {
             "color": "#2a3f5f"
            },
            "error_y": {
             "color": "#2a3f5f"
            },
            "marker": {
             "line": {
              "color": "#E5ECF6",
              "width": 0.5
             },
             "pattern": {
              "fillmode": "overlay",
              "size": 10,
              "solidity": 0.2
             }
            },
            "type": "bar"
           }
          ],
          "barpolar": [
           {
            "marker": {
             "line": {
              "color": "#E5ECF6",
              "width": 0.5
             },
             "pattern": {
              "fillmode": "overlay",
              "size": 10,
              "solidity": 0.2
             }
            },
            "type": "barpolar"
           }
          ],
          "carpet": [
           {
            "aaxis": {
             "endlinecolor": "#2a3f5f",
             "gridcolor": "white",
             "linecolor": "white",
             "minorgridcolor": "white",
             "startlinecolor": "#2a3f5f"
            },
            "baxis": {
             "endlinecolor": "#2a3f5f",
             "gridcolor": "white",
             "linecolor": "white",
             "minorgridcolor": "white",
             "startlinecolor": "#2a3f5f"
            },
            "type": "carpet"
           }
          ],
          "choropleth": [
           {
            "colorbar": {
             "outlinewidth": 0,
             "ticks": ""
            },
            "type": "choropleth"
           }
          ],
          "contour": [
           {
            "colorbar": {
             "outlinewidth": 0,
             "ticks": ""
            },
            "colorscale": [
             [
              0,
              "#0d0887"
             ],
             [
              0.1111111111111111,
              "#46039f"
             ],
             [
              0.2222222222222222,
              "#7201a8"
             ],
             [
              0.3333333333333333,
              "#9c179e"
             ],
             [
              0.4444444444444444,
              "#bd3786"
             ],
             [
              0.5555555555555556,
              "#d8576b"
             ],
             [
              0.6666666666666666,
              "#ed7953"
             ],
             [
              0.7777777777777778,
              "#fb9f3a"
             ],
             [
              0.8888888888888888,
              "#fdca26"
             ],
             [
              1,
              "#f0f921"
             ]
            ],
            "type": "contour"
           }
          ],
          "contourcarpet": [
           {
            "colorbar": {
             "outlinewidth": 0,
             "ticks": ""
            },
            "type": "contourcarpet"
           }
          ],
          "heatmap": [
           {
            "colorbar": {
             "outlinewidth": 0,
             "ticks": ""
            },
            "colorscale": [
             [
              0,
              "#0d0887"
             ],
             [
              0.1111111111111111,
              "#46039f"
             ],
             [
              0.2222222222222222,
              "#7201a8"
             ],
             [
              0.3333333333333333,
              "#9c179e"
             ],
             [
              0.4444444444444444,
              "#bd3786"
             ],
             [
              0.5555555555555556,
              "#d8576b"
             ],
             [
              0.6666666666666666,
              "#ed7953"
             ],
             [
              0.7777777777777778,
              "#fb9f3a"
             ],
             [
              0.8888888888888888,
              "#fdca26"
             ],
             [
              1,
              "#f0f921"
             ]
            ],
            "type": "heatmap"
           }
          ],
          "heatmapgl": [
           {
            "colorbar": {
             "outlinewidth": 0,
             "ticks": ""
            },
            "colorscale": [
             [
              0,
              "#0d0887"
             ],
             [
              0.1111111111111111,
              "#46039f"
             ],
             [
              0.2222222222222222,
              "#7201a8"
             ],
             [
              0.3333333333333333,
              "#9c179e"
             ],
             [
              0.4444444444444444,
              "#bd3786"
             ],
             [
              0.5555555555555556,
              "#d8576b"
             ],
             [
              0.6666666666666666,
              "#ed7953"
             ],
             [
              0.7777777777777778,
              "#fb9f3a"
             ],
             [
              0.8888888888888888,
              "#fdca26"
             ],
             [
              1,
              "#f0f921"
             ]
            ],
            "type": "heatmapgl"
           }
          ],
          "histogram": [
           {
            "marker": {
             "pattern": {
              "fillmode": "overlay",
              "size": 10,
              "solidity": 0.2
             }
            },
            "type": "histogram"
           }
          ],
          "histogram2d": [
           {
            "colorbar": {
             "outlinewidth": 0,
             "ticks": ""
            },
            "colorscale": [
             [
              0,
              "#0d0887"
             ],
             [
              0.1111111111111111,
              "#46039f"
             ],
             [
              0.2222222222222222,
              "#7201a8"
             ],
             [
              0.3333333333333333,
              "#9c179e"
             ],
             [
              0.4444444444444444,
              "#bd3786"
             ],
             [
              0.5555555555555556,
              "#d8576b"
             ],
             [
              0.6666666666666666,
              "#ed7953"
             ],
             [
              0.7777777777777778,
              "#fb9f3a"
             ],
             [
              0.8888888888888888,
              "#fdca26"
             ],
             [
              1,
              "#f0f921"
             ]
            ],
            "type": "histogram2d"
           }
          ],
          "histogram2dcontour": [
           {
            "colorbar": {
             "outlinewidth": 0,
             "ticks": ""
            },
            "colorscale": [
             [
              0,
              "#0d0887"
             ],
             [
              0.1111111111111111,
              "#46039f"
             ],
             [
              0.2222222222222222,
              "#7201a8"
             ],
             [
              0.3333333333333333,
              "#9c179e"
             ],
             [
              0.4444444444444444,
              "#bd3786"
             ],
             [
              0.5555555555555556,
              "#d8576b"
             ],
             [
              0.6666666666666666,
              "#ed7953"
             ],
             [
              0.7777777777777778,
              "#fb9f3a"
             ],
             [
              0.8888888888888888,
              "#fdca26"
             ],
             [
              1,
              "#f0f921"
             ]
            ],
            "type": "histogram2dcontour"
           }
          ],
          "mesh3d": [
           {
            "colorbar": {
             "outlinewidth": 0,
             "ticks": ""
            },
            "type": "mesh3d"
           }
          ],
          "parcoords": [
           {
            "line": {
             "colorbar": {
              "outlinewidth": 0,
              "ticks": ""
             }
            },
            "type": "parcoords"
           }
          ],
          "pie": [
           {
            "automargin": true,
            "type": "pie"
           }
          ],
          "scatter": [
           {
            "fillpattern": {
             "fillmode": "overlay",
             "size": 10,
             "solidity": 0.2
            },
            "type": "scatter"
           }
          ],
          "scatter3d": [
           {
            "line": {
             "colorbar": {
              "outlinewidth": 0,
              "ticks": ""
             }
            },
            "marker": {
             "colorbar": {
              "outlinewidth": 0,
              "ticks": ""
             }
            },
            "type": "scatter3d"
           }
          ],
          "scattercarpet": [
           {
            "marker": {
             "colorbar": {
              "outlinewidth": 0,
              "ticks": ""
             }
            },
            "type": "scattercarpet"
           }
          ],
          "scattergeo": [
           {
            "marker": {
             "colorbar": {
              "outlinewidth": 0,
              "ticks": ""
             }
            },
            "type": "scattergeo"
           }
          ],
          "scattergl": [
           {
            "marker": {
             "colorbar": {
              "outlinewidth": 0,
              "ticks": ""
             }
            },
            "type": "scattergl"
           }
          ],
          "scattermapbox": [
           {
            "marker": {
             "colorbar": {
              "outlinewidth": 0,
              "ticks": ""
             }
            },
            "type": "scattermapbox"
           }
          ],
          "scatterpolar": [
           {
            "marker": {
             "colorbar": {
              "outlinewidth": 0,
              "ticks": ""
             }
            },
            "type": "scatterpolar"
           }
          ],
          "scatterpolargl": [
           {
            "marker": {
             "colorbar": {
              "outlinewidth": 0,
              "ticks": ""
             }
            },
            "type": "scatterpolargl"
           }
          ],
          "scatterternary": [
           {
            "marker": {
             "colorbar": {
              "outlinewidth": 0,
              "ticks": ""
             }
            },
            "type": "scatterternary"
           }
          ],
          "surface": [
           {
            "colorbar": {
             "outlinewidth": 0,
             "ticks": ""
            },
            "colorscale": [
             [
              0,
              "#0d0887"
             ],
             [
              0.1111111111111111,
              "#46039f"
             ],
             [
              0.2222222222222222,
              "#7201a8"
             ],
             [
              0.3333333333333333,
              "#9c179e"
             ],
             [
              0.4444444444444444,
              "#bd3786"
             ],
             [
              0.5555555555555556,
              "#d8576b"
             ],
             [
              0.6666666666666666,
              "#ed7953"
             ],
             [
              0.7777777777777778,
              "#fb9f3a"
             ],
             [
              0.8888888888888888,
              "#fdca26"
             ],
             [
              1,
              "#f0f921"
             ]
            ],
            "type": "surface"
           }
          ],
          "table": [
           {
            "cells": {
             "fill": {
              "color": "#EBF0F8"
             },
             "line": {
              "color": "white"
             }
            },
            "header": {
             "fill": {
              "color": "#C8D4E3"
             },
             "line": {
              "color": "white"
             }
            },
            "type": "table"
           }
          ]
         },
         "layout": {
          "annotationdefaults": {
           "arrowcolor": "#2a3f5f",
           "arrowhead": 0,
           "arrowwidth": 1
          },
          "autotypenumbers": "strict",
          "coloraxis": {
           "colorbar": {
            "outlinewidth": 0,
            "ticks": ""
           }
          },
          "colorscale": {
           "diverging": [
            [
             0,
             "#8e0152"
            ],
            [
             0.1,
             "#c51b7d"
            ],
            [
             0.2,
             "#de77ae"
            ],
            [
             0.3,
             "#f1b6da"
            ],
            [
             0.4,
             "#fde0ef"
            ],
            [
             0.5,
             "#f7f7f7"
            ],
            [
             0.6,
             "#e6f5d0"
            ],
            [
             0.7,
             "#b8e186"
            ],
            [
             0.8,
             "#7fbc41"
            ],
            [
             0.9,
             "#4d9221"
            ],
            [
             1,
             "#276419"
            ]
           ],
           "sequential": [
            [
             0,
             "#0d0887"
            ],
            [
             0.1111111111111111,
             "#46039f"
            ],
            [
             0.2222222222222222,
             "#7201a8"
            ],
            [
             0.3333333333333333,
             "#9c179e"
            ],
            [
             0.4444444444444444,
             "#bd3786"
            ],
            [
             0.5555555555555556,
             "#d8576b"
            ],
            [
             0.6666666666666666,
             "#ed7953"
            ],
            [
             0.7777777777777778,
             "#fb9f3a"
            ],
            [
             0.8888888888888888,
             "#fdca26"
            ],
            [
             1,
             "#f0f921"
            ]
           ],
           "sequentialminus": [
            [
             0,
             "#0d0887"
            ],
            [
             0.1111111111111111,
             "#46039f"
            ],
            [
             0.2222222222222222,
             "#7201a8"
            ],
            [
             0.3333333333333333,
             "#9c179e"
            ],
            [
             0.4444444444444444,
             "#bd3786"
            ],
            [
             0.5555555555555556,
             "#d8576b"
            ],
            [
             0.6666666666666666,
             "#ed7953"
            ],
            [
             0.7777777777777778,
             "#fb9f3a"
            ],
            [
             0.8888888888888888,
             "#fdca26"
            ],
            [
             1,
             "#f0f921"
            ]
           ]
          },
          "colorway": [
           "#636efa",
           "#EF553B",
           "#00cc96",
           "#ab63fa",
           "#FFA15A",
           "#19d3f3",
           "#FF6692",
           "#B6E880",
           "#FF97FF",
           "#FECB52"
          ],
          "font": {
           "color": "#2a3f5f"
          },
          "geo": {
           "bgcolor": "white",
           "lakecolor": "white",
           "landcolor": "#E5ECF6",
           "showlakes": true,
           "showland": true,
           "subunitcolor": "white"
          },
          "hoverlabel": {
           "align": "left"
          },
          "hovermode": "closest",
          "mapbox": {
           "style": "light"
          },
          "paper_bgcolor": "white",
          "plot_bgcolor": "#E5ECF6",
          "polar": {
           "angularaxis": {
            "gridcolor": "white",
            "linecolor": "white",
            "ticks": ""
           },
           "bgcolor": "#E5ECF6",
           "radialaxis": {
            "gridcolor": "white",
            "linecolor": "white",
            "ticks": ""
           }
          },
          "scene": {
           "xaxis": {
            "backgroundcolor": "#E5ECF6",
            "gridcolor": "white",
            "gridwidth": 2,
            "linecolor": "white",
            "showbackground": true,
            "ticks": "",
            "zerolinecolor": "white"
           },
           "yaxis": {
            "backgroundcolor": "#E5ECF6",
            "gridcolor": "white",
            "gridwidth": 2,
            "linecolor": "white",
            "showbackground": true,
            "ticks": "",
            "zerolinecolor": "white"
           },
           "zaxis": {
            "backgroundcolor": "#E5ECF6",
            "gridcolor": "white",
            "gridwidth": 2,
            "linecolor": "white",
            "showbackground": true,
            "ticks": "",
            "zerolinecolor": "white"
           }
          },
          "shapedefaults": {
           "line": {
            "color": "#2a3f5f"
           }
          },
          "ternary": {
           "aaxis": {
            "gridcolor": "white",
            "linecolor": "white",
            "ticks": ""
           },
           "baxis": {
            "gridcolor": "white",
            "linecolor": "white",
            "ticks": ""
           },
           "bgcolor": "#E5ECF6",
           "caxis": {
            "gridcolor": "white",
            "linecolor": "white",
            "ticks": ""
           }
          },
          "title": {
           "x": 0.05
          },
          "xaxis": {
           "automargin": true,
           "gridcolor": "white",
           "linecolor": "white",
           "ticks": "",
           "title": {
            "standoff": 15
           },
           "zerolinecolor": "white",
           "zerolinewidth": 2
          },
          "yaxis": {
           "automargin": true,
           "gridcolor": "white",
           "linecolor": "white",
           "ticks": "",
           "title": {
            "standoff": 15
           },
           "zerolinecolor": "white",
           "zerolinewidth": 2
          }
         }
        },
        "title": {
         "text": "Vendas por tipo de local"
        }
       }
      },
      "image/png": "[encoded data removed]",
      "text/html": [
       "<div>                            <div id=\"fd38a173-b6a2-4348-bde8-a50ac1251766\" class=\"plotly-graph-div\" style=\"height:525px; width:100%;\"></div>            <script type=\"text/javascript\">                require([\"plotly\"], function(Plotly) {                    window.PLOTLYENV=window.PLOTLYENV || {};                                    if (document.getElementById(\"fd38a173-b6a2-4348-bde8-a50ac1251766\")) {                    Plotly.newPlot(                        \"fd38a173-b6a2-4348-bde8-a50ac1251766\",                        [{\"domain\":{\"x\":[0.0,1.0],\"y\":[0.0,1.0]},\"hovertemplate\":\"Tipo_Local=%{label}\\u003cbr\\u003evalue=%{value}\\u003cextra\\u003e\\u003c\\u002fextra\\u003e\",\"labels\":[\"EDIFICACAO COMPLETA\",\"MORADIA\"],\"legendgroup\":\"\",\"name\":\"\",\"showlegend\":true,\"values\":[8665,30227],\"type\":\"pie\"}],                        {\"template\":{\"data\":{\"histogram2dcontour\":[{\"type\":\"histogram2dcontour\",\"colorbar\":{\"outlinewidth\":0,\"ticks\":\"\"},\"colorscale\":[[0.0,\"#0d0887\"],[0.1111111111111111,\"#46039f\"],[0.2222222222222222,\"#7201a8\"],[0.3333333333333333,\"#9c179e\"],[0.4444444444444444,\"#bd3786\"],[0.5555555555555556,\"#d8576b\"],[0.6666666666666666,\"#ed7953\"],[0.7777777777777778,\"#fb9f3a\"],[0.8888888888888888,\"#fdca26\"],[1.0,\"#f0f921\"]]}],\"choropleth\":[{\"type\":\"choropleth\",\"colorbar\":{\"outlinewidth\":0,\"ticks\":\"\"}}],\"histogram2d\":[{\"type\":\"histogram2d\",\"colorbar\":{\"outlinewidth\":0,\"ticks\":\"\"},\"colorscale\":[[0.0,\"#0d0887\"],[0.1111111111111111,\"#46039f\"],[0.2222222222222222,\"#7201a8\"],[0.3333333333333333,\"#9c179e\"],[0.4444444444444444,\"#bd3786\"],[0.5555555555555556,\"#d8576b\"],[0.6666666666666666,\"#ed7953\"],[0.7777777777777778,\"#fb9f3a\"],[0.8888888888888888,\"#fdca26\"],[1.0,\"#f0f921\"]]}],\"heatmap\":[{\"type\":\"heatmap\",\"colorbar\":{\"outlinewidth\":0,\"ticks\":\"\"},\"colorscale\":[[0.0,\"#0d0887\"],[0.1111111111111111,\"#46039f\"],[0.2222222222222222,\"#7201a8\"],[0.3333333333333333,\"#9c179e\"],[0.4444444444444444,\"#bd3786\"],[0.5555555555555556,\"#d8576b\"],[0.6666666666666666,\"#ed7953\"],[0.7777777777777778,\"#fb9f3a\"],[0.8888888888888888,\"#fdca26\"],[1.0,\"#f0f921\"]]}],\"heatmapgl\":[{\"type\":\"heatmapgl\",\"colorbar\":{\"outlinewidth\":0,\"ticks\":\"\"},\"colorscale\":[[0.0,\"#0d0887\"],[0.1111111111111111,\"#46039f\"],[0.2222222222222222,\"#7201a8\"],[0.3333333333333333,\"#9c179e\"],[0.4444444444444444,\"#bd3786\"],[0.5555555555555556,\"#d8576b\"],[0.6666666666666666,\"#ed7953\"],[0.7777777777777778,\"#fb9f3a\"],[0.8888888888888888,\"#fdca26\"],[1.0,\"#f0f921\"]]}],\"contourcarpet\":[{\"type\":\"contourcarpet\",\"colorbar\":{\"outlinewidth\":0,\"ticks\":\"\"}}],\"contour\":[{\"type\":\"contour\",\"colorbar\":{\"outlinewidth\":0,\"ticks\":\"\"},\"colorscale\":[[0.0,\"#0d0887\"],[0.1111111111111111,\"#46039f\"],[0.2222222222222222,\"#7201a8\"],[0.3333333333333333,\"#9c179e\"],[0.4444444444444444,\"#bd3786\"],[0.5555555555555556,\"#d8576b\"],[0.6666666666666666,\"#ed7953\"],[0.7777777777777778,\"#fb9f3a\"],[0.8888888888888888,\"#fdca26\"],[1.0,\"#f0f921\"]]}],\"surface\":[{\"type\":\"surface\",\"colorbar\":{\"outlinewidth\":0,\"ticks\":\"\"},\"colorscale\":[[0.0,\"#0d0887\"],[0.1111111111111111,\"#46039f\"],[0.2222222222222222,\"#7201a8\"],[0.3333333333333333,\"#9c179e\"],[0.4444444444444444,\"#bd3786\"],[0.5555555555555556,\"#d8576b\"],[0.6666666666666666,\"#ed7953\"],[0.7777777777777778,\"#fb9f3a\"],[0.8888888888888888,\"#fdca26\"],[1.0,\"#f0f921\"]]}],\"mesh3d\":[{\"type\":\"mesh3d\",\"colorbar\":{\"outlinewidth\":0,\"ticks\":\"\"}}],\"scatter\":[{\"fillpattern\":{\"fillmode\":\"overlay\",\"size\":10,\"solidity\":0.2},\"type\":\"scatter\"}],\"parcoords\":[{\"type\":\"parcoords\",\"line\":{\"colorbar\":{\"outlinewidth\":0,\"ticks\":\"\"}}}],\"scatterpolargl\":[{\"type\":\"scatterpolargl\",\"marker\":{\"colorbar\":{\"outlinewidth\":0,\"ticks\":\"\"}}}],\"bar\":[{\"error_x\":{\"color\":\"#2a3f5f\"},\"error_y\":{\"color\":\"#2a3f5f\"},\"marker\":{\"line\":{\"color\":\"#E5ECF6\",\"width\":0.5},\"pattern\":{\"fillmode\":\"overlay\",\"size\":10,\"solidity\":0.2}},\"type\":\"bar\"}],\"scattergeo\":[{\"type\":\"scattergeo\",\"marker\":{\"colorbar\":{\"outlinewidth\":0,\"ticks\":\"\"}}}],\"scatterpolar\":[{\"type\":\"scatterpolar\",\"marker\":{\"colorbar\":{\"outlinewidth\":0,\"ticks\":\"\"}}}],\"histogram\":[{\"marker\":{\"pattern\":{\"fillmode\":\"overlay\",\"size\":10,\"solidity\":0.2}},\"type\":\"histogram\"}],\"scattergl\":[{\"type\":\"scattergl\",\"marker\":{\"colorbar\":{\"outlinewidth\":0,\"ticks\":\"\"}}}],\"scatter3d\":[{\"type\":\"scatter3d\",\"line\":{\"colorbar\":{\"outlinewidth\":0,\"ticks\":\"\"}},\"marker\":{\"colorbar\":{\"outlinewidth\":0,\"ticks\":\"\"}}}],\"scattermapbox\":[{\"type\":\"scattermapbox\",\"marker\":{\"colorbar\":{\"outlinewidth\":0,\"ticks\":\"\"}}}],\"scatterternary\":[{\"type\":\"scatterternary\",\"marker\":{\"colorbar\":{\"outlinewidth\":0,\"ticks\":\"\"}}}],\"scattercarpet\":[{\"type\":\"scattercarpet\",\"marker\":{\"colorbar\":{\"outlinewidth\":0,\"ticks\":\"\"}}}],\"carpet\":[{\"aaxis\":{\"endlinecolor\":\"#2a3f5f\",\"gridcolor\":\"white\",\"linecolor\":\"white\",\"minorgridcolor\":\"white\",\"startlinecolor\":\"#2a3f5f\"},\"baxis\":{\"endlinecolor\":\"#2a3f5f\",\"gridcolor\":\"white\",\"linecolor\":\"white\",\"minorgridcolor\":\"white\",\"startlinecolor\":\"#2a3f5f\"},\"type\":\"carpet\"}],\"table\":[{\"cells\":{\"fill\":{\"color\":\"#EBF0F8\"},\"line\":{\"color\":\"white\"}},\"header\":{\"fill\":{\"color\":\"#C8D4E3\"},\"line\":{\"color\":\"white\"}},\"type\":\"table\"}],\"barpolar\":[{\"marker\":{\"line\":{\"color\":\"#E5ECF6\",\"width\":0.5},\"pattern\":{\"fillmode\":\"overlay\",\"size\":10,\"solidity\":0.2}},\"type\":\"barpolar\"}],\"pie\":[{\"automargin\":true,\"type\":\"pie\"}]},\"layout\":{\"autotypenumbers\":\"strict\",\"colorway\":[\"#636efa\",\"#EF553B\",\"#00cc96\",\"#ab63fa\",\"#FFA15A\",\"#19d3f3\",\"#FF6692\",\"#B6E880\",\"#FF97FF\",\"#FECB52\"],\"font\":{\"color\":\"#2a3f5f\"},\"hovermode\":\"closest\",\"hoverlabel\":{\"align\":\"left\"},\"paper_bgcolor\":\"white\",\"plot_bgcolor\":\"#E5ECF6\",\"polar\":{\"bgcolor\":\"#E5ECF6\",\"angularaxis\":{\"gridcolor\":\"white\",\"linecolor\":\"white\",\"ticks\":\"\"},\"radialaxis\":{\"gridcolor\":\"white\",\"linecolor\":\"white\",\"ticks\":\"\"}},\"ternary\":{\"bgcolor\":\"#E5ECF6\",\"aaxis\":{\"gridcolor\":\"white\",\"linecolor\":\"white\",\"ticks\":\"\"},\"baxis\":{\"gridcolor\":\"white\",\"linecolor\":\"white\",\"ticks\":\"\"},\"caxis\":{\"gridcolor\":\"white\",\"linecolor\":\"white\",\"ticks\":\"\"}},\"coloraxis\":{\"colorbar\":{\"outlinewidth\":0,\"ticks\":\"\"}},\"colorscale\":{\"sequential\":[[0.0,\"#0d0887\"],[0.1111111111111111,\"#46039f\"],[0.2222222222222222,\"#7201a8\"],[0.3333333333333333,\"#9c179e\"],[0.4444444444444444,\"#bd3786\"],[0.5555555555555556,\"#d8576b\"],[0.6666666666666666,\"#ed7953\"],[0.7777777777777778,\"#fb9f3a\"],[0.8888888888888888,\"#fdca26\"],[1.0,\"#f0f921\"]],\"sequentialminus\":[[0.0,\"#0d0887\"],[0.1111111111111111,\"#46039f\"],[0.2222222222222222,\"#7201a8\"],[0.3333333333333333,\"#9c179e\"],[0.4444444444444444,\"#bd3786\"],[0.5555555555555556,\"#d8576b\"],[0.6666666666666666,\"#ed7953\"],[0.7777777777777778,\"#fb9f3a\"],[0.8888888888888888,\"#fdca26\"],[1.0,\"#f0f921\"]],\"diverging\":[[0,\"#8e0152\"],[0.1,\"#c51b7d\"],[0.2,\"#de77ae\"],[0.3,\"#f1b6da\"],[0.4,\"#fde0ef\"],[0.5,\"#f7f7f7\"],[0.6,\"#e6f5d0\"],[0.7,\"#b8e186\"],[0.8,\"#7fbc41\"],[0.9,\"#4d9221\"],[1,\"#276419\"]]},\"xaxis\":{\"gridcolor\":\"white\",\"linecolor\":\"white\",\"ticks\":\"\",\"title\":{\"standoff\":15},\"zerolinecolor\":\"white\",\"automargin\":true,\"zerolinewidth\":2},\"yaxis\":{\"gridcolor\":\"white\",\"linecolor\":\"white\",\"ticks\":\"\",\"title\":{\"standoff\":15},\"zerolinecolor\":\"white\",\"automargin\":true,\"zerolinewidth\":2},\"scene\":{\"xaxis\":{\"backgroundcolor\":\"#E5ECF6\",\"gridcolor\":\"white\",\"linecolor\":\"white\",\"showbackground\":true,\"ticks\":\"\",\"zerolinecolor\":\"white\",\"gridwidth\":2},\"yaxis\":{\"backgroundcolor\":\"#E5ECF6\",\"gridcolor\":\"white\",\"linecolor\":\"white\",\"showbackground\":true,\"ticks\":\"\",\"zerolinecolor\":\"white\",\"gridwidth\":2},\"zaxis\":{\"backgroundcolor\":\"#E5ECF6\",\"gridcolor\":\"white\",\"linecolor\":\"white\",\"showbackground\":true,\"ticks\":\"\",\"zerolinecolor\":\"white\",\"gridwidth\":2}},\"shapedefaults\":{\"line\":{\"color\":\"#2a3f5f\"}},\"annotationdefaults\":{\"arrowcolor\":\"#2a3f5f\",\"arrowhead\":0,\"arrowwidth\":1},\"geo\":{\"bgcolor\":\"white\",\"landcolor\":\"#E5ECF6\",\"subunitcolor\":\"white\",\"showland\":true,\"showlakes\":true,\"lakecolor\":\"white\"},\"title\":{\"x\":0.05},\"mapbox\":{\"style\":\"light\"}}},\"legend\":{\"tracegroupgap\":0},\"margin\":{\"t\":60},\"piecolorway\":[\"gray\",\"yellow\"],\"title\":{\"text\":\"Vendas por tipo de local\"}},                        {\"responsive\": true}                    ).then(function(){\n",
       "                            \n",
       "var gd = document.getElementById('fd38a173-b6a2-4348-bde8-a50ac1251766');\n",
       "var x = new MutationObserver(function (mutations, observer) {{\n",
       "        var display = window.getComputedStyle(gd).display;\n",
       "        if (!display || display === 'none') {{\n",
       "            console.log([gd, 'removed!']);\n",
       "            Plotly.purge(gd);\n",
       "            observer.disconnect();\n",
       "        }}\n",
       "}});\n",
       "\n",
       "// Listen for the removal of the full notebook cells\n",
       "var notebookContainer = gd.closest('#notebook-container');\n",
       "if (notebookContainer) {{\n",
       "    x.observe(notebookContainer, {childList: true});\n",
       "}}\n",
       "\n",
       "// Listen for the clearing of the current output cell\n",
       "var outputEl = gd.closest('.output');\n",
       "if (outputEl) {{\n",
       "    x.observe(outputEl, {childList: true});\n",
       "}}\n",
       "\n",
       "                        })                };                });            </script>        </div>"
      ]
     },
     "metadata": {},
     "output_type": "display_data"
    }
   ],
   "source": [
    "vendas_por_local = df_analytics.groupby('Tipo_Local')['Num_Vendas'].sum()\n",
    "\n",
    "colors = ['gray', 'yellow']\n",
    "\n",
    "px.pie(vendas_por_local, names = vendas_por_local.index, values = vendas_por_local.values, color_discrete_sequence=colors).update_layout(title='Vendas por tipo de local')"
   ]
  },
  {
   "cell_type": "markdown",
   "id": "3b5776b7",
   "metadata": {},
   "source": [
    "#### No gráfico de vendas por tipo de local, é notório uma dominância das vendas para moradia. E por mais que seja um grafico simples quer dizer muito. Com ele podemos obeserva o publico alvo das vendas. Direcionando assim estrategias de marketing para potencializar as vendas dos produtos, investindo em canais de marketing específicos e atigindo o público alvo."
   ]
  },
  {
   "cell_type": "code",
   "execution_count": 73,
   "id": "bad0e404",
   "metadata": {
    "scrolled": true
   },
   "outputs": [
    {
     "data": {
      "image/png": "[encoded data removed]",
      "text/plain": [
       "<Figure size 640x480 with 1 Axes>"
      ]
     },
     "metadata": {},
     "output_type": "display_data"
    }
   ],
   "source": [
    "vendas_por_vel = df_analytics.groupby('Velocidade_MBPS')['Num_Vendas'].sum()\n",
    "vendas_por_vel.plot.bar(color='gray', title='Vendas por pacote de velocidade');"
   ]
  },
  {
   "cell_type": "markdown",
   "id": "143d0fe1",
   "metadata": {},
   "source": [
    "#### Observe que o pacote de velocidade se destaca no número de vendas, provavelmente deve ser um pacote que atende as necessidades do cliente, o famoso custo beneficio. Aplicar esse pacote para outras regiões, a qual ele não esteja disponivel, ou tentativas de baratear os serviços de instalaçao podem potencializar as vendas."
   ]
  },
  {
   "cell_type": "code",
   "execution_count": 74,
   "id": "8b7d734f",
   "metadata": {},
   "outputs": [
    {
     "data": {
      "text/plain": [
       "<Axes: title={'center': 'Duração de instalação(dias) por Servico'}, xlabel='Servico'>"
      ]
     },
     "execution_count": 74,
     "metadata": {},
     "output_type": "execute_result"
    },
    {
     "data": {
      "image/png": "[encoded data removed]",
      "text/plain": [
       "<Figure size 800x500 with 1 Axes>"
      ]
     },
     "metadata": {},
     "output_type": "display_data"
    }
   ],
   "source": [
    "#Gerando grafico de duração de instalação por serviço\n",
    "fig, ax = plt.subplots(figsize=(8,5))\n",
    "\n",
    "mean_duracao_estado = df_analytics.groupby('Servico')['Duracao_Servico'].mean()\n",
    "\n",
    "mean_duracao_estado.plot.bar(color='gray', title = 'Duração de instalação(dias) por Servico')"
   ]
  },
  {
   "cell_type": "code",
   "execution_count": 75,
   "id": "3c823452",
   "metadata": {},
   "outputs": [
    {
     "data": {
      "application/vnd.plotly.v1+json": {
       "config": {
        "plotlyServerURL": "https://plot.ly"
       },
       "data": [
        {
         "domain": {
          "x": [
           0,
           1
          ],
          "y": [
           0,
           1
          ]
         },
         "hovertemplate": "Servico=%{label}<br>value=%{value}<extra></extra>",
         "labels": [
          "ABILITY",
          "ABILITY TECNOLOGIA E SERVICOS",
          "ACCENTURE DO BRASIL LTDA",
          "CONECTA",
          "ICOMON TECNOLOGIA LTDA",
          "SEREDE",
          "SEREDE PR",
          "SEREDE SC",
          "SEREDE SERVICOS DE REDE S.A.",
          "TEL TELECOMUNICACOES LTDA",
          "TELEMONT",
          "TELEMONT ENGENHARIA DE TELECOMUNICACOES SA"
         ],
         "legendgroup": "",
         "name": "",
         "showlegend": true,
         "type": "pie",
         "values": [
          2,
          4,
          1,
          9429,
          231,
          14500,
          53,
          4,
          2122,
          54,
          11306,
          1186
         ]
        }
       ],
       "layout": {
        "autosize": true,
        "legend": {
         "orientation": "h",
         "title": {
          "text": "Vendas por Serviço"
         },
         "tracegroupgap": 0,
         "x": 1,
         "xanchor": "right",
         "y": 1.02,
         "yanchor": "bottom"
        },
        "margin": {
         "t": 60
        },
        "template": {
         "data": {
          "bar": [
           {
            "error_x": {
             "color": "#2a3f5f"
            },
            "error_y": {
             "color": "#2a3f5f"
            },
            "marker": {
             "line": {
              "color": "#E5ECF6",
              "width": 0.5
             },
             "pattern": {
              "fillmode": "overlay",
              "size": 10,
              "solidity": 0.2
             }
            },
            "type": "bar"
           }
          ],
          "barpolar": [
           {
            "marker": {
             "line": {
              "color": "#E5ECF6",
              "width": 0.5
             },
             "pattern": {
              "fillmode": "overlay",
              "size": 10,
              "solidity": 0.2
             }
            },
            "type": "barpolar"
           }
          ],
          "carpet": [
           {
            "aaxis": {
             "endlinecolor": "#2a3f5f",
             "gridcolor": "white",
             "linecolor": "white",
             "minorgridcolor": "white",
             "startlinecolor": "#2a3f5f"
            },
            "baxis": {
             "endlinecolor": "#2a3f5f",
             "gridcolor": "white",
             "linecolor": "white",
             "minorgridcolor": "white",
             "startlinecolor": "#2a3f5f"
            },
            "type": "carpet"
           }
          ],
          "choropleth": [
           {
            "colorbar": {
             "outlinewidth": 0,
             "ticks": ""
            },
            "type": "choropleth"
           }
          ],
          "contour": [
           {
            "colorbar": {
             "outlinewidth": 0,
             "ticks": ""
            },
            "colorscale": [
             [
              0,
              "#0d0887"
             ],
             [
              0.1111111111111111,
              "#46039f"
             ],
             [
              0.2222222222222222,
              "#7201a8"
             ],
             [
              0.3333333333333333,
              "#9c179e"
             ],
             [
              0.4444444444444444,
              "#bd3786"
             ],
             [
              0.5555555555555556,
              "#d8576b"
             ],
             [
              0.6666666666666666,
              "#ed7953"
             ],
             [
              0.7777777777777778,
              "#fb9f3a"
             ],
             [
              0.8888888888888888,
              "#fdca26"
             ],
             [
              1,
              "#f0f921"
             ]
            ],
            "type": "contour"
           }
          ],
          "contourcarpet": [
           {
            "colorbar": {
             "outlinewidth": 0,
             "ticks": ""
            },
            "type": "contourcarpet"
           }
          ],
          "heatmap": [
           {
            "colorbar": {
             "outlinewidth": 0,
             "ticks": ""
            },
            "colorscale": [
             [
              0,
              "#0d0887"
             ],
             [
              0.1111111111111111,
              "#46039f"
             ],
             [
              0.2222222222222222,
              "#7201a8"
             ],
             [
              0.3333333333333333,
              "#9c179e"
             ],
             [
              0.4444444444444444,
              "#bd3786"
             ],
             [
              0.5555555555555556,
              "#d8576b"
             ],
             [
              0.6666666666666666,
              "#ed7953"
             ],
             [
              0.7777777777777778,
              "#fb9f3a"
             ],
             [
              0.8888888888888888,
              "#fdca26"
             ],
             [
              1,
              "#f0f921"
             ]
            ],
            "type": "heatmap"
           }
          ],
          "heatmapgl": [
           {
            "colorbar": {
             "outlinewidth": 0,
             "ticks": ""
            },
            "colorscale": [
             [
              0,
              "#0d0887"
             ],
             [
              0.1111111111111111,
              "#46039f"
             ],
             [
              0.2222222222222222,
              "#7201a8"
             ],
             [
              0.3333333333333333,
              "#9c179e"
             ],
             [
              0.4444444444444444,
              "#bd3786"
             ],
             [
              0.5555555555555556,
              "#d8576b"
             ],
             [
              0.6666666666666666,
              "#ed7953"
             ],
             [
              0.7777777777777778,
              "#fb9f3a"
             ],
             [
              0.8888888888888888,
              "#fdca26"
             ],
             [
              1,
              "#f0f921"
             ]
            ],
            "type": "heatmapgl"
           }
          ],
          "histogram": [
           {
            "marker": {
             "pattern": {
              "fillmode": "overlay",
              "size": 10,
              "solidity": 0.2
             }
            },
            "type": "histogram"
           }
          ],
          "histogram2d": [
           {
            "colorbar": {
             "outlinewidth": 0,
             "ticks": ""
            },
            "colorscale": [
             [
              0,
              "#0d0887"
             ],
             [
              0.1111111111111111,
              "#46039f"
             ],
             [
              0.2222222222222222,
              "#7201a8"
             ],
             [
              0.3333333333333333,
              "#9c179e"
             ],
             [
              0.4444444444444444,
              "#bd3786"
             ],
             [
              0.5555555555555556,
              "#d8576b"
             ],
             [
              0.6666666666666666,
              "#ed7953"
             ],
             [
              0.7777777777777778,
              "#fb9f3a"
             ],
             [
              0.8888888888888888,
              "#fdca26"
             ],
             [
              1,
              "#f0f921"
             ]
            ],
            "type": "histogram2d"
           }
          ],
          "histogram2dcontour": [
           {
            "colorbar": {
             "outlinewidth": 0,
             "ticks": ""
            },
            "colorscale": [
             [
              0,
              "#0d0887"
             ],
             [
              0.1111111111111111,
              "#46039f"
             ],
             [
              0.2222222222222222,
              "#7201a8"
             ],
             [
              0.3333333333333333,
              "#9c179e"
             ],
             [
              0.4444444444444444,
              "#bd3786"
             ],
             [
              0.5555555555555556,
              "#d8576b"
             ],
             [
              0.6666666666666666,
              "#ed7953"
             ],
             [
              0.7777777777777778,
              "#fb9f3a"
             ],
             [
              0.8888888888888888,
              "#fdca26"
             ],
             [
              1,
              "#f0f921"
             ]
            ],
            "type": "histogram2dcontour"
           }
          ],
          "mesh3d": [
           {
            "colorbar": {
             "outlinewidth": 0,
             "ticks": ""
            },
            "type": "mesh3d"
           }
          ],
          "parcoords": [
           {
            "line": {
             "colorbar": {
              "outlinewidth": 0,
              "ticks": ""
             }
            },
            "type": "parcoords"
           }
          ],
          "pie": [
           {
            "automargin": true,
            "type": "pie"
           }
          ],
          "scatter": [
           {
            "fillpattern": {
             "fillmode": "overlay",
             "size": 10,
             "solidity": 0.2
            },
            "type": "scatter"
           }
          ],
          "scatter3d": [
           {
            "line": {
             "colorbar": {
              "outlinewidth": 0,
              "ticks": ""
             }
            },
            "marker": {
             "colorbar": {
              "outlinewidth": 0,
              "ticks": ""
             }
            },
            "type": "scatter3d"
           }
          ],
          "scattercarpet": [
           {
            "marker": {
             "colorbar": {
              "outlinewidth": 0,
              "ticks": ""
             }
            },
            "type": "scattercarpet"
           }
          ],
          "scattergeo": [
           {
            "marker": {
             "colorbar": {
              "outlinewidth": 0,
              "ticks": ""
             }
            },
            "type": "scattergeo"
           }
          ],
          "scattergl": [
           {
            "marker": {
             "colorbar": {
              "outlinewidth": 0,
              "ticks": ""
             }
            },
            "type": "scattergl"
           }
          ],
          "scattermapbox": [
           {
            "marker": {
             "colorbar": {
              "outlinewidth": 0,
              "ticks": ""
             }
            },
            "type": "scattermapbox"
           }
          ],
          "scatterpolar": [
           {
            "marker": {
             "colorbar": {
              "outlinewidth": 0,
              "ticks": ""
             }
            },
            "type": "scatterpolar"
           }
          ],
          "scatterpolargl": [
           {
            "marker": {
             "colorbar": {
              "outlinewidth": 0,
              "ticks": ""
             }
            },
            "type": "scatterpolargl"
           }
          ],
          "scatterternary": [
           {
            "marker": {
             "colorbar": {
              "outlinewidth": 0,
              "ticks": ""
             }
            },
            "type": "scatterternary"
           }
          ],
          "surface": [
           {
            "colorbar": {
             "outlinewidth": 0,
             "ticks": ""
            },
            "colorscale": [
             [
              0,
              "#0d0887"
             ],
             [
              0.1111111111111111,
              "#46039f"
             ],
             [
              0.2222222222222222,
              "#7201a8"
             ],
             [
              0.3333333333333333,
              "#9c179e"
             ],
             [
              0.4444444444444444,
              "#bd3786"
             ],
             [
              0.5555555555555556,
              "#d8576b"
             ],
             [
              0.6666666666666666,
              "#ed7953"
             ],
             [
              0.7777777777777778,
              "#fb9f3a"
             ],
             [
              0.8888888888888888,
              "#fdca26"
             ],
             [
              1,
              "#f0f921"
             ]
            ],
            "type": "surface"
           }
          ],
          "table": [
           {
            "cells": {
             "fill": {
              "color": "#EBF0F8"
             },
             "line": {
              "color": "white"
             }
            },
            "header": {
             "fill": {
              "color": "#C8D4E3"
             },
             "line": {
              "color": "white"
             }
            },
            "type": "table"
           }
          ]
         },
         "layout": {
          "annotationdefaults": {
           "arrowcolor": "#2a3f5f",
           "arrowhead": 0,
           "arrowwidth": 1
          },
          "autotypenumbers": "strict",
          "coloraxis": {
           "colorbar": {
            "outlinewidth": 0,
            "ticks": ""
           }
          },
          "colorscale": {
           "diverging": [
            [
             0,
             "#8e0152"
            ],
            [
             0.1,
             "#c51b7d"
            ],
            [
             0.2,
             "#de77ae"
            ],
            [
             0.3,
             "#f1b6da"
            ],
            [
             0.4,
             "#fde0ef"
            ],
            [
             0.5,
             "#f7f7f7"
            ],
            [
             0.6,
             "#e6f5d0"
            ],
            [
             0.7,
             "#b8e186"
            ],
            [
             0.8,
             "#7fbc41"
            ],
            [
             0.9,
             "#4d9221"
            ],
            [
             1,
             "#276419"
            ]
           ],
           "sequential": [
            [
             0,
             "#0d0887"
            ],
            [
             0.1111111111111111,
             "#46039f"
            ],
            [
             0.2222222222222222,
             "#7201a8"
            ],
            [
             0.3333333333333333,
             "#9c179e"
            ],
            [
             0.4444444444444444,
             "#bd3786"
            ],
            [
             0.5555555555555556,
             "#d8576b"
            ],
            [
             0.6666666666666666,
             "#ed7953"
            ],
            [
             0.7777777777777778,
             "#fb9f3a"
            ],
            [
             0.8888888888888888,
             "#fdca26"
            ],
            [
             1,
             "#f0f921"
            ]
           ],
           "sequentialminus": [
            [
             0,
             "#0d0887"
            ],
            [
             0.1111111111111111,
             "#46039f"
            ],
            [
             0.2222222222222222,
             "#7201a8"
            ],
            [
             0.3333333333333333,
             "#9c179e"
            ],
            [
             0.4444444444444444,
             "#bd3786"
            ],
            [
             0.5555555555555556,
             "#d8576b"
            ],
            [
             0.6666666666666666,
             "#ed7953"
            ],
            [
             0.7777777777777778,
             "#fb9f3a"
            ],
            [
             0.8888888888888888,
             "#fdca26"
            ],
            [
             1,
             "#f0f921"
            ]
           ]
          },
          "colorway": [
           "#636efa",
           "#EF553B",
           "#00cc96",
           "#ab63fa",
           "#FFA15A",
           "#19d3f3",
           "#FF6692",
           "#B6E880",
           "#FF97FF",
           "#FECB52"
          ],
          "font": {
           "color": "#2a3f5f"
          },
          "geo": {
           "bgcolor": "white",
           "lakecolor": "white",
           "landcolor": "#E5ECF6",
           "showlakes": true,
           "showland": true,
           "subunitcolor": "white"
          },
          "hoverlabel": {
           "align": "left"
          },
          "hovermode": "closest",
          "mapbox": {
           "style": "light"
          },
          "paper_bgcolor": "white",
          "plot_bgcolor": "#E5ECF6",
          "polar": {
           "angularaxis": {
            "gridcolor": "white",
            "linecolor": "white",
            "ticks": ""
           },
           "bgcolor": "#E5ECF6",
           "radialaxis": {
            "gridcolor": "white",
            "linecolor": "white",
            "ticks": ""
           }
          },
          "scene": {
           "xaxis": {
            "backgroundcolor": "#E5ECF6",
            "gridcolor": "white",
            "gridwidth": 2,
            "linecolor": "white",
            "showbackground": true,
            "ticks": "",
            "zerolinecolor": "white"
           },
           "yaxis": {
            "backgroundcolor": "#E5ECF6",
            "gridcolor": "white",
            "gridwidth": 2,
            "linecolor": "white",
            "showbackground": true,
            "ticks": "",
            "zerolinecolor": "white"
           },
           "zaxis": {
            "backgroundcolor": "#E5ECF6",
            "gridcolor": "white",
            "gridwidth": 2,
            "linecolor": "white",
            "showbackground": true,
            "ticks": "",
            "zerolinecolor": "white"
           }
          },
          "shapedefaults": {
           "line": {
            "color": "#2a3f5f"
           }
          },
          "ternary": {
           "aaxis": {
            "gridcolor": "white",
            "linecolor": "white",
            "ticks": ""
           },
           "baxis": {
            "gridcolor": "white",
            "linecolor": "white",
            "ticks": ""
           },
           "bgcolor": "#E5ECF6",
           "caxis": {
            "gridcolor": "white",
            "linecolor": "white",
            "ticks": ""
           }
          },
          "title": {
           "x": 0.05
          },
          "xaxis": {
           "automargin": true,
           "gridcolor": "white",
           "linecolor": "white",
           "ticks": "",
           "title": {
            "standoff": 15
           },
           "zerolinecolor": "white",
           "zerolinewidth": 2
          },
          "yaxis": {
           "automargin": true,
           "gridcolor": "white",
           "linecolor": "white",
           "ticks": "",
           "title": {
            "standoff": 15
           },
           "zerolinecolor": "white",
           "zerolinewidth": 2
          }
         }
        }
       }
      },
      "image/png": "[encoded data removed]",
      "text/html": [
       "<div>                            <div id=\"a22c635f-3ee9-42d1-9895-9ea23a7a7b09\" class=\"plotly-graph-div\" style=\"height:525px; width:100%;\"></div>            <script type=\"text/javascript\">                require([\"plotly\"], function(Plotly) {                    window.PLOTLYENV=window.PLOTLYENV || {};                                    if (document.getElementById(\"a22c635f-3ee9-42d1-9895-9ea23a7a7b09\")) {                    Plotly.newPlot(                        \"a22c635f-3ee9-42d1-9895-9ea23a7a7b09\",                        [{\"domain\":{\"x\":[0.0,1.0],\"y\":[0.0,1.0]},\"hovertemplate\":\"Servico=%{label}\\u003cbr\\u003evalue=%{value}\\u003cextra\\u003e\\u003c\\u002fextra\\u003e\",\"labels\":[\"ABILITY\",\"ABILITY TECNOLOGIA E SERVICOS\",\"ACCENTURE DO BRASIL LTDA\",\"CONECTA\",\"ICOMON TECNOLOGIA LTDA\",\"SEREDE\",\"SEREDE PR\",\"SEREDE SC\",\"SEREDE SERVICOS DE REDE S.A.\",\"TEL TELECOMUNICACOES LTDA\",\"TELEMONT\",\"TELEMONT ENGENHARIA DE TELECOMUNICACOES SA\"],\"legendgroup\":\"\",\"name\":\"\",\"showlegend\":true,\"values\":[2,4,1,9429,231,14500,53,4,2122,54,11306,1186],\"type\":\"pie\"}],                        {\"template\":{\"data\":{\"histogram2dcontour\":[{\"type\":\"histogram2dcontour\",\"colorbar\":{\"outlinewidth\":0,\"ticks\":\"\"},\"colorscale\":[[0.0,\"#0d0887\"],[0.1111111111111111,\"#46039f\"],[0.2222222222222222,\"#7201a8\"],[0.3333333333333333,\"#9c179e\"],[0.4444444444444444,\"#bd3786\"],[0.5555555555555556,\"#d8576b\"],[0.6666666666666666,\"#ed7953\"],[0.7777777777777778,\"#fb9f3a\"],[0.8888888888888888,\"#fdca26\"],[1.0,\"#f0f921\"]]}],\"choropleth\":[{\"type\":\"choropleth\",\"colorbar\":{\"outlinewidth\":0,\"ticks\":\"\"}}],\"histogram2d\":[{\"type\":\"histogram2d\",\"colorbar\":{\"outlinewidth\":0,\"ticks\":\"\"},\"colorscale\":[[0.0,\"#0d0887\"],[0.1111111111111111,\"#46039f\"],[0.2222222222222222,\"#7201a8\"],[0.3333333333333333,\"#9c179e\"],[0.4444444444444444,\"#bd3786\"],[0.5555555555555556,\"#d8576b\"],[0.6666666666666666,\"#ed7953\"],[0.7777777777777778,\"#fb9f3a\"],[0.8888888888888888,\"#fdca26\"],[1.0,\"#f0f921\"]]}],\"heatmap\":[{\"type\":\"heatmap\",\"colorbar\":{\"outlinewidth\":0,\"ticks\":\"\"},\"colorscale\":[[0.0,\"#0d0887\"],[0.1111111111111111,\"#46039f\"],[0.2222222222222222,\"#7201a8\"],[0.3333333333333333,\"#9c179e\"],[0.4444444444444444,\"#bd3786\"],[0.5555555555555556,\"#d8576b\"],[0.6666666666666666,\"#ed7953\"],[0.7777777777777778,\"#fb9f3a\"],[0.8888888888888888,\"#fdca26\"],[1.0,\"#f0f921\"]]}],\"heatmapgl\":[{\"type\":\"heatmapgl\",\"colorbar\":{\"outlinewidth\":0,\"ticks\":\"\"},\"colorscale\":[[0.0,\"#0d0887\"],[0.1111111111111111,\"#46039f\"],[0.2222222222222222,\"#7201a8\"],[0.3333333333333333,\"#9c179e\"],[0.4444444444444444,\"#bd3786\"],[0.5555555555555556,\"#d8576b\"],[0.6666666666666666,\"#ed7953\"],[0.7777777777777778,\"#fb9f3a\"],[0.8888888888888888,\"#fdca26\"],[1.0,\"#f0f921\"]]}],\"contourcarpet\":[{\"type\":\"contourcarpet\",\"colorbar\":{\"outlinewidth\":0,\"ticks\":\"\"}}],\"contour\":[{\"type\":\"contour\",\"colorbar\":{\"outlinewidth\":0,\"ticks\":\"\"},\"colorscale\":[[0.0,\"#0d0887\"],[0.1111111111111111,\"#46039f\"],[0.2222222222222222,\"#7201a8\"],[0.3333333333333333,\"#9c179e\"],[0.4444444444444444,\"#bd3786\"],[0.5555555555555556,\"#d8576b\"],[0.6666666666666666,\"#ed7953\"],[0.7777777777777778,\"#fb9f3a\"],[0.8888888888888888,\"#fdca26\"],[1.0,\"#f0f921\"]]}],\"surface\":[{\"type\":\"surface\",\"colorbar\":{\"outlinewidth\":0,\"ticks\":\"\"},\"colorscale\":[[0.0,\"#0d0887\"],[0.1111111111111111,\"#46039f\"],[0.2222222222222222,\"#7201a8\"],[0.3333333333333333,\"#9c179e\"],[0.4444444444444444,\"#bd3786\"],[0.5555555555555556,\"#d8576b\"],[0.6666666666666666,\"#ed7953\"],[0.7777777777777778,\"#fb9f3a\"],[0.8888888888888888,\"#fdca26\"],[1.0,\"#f0f921\"]]}],\"mesh3d\":[{\"type\":\"mesh3d\",\"colorbar\":{\"outlinewidth\":0,\"ticks\":\"\"}}],\"scatter\":[{\"fillpattern\":{\"fillmode\":\"overlay\",\"size\":10,\"solidity\":0.2},\"type\":\"scatter\"}],\"parcoords\":[{\"type\":\"parcoords\",\"line\":{\"colorbar\":{\"outlinewidth\":0,\"ticks\":\"\"}}}],\"scatterpolargl\":[{\"type\":\"scatterpolargl\",\"marker\":{\"colorbar\":{\"outlinewidth\":0,\"ticks\":\"\"}}}],\"bar\":[{\"error_x\":{\"color\":\"#2a3f5f\"},\"error_y\":{\"color\":\"#2a3f5f\"},\"marker\":{\"line\":{\"color\":\"#E5ECF6\",\"width\":0.5},\"pattern\":{\"fillmode\":\"overlay\",\"size\":10,\"solidity\":0.2}},\"type\":\"bar\"}],\"scattergeo\":[{\"type\":\"scattergeo\",\"marker\":{\"colorbar\":{\"outlinewidth\":0,\"ticks\":\"\"}}}],\"scatterpolar\":[{\"type\":\"scatterpolar\",\"marker\":{\"colorbar\":{\"outlinewidth\":0,\"ticks\":\"\"}}}],\"histogram\":[{\"marker\":{\"pattern\":{\"fillmode\":\"overlay\",\"size\":10,\"solidity\":0.2}},\"type\":\"histogram\"}],\"scattergl\":[{\"type\":\"scattergl\",\"marker\":{\"colorbar\":{\"outlinewidth\":0,\"ticks\":\"\"}}}],\"scatter3d\":[{\"type\":\"scatter3d\",\"line\":{\"colorbar\":{\"outlinewidth\":0,\"ticks\":\"\"}},\"marker\":{\"colorbar\":{\"outlinewidth\":0,\"ticks\":\"\"}}}],\"scattermapbox\":[{\"type\":\"scattermapbox\",\"marker\":{\"colorbar\":{\"outlinewidth\":0,\"ticks\":\"\"}}}],\"scatterternary\":[{\"type\":\"scatterternary\",\"marker\":{\"colorbar\":{\"outlinewidth\":0,\"ticks\":\"\"}}}],\"scattercarpet\":[{\"type\":\"scattercarpet\",\"marker\":{\"colorbar\":{\"outlinewidth\":0,\"ticks\":\"\"}}}],\"carpet\":[{\"aaxis\":{\"endlinecolor\":\"#2a3f5f\",\"gridcolor\":\"white\",\"linecolor\":\"white\",\"minorgridcolor\":\"white\",\"startlinecolor\":\"#2a3f5f\"},\"baxis\":{\"endlinecolor\":\"#2a3f5f\",\"gridcolor\":\"white\",\"linecolor\":\"white\",\"minorgridcolor\":\"white\",\"startlinecolor\":\"#2a3f5f\"},\"type\":\"carpet\"}],\"table\":[{\"cells\":{\"fill\":{\"color\":\"#EBF0F8\"},\"line\":{\"color\":\"white\"}},\"header\":{\"fill\":{\"color\":\"#C8D4E3\"},\"line\":{\"color\":\"white\"}},\"type\":\"table\"}],\"barpolar\":[{\"marker\":{\"line\":{\"color\":\"#E5ECF6\",\"width\":0.5},\"pattern\":{\"fillmode\":\"overlay\",\"size\":10,\"solidity\":0.2}},\"type\":\"barpolar\"}],\"pie\":[{\"automargin\":true,\"type\":\"pie\"}]},\"layout\":{\"autotypenumbers\":\"strict\",\"colorway\":[\"#636efa\",\"#EF553B\",\"#00cc96\",\"#ab63fa\",\"#FFA15A\",\"#19d3f3\",\"#FF6692\",\"#B6E880\",\"#FF97FF\",\"#FECB52\"],\"font\":{\"color\":\"#2a3f5f\"},\"hovermode\":\"closest\",\"hoverlabel\":{\"align\":\"left\"},\"paper_bgcolor\":\"white\",\"plot_bgcolor\":\"#E5ECF6\",\"polar\":{\"bgcolor\":\"#E5ECF6\",\"angularaxis\":{\"gridcolor\":\"white\",\"linecolor\":\"white\",\"ticks\":\"\"},\"radialaxis\":{\"gridcolor\":\"white\",\"linecolor\":\"white\",\"ticks\":\"\"}},\"ternary\":{\"bgcolor\":\"#E5ECF6\",\"aaxis\":{\"gridcolor\":\"white\",\"linecolor\":\"white\",\"ticks\":\"\"},\"baxis\":{\"gridcolor\":\"white\",\"linecolor\":\"white\",\"ticks\":\"\"},\"caxis\":{\"gridcolor\":\"white\",\"linecolor\":\"white\",\"ticks\":\"\"}},\"coloraxis\":{\"colorbar\":{\"outlinewidth\":0,\"ticks\":\"\"}},\"colorscale\":{\"sequential\":[[0.0,\"#0d0887\"],[0.1111111111111111,\"#46039f\"],[0.2222222222222222,\"#7201a8\"],[0.3333333333333333,\"#9c179e\"],[0.4444444444444444,\"#bd3786\"],[0.5555555555555556,\"#d8576b\"],[0.6666666666666666,\"#ed7953\"],[0.7777777777777778,\"#fb9f3a\"],[0.8888888888888888,\"#fdca26\"],[1.0,\"#f0f921\"]],\"sequentialminus\":[[0.0,\"#0d0887\"],[0.1111111111111111,\"#46039f\"],[0.2222222222222222,\"#7201a8\"],[0.3333333333333333,\"#9c179e\"],[0.4444444444444444,\"#bd3786\"],[0.5555555555555556,\"#d8576b\"],[0.6666666666666666,\"#ed7953\"],[0.7777777777777778,\"#fb9f3a\"],[0.8888888888888888,\"#fdca26\"],[1.0,\"#f0f921\"]],\"diverging\":[[0,\"#8e0152\"],[0.1,\"#c51b7d\"],[0.2,\"#de77ae\"],[0.3,\"#f1b6da\"],[0.4,\"#fde0ef\"],[0.5,\"#f7f7f7\"],[0.6,\"#e6f5d0\"],[0.7,\"#b8e186\"],[0.8,\"#7fbc41\"],[0.9,\"#4d9221\"],[1,\"#276419\"]]},\"xaxis\":{\"gridcolor\":\"white\",\"linecolor\":\"white\",\"ticks\":\"\",\"title\":{\"standoff\":15},\"zerolinecolor\":\"white\",\"automargin\":true,\"zerolinewidth\":2},\"yaxis\":{\"gridcolor\":\"white\",\"linecolor\":\"white\",\"ticks\":\"\",\"title\":{\"standoff\":15},\"zerolinecolor\":\"white\",\"automargin\":true,\"zerolinewidth\":2},\"scene\":{\"xaxis\":{\"backgroundcolor\":\"#E5ECF6\",\"gridcolor\":\"white\",\"linecolor\":\"white\",\"showbackground\":true,\"ticks\":\"\",\"zerolinecolor\":\"white\",\"gridwidth\":2},\"yaxis\":{\"backgroundcolor\":\"#E5ECF6\",\"gridcolor\":\"white\",\"linecolor\":\"white\",\"showbackground\":true,\"ticks\":\"\",\"zerolinecolor\":\"white\",\"gridwidth\":2},\"zaxis\":{\"backgroundcolor\":\"#E5ECF6\",\"gridcolor\":\"white\",\"linecolor\":\"white\",\"showbackground\":true,\"ticks\":\"\",\"zerolinecolor\":\"white\",\"gridwidth\":2}},\"shapedefaults\":{\"line\":{\"color\":\"#2a3f5f\"}},\"annotationdefaults\":{\"arrowcolor\":\"#2a3f5f\",\"arrowhead\":0,\"arrowwidth\":1},\"geo\":{\"bgcolor\":\"white\",\"landcolor\":\"#E5ECF6\",\"subunitcolor\":\"white\",\"showland\":true,\"showlakes\":true,\"lakecolor\":\"white\"},\"title\":{\"x\":0.05},\"mapbox\":{\"style\":\"light\"}}},\"legend\":{\"tracegroupgap\":0,\"title\":{\"text\":\"Vendas por Servi\\u00e7o\"},\"orientation\":\"h\",\"yanchor\":\"bottom\",\"y\":1.02,\"xanchor\":\"right\",\"x\":1},\"margin\":{\"t\":60}},                        {\"responsive\": true}                    ).then(function(){\n",
       "                            \n",
       "var gd = document.getElementById('a22c635f-3ee9-42d1-9895-9ea23a7a7b09');\n",
       "var x = new MutationObserver(function (mutations, observer) {{\n",
       "        var display = window.getComputedStyle(gd).display;\n",
       "        if (!display || display === 'none') {{\n",
       "            console.log([gd, 'removed!']);\n",
       "            Plotly.purge(gd);\n",
       "            observer.disconnect();\n",
       "        }}\n",
       "}});\n",
       "\n",
       "// Listen for the removal of the full notebook cells\n",
       "var notebookContainer = gd.closest('#notebook-container');\n",
       "if (notebookContainer) {{\n",
       "    x.observe(notebookContainer, {childList: true});\n",
       "}}\n",
       "\n",
       "// Listen for the clearing of the current output cell\n",
       "var outputEl = gd.closest('.output');\n",
       "if (outputEl) {{\n",
       "    x.observe(outputEl, {childList: true});\n",
       "}}\n",
       "\n",
       "                        })                };                });            </script>        </div>"
      ]
     },
     "metadata": {},
     "output_type": "display_data"
    }
   ],
   "source": [
    "vendas_por_servico = df_analytics.groupby('Servico')['Num_Vendas'].sum()\n",
    "\n",
    "px.pie(vendas_por_servico, names = vendas_por_servico.index, values = vendas_por_servico.values).update_layout(legend=dict(title='Vendas por Serviço', orientation=\"h\", yanchor=\"bottom\", y=1.02, xanchor=\"right\", x=1))"
   ]
  },
  {
   "cell_type": "markdown",
   "id": "42cb151e",
   "metadata": {},
   "source": [
    "#### Como dito ateriormente, prestação de serviço rápido passa ao cliente uma visão de atenção, ele se sente especial. E os dados não dizem o contrario. Observe a empresa prestadora de serviço \"Serede\" no gráfico pizza perceba como ela se destaca no número de vendas, sendo responsavel por quase 40% das vendas. Agora olhe o gráfico anterior de media de duração de instalação por serviço, justamente a empresa que se destaca é a SEREDE, com a menor média de tempo para prestar serviço"
   ]
  },
  {
   "cell_type": "code",
   "execution_count": 76,
   "id": "d4657078",
   "metadata": {},
   "outputs": [
    {
     "data": {
      "application/vnd.plotly.v1+json": {
       "config": {
        "plotlyServerURL": "https://plot.ly"
       },
       "data": [
        {
         "alignmentgroup": "True",
         "hovertemplate": "Servico=TELEMONT<br>Estado=%{x}<br>Num_Vendas=%{y}<extra></extra>",
         "legendgroup": "TELEMONT",
         "marker": {
          "color": "#636efa",
          "pattern": {
           "shape": ""
          }
         },
         "name": "TELEMONT",
         "offsetgroup": "TELEMONT",
         "orientation": "v",
         "showlegend": true,
         "textposition": "auto",
         "type": "bar",
         "x": [
          "AC",
          "DF",
          "ES",
          "GO",
          "MG",
          "MS",
          "MT",
          "RO",
          "TO"
         ],
         "xaxis": "x",
         "y": [
          405,
          1374,
          1180,
          2631,
          3157,
          805,
          800,
          605,
          349
         ],
         "yaxis": "y"
        },
        {
         "alignmentgroup": "True",
         "hovertemplate": "Servico=TELEMONT ENGENHARIA DE TELECOMUNICACOES SA<br>Estado=%{x}<br>Num_Vendas=%{y}<extra></extra>",
         "legendgroup": "TELEMONT ENGENHARIA DE TELECOMUNICACOES SA",
         "marker": {
          "color": "#EF553B",
          "pattern": {
           "shape": ""
          }
         },
         "name": "TELEMONT ENGENHARIA DE TELECOMUNICACOES SA",
         "offsetgroup": "TELEMONT ENGENHARIA DE TELECOMUNICACOES SA",
         "orientation": "v",
         "showlegend": true,
         "textposition": "auto",
         "type": "bar",
         "x": [
          "AC",
          "DF",
          "ES",
          "GO",
          "MG",
          "MS",
          "MT",
          "RO",
          "RS",
          "SC",
          "SP",
          "TO"
         ],
         "xaxis": "x",
         "y": [
          18,
          99,
          139,
          80,
          377,
          140,
          46,
          43,
          226,
          1,
          11,
          6
         ],
         "yaxis": "y"
        },
        {
         "alignmentgroup": "True",
         "hovertemplate": "Servico=CONECTA<br>Estado=%{x}<br>Num_Vendas=%{y}<extra></extra>",
         "legendgroup": "CONECTA",
         "marker": {
          "color": "#00cc96",
          "pattern": {
           "shape": ""
          }
         },
         "name": "CONECTA",
         "offsetgroup": "CONECTA",
         "orientation": "v",
         "showlegend": true,
         "textposition": "auto",
         "type": "bar",
         "x": [
          "AL",
          "AM",
          "AP",
          "BA",
          "CE",
          "MA",
          "PA",
          "PB",
          "PE",
          "PI",
          "RN",
          "RR",
          "SE"
         ],
         "xaxis": "x",
         "y": [
          102,
          1676,
          283,
          2056,
          970,
          1033,
          1503,
          168,
          409,
          411,
          261,
          298,
          259
         ],
         "yaxis": "y"
        },
        {
         "alignmentgroup": "True",
         "hovertemplate": "Servico=SEREDE SERVICOS DE REDE S.A.<br>Estado=%{x}<br>Num_Vendas=%{y}<extra></extra>",
         "legendgroup": "SEREDE SERVICOS DE REDE S.A.",
         "marker": {
          "color": "#ab63fa",
          "pattern": {
           "shape": ""
          }
         },
         "name": "SEREDE SERVICOS DE REDE S.A.",
         "offsetgroup": "SEREDE SERVICOS DE REDE S.A.",
         "orientation": "v",
         "showlegend": true,
         "textposition": "auto",
         "type": "bar",
         "x": [
          "AL",
          "AM",
          "AP",
          "BA",
          "CE",
          "MA",
          "PA",
          "PB",
          "PE",
          "PI",
          "PR",
          "RJ",
          "RN",
          "RR",
          "RS",
          "SC",
          "SE"
         ],
         "xaxis": "x",
         "y": [
          7,
          64,
          21,
          105,
          64,
          114,
          277,
          5,
          38,
          9,
          388,
          501,
          12,
          29,
          296,
          183,
          9
         ],
         "yaxis": "y"
        },
        {
         "alignmentgroup": "True",
         "hovertemplate": "Servico=SEREDE<br>Estado=%{x}<br>Num_Vendas=%{y}<extra></extra>",
         "legendgroup": "SEREDE",
         "marker": {
          "color": "#FFA15A",
          "pattern": {
           "shape": ""
          }
         },
         "name": "SEREDE",
         "offsetgroup": "SEREDE",
         "orientation": "v",
         "showlegend": true,
         "textposition": "auto",
         "type": "bar",
         "x": [
          "AM",
          "PR",
          "RJ",
          "RR",
          "RS",
          "SC",
          "SP"
         ],
         "xaxis": "x",
         "y": [
          3,
          4195,
          4787,
          2,
          4117,
          1169,
          227
         ],
         "yaxis": "y"
        },
        {
         "alignmentgroup": "True",
         "hovertemplate": "Servico=ACCENTURE DO BRASIL LTDA<br>Estado=%{x}<br>Num_Vendas=%{y}<extra></extra>",
         "legendgroup": "ACCENTURE DO BRASIL LTDA",
         "marker": {
          "color": "#19d3f3",
          "pattern": {
           "shape": ""
          }
         },
         "name": "ACCENTURE DO BRASIL LTDA",
         "offsetgroup": "ACCENTURE DO BRASIL LTDA",
         "orientation": "v",
         "showlegend": true,
         "textposition": "auto",
         "type": "bar",
         "x": [
          "CE"
         ],
         "xaxis": "x",
         "y": [
          1
         ],
         "yaxis": "y"
        },
        {
         "alignmentgroup": "True",
         "hovertemplate": "Servico=ICOMON TECNOLOGIA LTDA<br>Estado=%{x}<br>Num_Vendas=%{y}<extra></extra>",
         "legendgroup": "ICOMON TECNOLOGIA LTDA",
         "marker": {
          "color": "#FF6692",
          "pattern": {
           "shape": ""
          }
         },
         "name": "ICOMON TECNOLOGIA LTDA",
         "offsetgroup": "ICOMON TECNOLOGIA LTDA",
         "orientation": "v",
         "showlegend": true,
         "textposition": "auto",
         "type": "bar",
         "x": [
          "PA",
          "PR",
          "SC"
         ],
         "xaxis": "x",
         "y": [
          44,
          181,
          6
         ],
         "yaxis": "y"
        },
        {
         "alignmentgroup": "True",
         "hovertemplate": "Servico=SEREDE PR<br>Estado=%{x}<br>Num_Vendas=%{y}<extra></extra>",
         "legendgroup": "SEREDE PR",
         "marker": {
          "color": "#B6E880",
          "pattern": {
           "shape": ""
          }
         },
         "name": "SEREDE PR",
         "offsetgroup": "SEREDE PR",
         "orientation": "v",
         "showlegend": true,
         "textposition": "auto",
         "type": "bar",
         "x": [
          "PR",
          "SC"
         ],
         "xaxis": "x",
         "y": [
          52,
          1
         ],
         "yaxis": "y"
        },
        {
         "alignmentgroup": "True",
         "hovertemplate": "Servico=ABILITY TECNOLOGIA E SERVICOS<br>Estado=%{x}<br>Num_Vendas=%{y}<extra></extra>",
         "legendgroup": "ABILITY TECNOLOGIA E SERVICOS",
         "marker": {
          "color": "#FF97FF",
          "pattern": {
           "shape": ""
          }
         },
         "name": "ABILITY TECNOLOGIA E SERVICOS",
         "offsetgroup": "ABILITY TECNOLOGIA E SERVICOS",
         "orientation": "v",
         "showlegend": true,
         "textposition": "auto",
         "type": "bar",
         "x": [
          "RJ",
          "SP"
         ],
         "xaxis": "x",
         "y": [
          3,
          1
         ],
         "yaxis": "y"
        },
        {
         "alignmentgroup": "True",
         "hovertemplate": "Servico=TEL TELECOMUNICACOES LTDA<br>Estado=%{x}<br>Num_Vendas=%{y}<extra></extra>",
         "legendgroup": "TEL TELECOMUNICACOES LTDA",
         "marker": {
          "color": "#FECB52",
          "pattern": {
           "shape": ""
          }
         },
         "name": "TEL TELECOMUNICACOES LTDA",
         "offsetgroup": "TEL TELECOMUNICACOES LTDA",
         "orientation": "v",
         "showlegend": true,
         "textposition": "auto",
         "type": "bar",
         "x": [
          "RJ"
         ],
         "xaxis": "x",
         "y": [
          54
         ],
         "yaxis": "y"
        },
        {
         "alignmentgroup": "True",
         "hovertemplate": "Servico=SEREDE SC<br>Estado=%{x}<br>Num_Vendas=%{y}<extra></extra>",
         "legendgroup": "SEREDE SC",
         "marker": {
          "color": "#636efa",
          "pattern": {
           "shape": ""
          }
         },
         "name": "SEREDE SC",
         "offsetgroup": "SEREDE SC",
         "orientation": "v",
         "showlegend": true,
         "textposition": "auto",
         "type": "bar",
         "x": [
          "SC"
         ],
         "xaxis": "x",
         "y": [
          4
         ],
         "yaxis": "y"
        },
        {
         "alignmentgroup": "True",
         "hovertemplate": "Servico=ABILITY<br>Estado=%{x}<br>Num_Vendas=%{y}<extra></extra>",
         "legendgroup": "ABILITY",
         "marker": {
          "color": "#EF553B",
          "pattern": {
           "shape": ""
          }
         },
         "name": "ABILITY",
         "offsetgroup": "ABILITY",
         "orientation": "v",
         "showlegend": true,
         "textposition": "auto",
         "type": "bar",
         "x": [
          "SP"
         ],
         "xaxis": "x",
         "y": [
          2
         ],
         "yaxis": "y"
        }
       ],
       "layout": {
        "autosize": true,
        "barmode": "relative",
        "legend": {
         "title": {
          "text": "Servico"
         },
         "tracegroupgap": 0
        },
        "template": {
         "data": {
          "bar": [
           {
            "error_x": {
             "color": "#2a3f5f"
            },
            "error_y": {
             "color": "#2a3f5f"
            },
            "marker": {
             "line": {
              "color": "#E5ECF6",
              "width": 0.5
             },
             "pattern": {
              "fillmode": "overlay",
              "size": 10,
              "solidity": 0.2
             }
            },
            "type": "bar"
           }
          ],
          "barpolar": [
           {
            "marker": {
             "line": {
              "color": "#E5ECF6",
              "width": 0.5
             },
             "pattern": {
              "fillmode": "overlay",
              "size": 10,
              "solidity": 0.2
             }
            },
            "type": "barpolar"
           }
          ],
          "carpet": [
           {
            "aaxis": {
             "endlinecolor": "#2a3f5f",
             "gridcolor": "white",
             "linecolor": "white",
             "minorgridcolor": "white",
             "startlinecolor": "#2a3f5f"
            },
            "baxis": {
             "endlinecolor": "#2a3f5f",
             "gridcolor": "white",
             "linecolor": "white",
             "minorgridcolor": "white",
             "startlinecolor": "#2a3f5f"
            },
            "type": "carpet"
           }
          ],
          "choropleth": [
           {
            "colorbar": {
             "outlinewidth": 0,
             "ticks": ""
            },
            "type": "choropleth"
           }
          ],
          "contour": [
           {
            "colorbar": {
             "outlinewidth": 0,
             "ticks": ""
            },
            "colorscale": [
             [
              0,
              "#0d0887"
             ],
             [
              0.1111111111111111,
              "#46039f"
             ],
             [
              0.2222222222222222,
              "#7201a8"
             ],
             [
              0.3333333333333333,
              "#9c179e"
             ],
             [
              0.4444444444444444,
              "#bd3786"
             ],
             [
              0.5555555555555556,
              "#d8576b"
             ],
             [
              0.6666666666666666,
              "#ed7953"
             ],
             [
              0.7777777777777778,
              "#fb9f3a"
             ],
             [
              0.8888888888888888,
              "#fdca26"
             ],
             [
              1,
              "#f0f921"
             ]
            ],
            "type": "contour"
           }
          ],
          "contourcarpet": [
           {
            "colorbar": {
             "outlinewidth": 0,
             "ticks": ""
            },
            "type": "contourcarpet"
           }
          ],
          "heatmap": [
           {
            "colorbar": {
             "outlinewidth": 0,
             "ticks": ""
            },
            "colorscale": [
             [
              0,
              "#0d0887"
             ],
             [
              0.1111111111111111,
              "#46039f"
             ],
             [
              0.2222222222222222,
              "#7201a8"
             ],
             [
              0.3333333333333333,
              "#9c179e"
             ],
             [
              0.4444444444444444,
              "#bd3786"
             ],
             [
              0.5555555555555556,
              "#d8576b"
             ],
             [
              0.6666666666666666,
              "#ed7953"
             ],
             [
              0.7777777777777778,
              "#fb9f3a"
             ],
             [
              0.8888888888888888,
              "#fdca26"
             ],
             [
              1,
              "#f0f921"
             ]
            ],
            "type": "heatmap"
           }
          ],
          "heatmapgl": [
           {
            "colorbar": {
             "outlinewidth": 0,
             "ticks": ""
            },
            "colorscale": [
             [
              0,
              "#0d0887"
             ],
             [
              0.1111111111111111,
              "#46039f"
             ],
             [
              0.2222222222222222,
              "#7201a8"
             ],
             [
              0.3333333333333333,
              "#9c179e"
             ],
             [
              0.4444444444444444,
              "#bd3786"
             ],
             [
              0.5555555555555556,
              "#d8576b"
             ],
             [
              0.6666666666666666,
              "#ed7953"
             ],
             [
              0.7777777777777778,
              "#fb9f3a"
             ],
             [
              0.8888888888888888,
              "#fdca26"
             ],
             [
              1,
              "#f0f921"
             ]
            ],
            "type": "heatmapgl"
           }
          ],
          "histogram": [
           {
            "marker": {
             "pattern": {
              "fillmode": "overlay",
              "size": 10,
              "solidity": 0.2
             }
            },
            "type": "histogram"
           }
          ],
          "histogram2d": [
           {
            "colorbar": {
             "outlinewidth": 0,
             "ticks": ""
            },
            "colorscale": [
             [
              0,
              "#0d0887"
             ],
             [
              0.1111111111111111,
              "#46039f"
             ],
             [
              0.2222222222222222,
              "#7201a8"
             ],
             [
              0.3333333333333333,
              "#9c179e"
             ],
             [
              0.4444444444444444,
              "#bd3786"
             ],
             [
              0.5555555555555556,
              "#d8576b"
             ],
             [
              0.6666666666666666,
              "#ed7953"
             ],
             [
              0.7777777777777778,
              "#fb9f3a"
             ],
             [
              0.8888888888888888,
              "#fdca26"
             ],
             [
              1,
              "#f0f921"
             ]
            ],
            "type": "histogram2d"
           }
          ],
          "histogram2dcontour": [
           {
            "colorbar": {
             "outlinewidth": 0,
             "ticks": ""
            },
            "colorscale": [
             [
              0,
              "#0d0887"
             ],
             [
              0.1111111111111111,
              "#46039f"
             ],
             [
              0.2222222222222222,
              "#7201a8"
             ],
             [
              0.3333333333333333,
              "#9c179e"
             ],
             [
              0.4444444444444444,
              "#bd3786"
             ],
             [
              0.5555555555555556,
              "#d8576b"
             ],
             [
              0.6666666666666666,
              "#ed7953"
             ],
             [
              0.7777777777777778,
              "#fb9f3a"
             ],
             [
              0.8888888888888888,
              "#fdca26"
             ],
             [
              1,
              "#f0f921"
             ]
            ],
            "type": "histogram2dcontour"
           }
          ],
          "mesh3d": [
           {
            "colorbar": {
             "outlinewidth": 0,
             "ticks": ""
            },
            "type": "mesh3d"
           }
          ],
          "parcoords": [
           {
            "line": {
             "colorbar": {
              "outlinewidth": 0,
              "ticks": ""
             }
            },
            "type": "parcoords"
           }
          ],
          "pie": [
           {
            "automargin": true,
            "type": "pie"
           }
          ],
          "scatter": [
           {
            "fillpattern": {
             "fillmode": "overlay",
             "size": 10,
             "solidity": 0.2
            },
            "type": "scatter"
           }
          ],
          "scatter3d": [
           {
            "line": {
             "colorbar": {
              "outlinewidth": 0,
              "ticks": ""
             }
            },
            "marker": {
             "colorbar": {
              "outlinewidth": 0,
              "ticks": ""
             }
            },
            "type": "scatter3d"
           }
          ],
          "scattercarpet": [
           {
            "marker": {
             "colorbar": {
              "outlinewidth": 0,
              "ticks": ""
             }
            },
            "type": "scattercarpet"
           }
          ],
          "scattergeo": [
           {
            "marker": {
             "colorbar": {
              "outlinewidth": 0,
              "ticks": ""
             }
            },
            "type": "scattergeo"
           }
          ],
          "scattergl": [
           {
            "marker": {
             "colorbar": {
              "outlinewidth": 0,
              "ticks": ""
             }
            },
            "type": "scattergl"
           }
          ],
          "scattermapbox": [
           {
            "marker": {
             "colorbar": {
              "outlinewidth": 0,
              "ticks": ""
             }
            },
            "type": "scattermapbox"
           }
          ],
          "scatterpolar": [
           {
            "marker": {
             "colorbar": {
              "outlinewidth": 0,
              "ticks": ""
             }
            },
            "type": "scatterpolar"
           }
          ],
          "scatterpolargl": [
           {
            "marker": {
             "colorbar": {
              "outlinewidth": 0,
              "ticks": ""
             }
            },
            "type": "scatterpolargl"
           }
          ],
          "scatterternary": [
           {
            "marker": {
             "colorbar": {
              "outlinewidth": 0,
              "ticks": ""
             }
            },
            "type": "scatterternary"
           }
          ],
          "surface": [
           {
            "colorbar": {
             "outlinewidth": 0,
             "ticks": ""
            },
            "colorscale": [
             [
              0,
              "#0d0887"
             ],
             [
              0.1111111111111111,
              "#46039f"
             ],
             [
              0.2222222222222222,
              "#7201a8"
             ],
             [
              0.3333333333333333,
              "#9c179e"
             ],
             [
              0.4444444444444444,
              "#bd3786"
             ],
             [
              0.5555555555555556,
              "#d8576b"
             ],
             [
              0.6666666666666666,
              "#ed7953"
             ],
             [
              0.7777777777777778,
              "#fb9f3a"
             ],
             [
              0.8888888888888888,
              "#fdca26"
             ],
             [
              1,
              "#f0f921"
             ]
            ],
            "type": "surface"
           }
          ],
          "table": [
           {
            "cells": {
             "fill": {
              "color": "#EBF0F8"
             },
             "line": {
              "color": "white"
             }
            },
            "header": {
             "fill": {
              "color": "#C8D4E3"
             },
             "line": {
              "color": "white"
             }
            },
            "type": "table"
           }
          ]
         },
         "layout": {
          "annotationdefaults": {
           "arrowcolor": "#2a3f5f",
           "arrowhead": 0,
           "arrowwidth": 1
          },
          "autotypenumbers": "strict",
          "coloraxis": {
           "colorbar": {
            "outlinewidth": 0,
            "ticks": ""
           }
          },
          "colorscale": {
           "diverging": [
            [
             0,
             "#8e0152"
            ],
            [
             0.1,
             "#c51b7d"
            ],
            [
             0.2,
             "#de77ae"
            ],
            [
             0.3,
             "#f1b6da"
            ],
            [
             0.4,
             "#fde0ef"
            ],
            [
             0.5,
             "#f7f7f7"
            ],
            [
             0.6,
             "#e6f5d0"
            ],
            [
             0.7,
             "#b8e186"
            ],
            [
             0.8,
             "#7fbc41"
            ],
            [
             0.9,
             "#4d9221"
            ],
            [
             1,
             "#276419"
            ]
           ],
           "sequential": [
            [
             0,
             "#0d0887"
            ],
            [
             0.1111111111111111,
             "#46039f"
            ],
            [
             0.2222222222222222,
             "#7201a8"
            ],
            [
             0.3333333333333333,
             "#9c179e"
            ],
            [
             0.4444444444444444,
             "#bd3786"
            ],
            [
             0.5555555555555556,
             "#d8576b"
            ],
            [
             0.6666666666666666,
             "#ed7953"
            ],
            [
             0.7777777777777778,
             "#fb9f3a"
            ],
            [
             0.8888888888888888,
             "#fdca26"
            ],
            [
             1,
             "#f0f921"
            ]
           ],
           "sequentialminus": [
            [
             0,
             "#0d0887"
            ],
            [
             0.1111111111111111,
             "#46039f"
            ],
            [
             0.2222222222222222,
             "#7201a8"
            ],
            [
             0.3333333333333333,
             "#9c179e"
            ],
            [
             0.4444444444444444,
             "#bd3786"
            ],
            [
             0.5555555555555556,
             "#d8576b"
            ],
            [
             0.6666666666666666,
             "#ed7953"
            ],
            [
             0.7777777777777778,
             "#fb9f3a"
            ],
            [
             0.8888888888888888,
             "#fdca26"
            ],
            [
             1,
             "#f0f921"
            ]
           ]
          },
          "colorway": [
           "#636efa",
           "#EF553B",
           "#00cc96",
           "#ab63fa",
           "#FFA15A",
           "#19d3f3",
           "#FF6692",
           "#B6E880",
           "#FF97FF",
           "#FECB52"
          ],
          "font": {
           "color": "#2a3f5f"
          },
          "geo": {
           "bgcolor": "white",
           "lakecolor": "white",
           "landcolor": "#E5ECF6",
           "showlakes": true,
           "showland": true,
           "subunitcolor": "white"
          },
          "hoverlabel": {
           "align": "left"
          },
          "hovermode": "closest",
          "mapbox": {
           "style": "light"
          },
          "paper_bgcolor": "white",
          "plot_bgcolor": "#E5ECF6",
          "polar": {
           "angularaxis": {
            "gridcolor": "white",
            "linecolor": "white",
            "ticks": ""
           },
           "bgcolor": "#E5ECF6",
           "radialaxis": {
            "gridcolor": "white",
            "linecolor": "white",
            "ticks": ""
           }
          },
          "scene": {
           "xaxis": {
            "backgroundcolor": "#E5ECF6",
            "gridcolor": "white",
            "gridwidth": 2,
            "linecolor": "white",
            "showbackground": true,
            "ticks": "",
            "zerolinecolor": "white"
           },
           "yaxis": {
            "backgroundcolor": "#E5ECF6",
            "gridcolor": "white",
            "gridwidth": 2,
            "linecolor": "white",
            "showbackground": true,
            "ticks": "",
            "zerolinecolor": "white"
           },
           "zaxis": {
            "backgroundcolor": "#E5ECF6",
            "gridcolor": "white",
            "gridwidth": 2,
            "linecolor": "white",
            "showbackground": true,
            "ticks": "",
            "zerolinecolor": "white"
           }
          },
          "shapedefaults": {
           "line": {
            "color": "#2a3f5f"
           }
          },
          "ternary": {
           "aaxis": {
            "gridcolor": "white",
            "linecolor": "white",
            "ticks": ""
           },
           "baxis": {
            "gridcolor": "white",
            "linecolor": "white",
            "ticks": ""
           },
           "bgcolor": "#E5ECF6",
           "caxis": {
            "gridcolor": "white",
            "linecolor": "white",
            "ticks": ""
           }
          },
          "title": {
           "x": 0.05
          },
          "xaxis": {
           "automargin": true,
           "gridcolor": "white",
           "linecolor": "white",
           "ticks": "",
           "title": {
            "standoff": 15
           },
           "zerolinecolor": "white",
           "zerolinewidth": 2
          },
          "yaxis": {
           "automargin": true,
           "gridcolor": "white",
           "linecolor": "white",
           "ticks": "",
           "title": {
            "standoff": 15
           },
           "zerolinecolor": "white",
           "zerolinewidth": 2
          }
         }
        },
        "title": {
         "text": "Vendas dos serviços por estados"
        },
        "xaxis": {
         "anchor": "y",
         "autorange": true,
         "domain": [
          0,
          1
         ],
         "range": [
          -0.5,
          26.5
         ],
         "title": {
          "text": "Estado"
         },
         "type": "category"
        },
        "yaxis": {
         "anchor": "x",
         "autorange": true,
         "domain": [
          0,
          1
         ],
         "range": [
          0,
          5626.315789473684
         ],
         "title": {
          "text": "Num_Vendas"
         },
         "type": "linear"
        }
       }
      },
      "image/png": "[encoded data removed]",
      "text/html": [
       "<div>                            <div id=\"db71e0bd-1c7e-475a-b7c6-9161508f90f7\" class=\"plotly-graph-div\" style=\"height:525px; width:100%;\"></div>            <script type=\"text/javascript\">                require([\"plotly\"], function(Plotly) {                    window.PLOTLYENV=window.PLOTLYENV || {};                                    if (document.getElementById(\"db71e0bd-1c7e-475a-b7c6-9161508f90f7\")) {                    Plotly.newPlot(                        \"db71e0bd-1c7e-475a-b7c6-9161508f90f7\",                        [{\"alignmentgroup\":\"True\",\"hovertemplate\":\"Servico=TELEMONT\\u003cbr\\u003eEstado=%{x}\\u003cbr\\u003eNum_Vendas=%{y}\\u003cextra\\u003e\\u003c\\u002fextra\\u003e\",\"legendgroup\":\"TELEMONT\",\"marker\":{\"color\":\"#636efa\",\"pattern\":{\"shape\":\"\"}},\"name\":\"TELEMONT\",\"offsetgroup\":\"TELEMONT\",\"orientation\":\"v\",\"showlegend\":true,\"textposition\":\"auto\",\"x\":[\"AC\",\"DF\",\"ES\",\"GO\",\"MG\",\"MS\",\"MT\",\"RO\",\"TO\"],\"xaxis\":\"x\",\"y\":[405,1374,1180,2631,3157,805,800,605,349],\"yaxis\":\"y\",\"type\":\"bar\"},{\"alignmentgroup\":\"True\",\"hovertemplate\":\"Servico=TELEMONT ENGENHARIA DE TELECOMUNICACOES SA\\u003cbr\\u003eEstado=%{x}\\u003cbr\\u003eNum_Vendas=%{y}\\u003cextra\\u003e\\u003c\\u002fextra\\u003e\",\"legendgroup\":\"TELEMONT ENGENHARIA DE TELECOMUNICACOES SA\",\"marker\":{\"color\":\"#EF553B\",\"pattern\":{\"shape\":\"\"}},\"name\":\"TELEMONT ENGENHARIA DE TELECOMUNICACOES SA\",\"offsetgroup\":\"TELEMONT ENGENHARIA DE TELECOMUNICACOES SA\",\"orientation\":\"v\",\"showlegend\":true,\"textposition\":\"auto\",\"x\":[\"AC\",\"DF\",\"ES\",\"GO\",\"MG\",\"MS\",\"MT\",\"RO\",\"RS\",\"SC\",\"SP\",\"TO\"],\"xaxis\":\"x\",\"y\":[18,99,139,80,377,140,46,43,226,1,11,6],\"yaxis\":\"y\",\"type\":\"bar\"},{\"alignmentgroup\":\"True\",\"hovertemplate\":\"Servico=CONECTA\\u003cbr\\u003eEstado=%{x}\\u003cbr\\u003eNum_Vendas=%{y}\\u003cextra\\u003e\\u003c\\u002fextra\\u003e\",\"legendgroup\":\"CONECTA\",\"marker\":{\"color\":\"#00cc96\",\"pattern\":{\"shape\":\"\"}},\"name\":\"CONECTA\",\"offsetgroup\":\"CONECTA\",\"orientation\":\"v\",\"showlegend\":true,\"textposition\":\"auto\",\"x\":[\"AL\",\"AM\",\"AP\",\"BA\",\"CE\",\"MA\",\"PA\",\"PB\",\"PE\",\"PI\",\"RN\",\"RR\",\"SE\"],\"xaxis\":\"x\",\"y\":[102,1676,283,2056,970,1033,1503,168,409,411,261,298,259],\"yaxis\":\"y\",\"type\":\"bar\"},{\"alignmentgroup\":\"True\",\"hovertemplate\":\"Servico=SEREDE SERVICOS DE REDE S.A.\\u003cbr\\u003eEstado=%{x}\\u003cbr\\u003eNum_Vendas=%{y}\\u003cextra\\u003e\\u003c\\u002fextra\\u003e\",\"legendgroup\":\"SEREDE SERVICOS DE REDE S.A.\",\"marker\":{\"color\":\"#ab63fa\",\"pattern\":{\"shape\":\"\"}},\"name\":\"SEREDE SERVICOS DE REDE S.A.\",\"offsetgroup\":\"SEREDE SERVICOS DE REDE S.A.\",\"orientation\":\"v\",\"showlegend\":true,\"textposition\":\"auto\",\"x\":[\"AL\",\"AM\",\"AP\",\"BA\",\"CE\",\"MA\",\"PA\",\"PB\",\"PE\",\"PI\",\"PR\",\"RJ\",\"RN\",\"RR\",\"RS\",\"SC\",\"SE\"],\"xaxis\":\"x\",\"y\":[7,64,21,105,64,114,277,5,38,9,388,501,12,29,296,183,9],\"yaxis\":\"y\",\"type\":\"bar\"},{\"alignmentgroup\":\"True\",\"hovertemplate\":\"Servico=SEREDE\\u003cbr\\u003eEstado=%{x}\\u003cbr\\u003eNum_Vendas=%{y}\\u003cextra\\u003e\\u003c\\u002fextra\\u003e\",\"legendgroup\":\"SEREDE\",\"marker\":{\"color\":\"#FFA15A\",\"pattern\":{\"shape\":\"\"}},\"name\":\"SEREDE\",\"offsetgroup\":\"SEREDE\",\"orientation\":\"v\",\"showlegend\":true,\"textposition\":\"auto\",\"x\":[\"AM\",\"PR\",\"RJ\",\"RR\",\"RS\",\"SC\",\"SP\"],\"xaxis\":\"x\",\"y\":[3,4195,4787,2,4117,1169,227],\"yaxis\":\"y\",\"type\":\"bar\"},{\"alignmentgroup\":\"True\",\"hovertemplate\":\"Servico=ACCENTURE DO BRASIL LTDA\\u003cbr\\u003eEstado=%{x}\\u003cbr\\u003eNum_Vendas=%{y}\\u003cextra\\u003e\\u003c\\u002fextra\\u003e\",\"legendgroup\":\"ACCENTURE DO BRASIL LTDA\",\"marker\":{\"color\":\"#19d3f3\",\"pattern\":{\"shape\":\"\"}},\"name\":\"ACCENTURE DO BRASIL LTDA\",\"offsetgroup\":\"ACCENTURE DO BRASIL LTDA\",\"orientation\":\"v\",\"showlegend\":true,\"textposition\":\"auto\",\"x\":[\"CE\"],\"xaxis\":\"x\",\"y\":[1],\"yaxis\":\"y\",\"type\":\"bar\"},{\"alignmentgroup\":\"True\",\"hovertemplate\":\"Servico=ICOMON TECNOLOGIA LTDA\\u003cbr\\u003eEstado=%{x}\\u003cbr\\u003eNum_Vendas=%{y}\\u003cextra\\u003e\\u003c\\u002fextra\\u003e\",\"legendgroup\":\"ICOMON TECNOLOGIA LTDA\",\"marker\":{\"color\":\"#FF6692\",\"pattern\":{\"shape\":\"\"}},\"name\":\"ICOMON TECNOLOGIA LTDA\",\"offsetgroup\":\"ICOMON TECNOLOGIA LTDA\",\"orientation\":\"v\",\"showlegend\":true,\"textposition\":\"auto\",\"x\":[\"PA\",\"PR\",\"SC\"],\"xaxis\":\"x\",\"y\":[44,181,6],\"yaxis\":\"y\",\"type\":\"bar\"},{\"alignmentgroup\":\"True\",\"hovertemplate\":\"Servico=SEREDE PR\\u003cbr\\u003eEstado=%{x}\\u003cbr\\u003eNum_Vendas=%{y}\\u003cextra\\u003e\\u003c\\u002fextra\\u003e\",\"legendgroup\":\"SEREDE PR\",\"marker\":{\"color\":\"#B6E880\",\"pattern\":{\"shape\":\"\"}},\"name\":\"SEREDE PR\",\"offsetgroup\":\"SEREDE PR\",\"orientation\":\"v\",\"showlegend\":true,\"textposition\":\"auto\",\"x\":[\"PR\",\"SC\"],\"xaxis\":\"x\",\"y\":[52,1],\"yaxis\":\"y\",\"type\":\"bar\"},{\"alignmentgroup\":\"True\",\"hovertemplate\":\"Servico=ABILITY TECNOLOGIA E SERVICOS\\u003cbr\\u003eEstado=%{x}\\u003cbr\\u003eNum_Vendas=%{y}\\u003cextra\\u003e\\u003c\\u002fextra\\u003e\",\"legendgroup\":\"ABILITY TECNOLOGIA E SERVICOS\",\"marker\":{\"color\":\"#FF97FF\",\"pattern\":{\"shape\":\"\"}},\"name\":\"ABILITY TECNOLOGIA E SERVICOS\",\"offsetgroup\":\"ABILITY TECNOLOGIA E SERVICOS\",\"orientation\":\"v\",\"showlegend\":true,\"textposition\":\"auto\",\"x\":[\"RJ\",\"SP\"],\"xaxis\":\"x\",\"y\":[3,1],\"yaxis\":\"y\",\"type\":\"bar\"},{\"alignmentgroup\":\"True\",\"hovertemplate\":\"Servico=TEL TELECOMUNICACOES LTDA\\u003cbr\\u003eEstado=%{x}\\u003cbr\\u003eNum_Vendas=%{y}\\u003cextra\\u003e\\u003c\\u002fextra\\u003e\",\"legendgroup\":\"TEL TELECOMUNICACOES LTDA\",\"marker\":{\"color\":\"#FECB52\",\"pattern\":{\"shape\":\"\"}},\"name\":\"TEL TELECOMUNICACOES LTDA\",\"offsetgroup\":\"TEL TELECOMUNICACOES LTDA\",\"orientation\":\"v\",\"showlegend\":true,\"textposition\":\"auto\",\"x\":[\"RJ\"],\"xaxis\":\"x\",\"y\":[54],\"yaxis\":\"y\",\"type\":\"bar\"},{\"alignmentgroup\":\"True\",\"hovertemplate\":\"Servico=SEREDE SC\\u003cbr\\u003eEstado=%{x}\\u003cbr\\u003eNum_Vendas=%{y}\\u003cextra\\u003e\\u003c\\u002fextra\\u003e\",\"legendgroup\":\"SEREDE SC\",\"marker\":{\"color\":\"#636efa\",\"pattern\":{\"shape\":\"\"}},\"name\":\"SEREDE SC\",\"offsetgroup\":\"SEREDE SC\",\"orientation\":\"v\",\"showlegend\":true,\"textposition\":\"auto\",\"x\":[\"SC\"],\"xaxis\":\"x\",\"y\":[4],\"yaxis\":\"y\",\"type\":\"bar\"},{\"alignmentgroup\":\"True\",\"hovertemplate\":\"Servico=ABILITY\\u003cbr\\u003eEstado=%{x}\\u003cbr\\u003eNum_Vendas=%{y}\\u003cextra\\u003e\\u003c\\u002fextra\\u003e\",\"legendgroup\":\"ABILITY\",\"marker\":{\"color\":\"#EF553B\",\"pattern\":{\"shape\":\"\"}},\"name\":\"ABILITY\",\"offsetgroup\":\"ABILITY\",\"orientation\":\"v\",\"showlegend\":true,\"textposition\":\"auto\",\"x\":[\"SP\"],\"xaxis\":\"x\",\"y\":[2],\"yaxis\":\"y\",\"type\":\"bar\"}],                        {\"template\":{\"data\":{\"histogram2dcontour\":[{\"type\":\"histogram2dcontour\",\"colorbar\":{\"outlinewidth\":0,\"ticks\":\"\"},\"colorscale\":[[0.0,\"#0d0887\"],[0.1111111111111111,\"#46039f\"],[0.2222222222222222,\"#7201a8\"],[0.3333333333333333,\"#9c179e\"],[0.4444444444444444,\"#bd3786\"],[0.5555555555555556,\"#d8576b\"],[0.6666666666666666,\"#ed7953\"],[0.7777777777777778,\"#fb9f3a\"],[0.8888888888888888,\"#fdca26\"],[1.0,\"#f0f921\"]]}],\"choropleth\":[{\"type\":\"choropleth\",\"colorbar\":{\"outlinewidth\":0,\"ticks\":\"\"}}],\"histogram2d\":[{\"type\":\"histogram2d\",\"colorbar\":{\"outlinewidth\":0,\"ticks\":\"\"},\"colorscale\":[[0.0,\"#0d0887\"],[0.1111111111111111,\"#46039f\"],[0.2222222222222222,\"#7201a8\"],[0.3333333333333333,\"#9c179e\"],[0.4444444444444444,\"#bd3786\"],[0.5555555555555556,\"#d8576b\"],[0.6666666666666666,\"#ed7953\"],[0.7777777777777778,\"#fb9f3a\"],[0.8888888888888888,\"#fdca26\"],[1.0,\"#f0f921\"]]}],\"heatmap\":[{\"type\":\"heatmap\",\"colorbar\":{\"outlinewidth\":0,\"ticks\":\"\"},\"colorscale\":[[0.0,\"#0d0887\"],[0.1111111111111111,\"#46039f\"],[0.2222222222222222,\"#7201a8\"],[0.3333333333333333,\"#9c179e\"],[0.4444444444444444,\"#bd3786\"],[0.5555555555555556,\"#d8576b\"],[0.6666666666666666,\"#ed7953\"],[0.7777777777777778,\"#fb9f3a\"],[0.8888888888888888,\"#fdca26\"],[1.0,\"#f0f921\"]]}],\"heatmapgl\":[{\"type\":\"heatmapgl\",\"colorbar\":{\"outlinewidth\":0,\"ticks\":\"\"},\"colorscale\":[[0.0,\"#0d0887\"],[0.1111111111111111,\"#46039f\"],[0.2222222222222222,\"#7201a8\"],[0.3333333333333333,\"#9c179e\"],[0.4444444444444444,\"#bd3786\"],[0.5555555555555556,\"#d8576b\"],[0.6666666666666666,\"#ed7953\"],[0.7777777777777778,\"#fb9f3a\"],[0.8888888888888888,\"#fdca26\"],[1.0,\"#f0f921\"]]}],\"contourcarpet\":[{\"type\":\"contourcarpet\",\"colorbar\":{\"outlinewidth\":0,\"ticks\":\"\"}}],\"contour\":[{\"type\":\"contour\",\"colorbar\":{\"outlinewidth\":0,\"ticks\":\"\"},\"colorscale\":[[0.0,\"#0d0887\"],[0.1111111111111111,\"#46039f\"],[0.2222222222222222,\"#7201a8\"],[0.3333333333333333,\"#9c179e\"],[0.4444444444444444,\"#bd3786\"],[0.5555555555555556,\"#d8576b\"],[0.6666666666666666,\"#ed7953\"],[0.7777777777777778,\"#fb9f3a\"],[0.8888888888888888,\"#fdca26\"],[1.0,\"#f0f921\"]]}],\"surface\":[{\"type\":\"surface\",\"colorbar\":{\"outlinewidth\":0,\"ticks\":\"\"},\"colorscale\":[[0.0,\"#0d0887\"],[0.1111111111111111,\"#46039f\"],[0.2222222222222222,\"#7201a8\"],[0.3333333333333333,\"#9c179e\"],[0.4444444444444444,\"#bd3786\"],[0.5555555555555556,\"#d8576b\"],[0.6666666666666666,\"#ed7953\"],[0.7777777777777778,\"#fb9f3a\"],[0.8888888888888888,\"#fdca26\"],[1.0,\"#f0f921\"]]}],\"mesh3d\":[{\"type\":\"mesh3d\",\"colorbar\":{\"outlinewidth\":0,\"ticks\":\"\"}}],\"scatter\":[{\"fillpattern\":{\"fillmode\":\"overlay\",\"size\":10,\"solidity\":0.2},\"type\":\"scatter\"}],\"parcoords\":[{\"type\":\"parcoords\",\"line\":{\"colorbar\":{\"outlinewidth\":0,\"ticks\":\"\"}}}],\"scatterpolargl\":[{\"type\":\"scatterpolargl\",\"marker\":{\"colorbar\":{\"outlinewidth\":0,\"ticks\":\"\"}}}],\"bar\":[{\"error_x\":{\"color\":\"#2a3f5f\"},\"error_y\":{\"color\":\"#2a3f5f\"},\"marker\":{\"line\":{\"color\":\"#E5ECF6\",\"width\":0.5},\"pattern\":{\"fillmode\":\"overlay\",\"size\":10,\"solidity\":0.2}},\"type\":\"bar\"}],\"scattergeo\":[{\"type\":\"scattergeo\",\"marker\":{\"colorbar\":{\"outlinewidth\":0,\"ticks\":\"\"}}}],\"scatterpolar\":[{\"type\":\"scatterpolar\",\"marker\":{\"colorbar\":{\"outlinewidth\":0,\"ticks\":\"\"}}}],\"histogram\":[{\"marker\":{\"pattern\":{\"fillmode\":\"overlay\",\"size\":10,\"solidity\":0.2}},\"type\":\"histogram\"}],\"scattergl\":[{\"type\":\"scattergl\",\"marker\":{\"colorbar\":{\"outlinewidth\":0,\"ticks\":\"\"}}}],\"scatter3d\":[{\"type\":\"scatter3d\",\"line\":{\"colorbar\":{\"outlinewidth\":0,\"ticks\":\"\"}},\"marker\":{\"colorbar\":{\"outlinewidth\":0,\"ticks\":\"\"}}}],\"scattermapbox\":[{\"type\":\"scattermapbox\",\"marker\":{\"colorbar\":{\"outlinewidth\":0,\"ticks\":\"\"}}}],\"scatterternary\":[{\"type\":\"scatterternary\",\"marker\":{\"colorbar\":{\"outlinewidth\":0,\"ticks\":\"\"}}}],\"scattercarpet\":[{\"type\":\"scattercarpet\",\"marker\":{\"colorbar\":{\"outlinewidth\":0,\"ticks\":\"\"}}}],\"carpet\":[{\"aaxis\":{\"endlinecolor\":\"#2a3f5f\",\"gridcolor\":\"white\",\"linecolor\":\"white\",\"minorgridcolor\":\"white\",\"startlinecolor\":\"#2a3f5f\"},\"baxis\":{\"endlinecolor\":\"#2a3f5f\",\"gridcolor\":\"white\",\"linecolor\":\"white\",\"minorgridcolor\":\"white\",\"startlinecolor\":\"#2a3f5f\"},\"type\":\"carpet\"}],\"table\":[{\"cells\":{\"fill\":{\"color\":\"#EBF0F8\"},\"line\":{\"color\":\"white\"}},\"header\":{\"fill\":{\"color\":\"#C8D4E3\"},\"line\":{\"color\":\"white\"}},\"type\":\"table\"}],\"barpolar\":[{\"marker\":{\"line\":{\"color\":\"#E5ECF6\",\"width\":0.5},\"pattern\":{\"fillmode\":\"overlay\",\"size\":10,\"solidity\":0.2}},\"type\":\"barpolar\"}],\"pie\":[{\"automargin\":true,\"type\":\"pie\"}]},\"layout\":{\"autotypenumbers\":\"strict\",\"colorway\":[\"#636efa\",\"#EF553B\",\"#00cc96\",\"#ab63fa\",\"#FFA15A\",\"#19d3f3\",\"#FF6692\",\"#B6E880\",\"#FF97FF\",\"#FECB52\"],\"font\":{\"color\":\"#2a3f5f\"},\"hovermode\":\"closest\",\"hoverlabel\":{\"align\":\"left\"},\"paper_bgcolor\":\"white\",\"plot_bgcolor\":\"#E5ECF6\",\"polar\":{\"bgcolor\":\"#E5ECF6\",\"angularaxis\":{\"gridcolor\":\"white\",\"linecolor\":\"white\",\"ticks\":\"\"},\"radialaxis\":{\"gridcolor\":\"white\",\"linecolor\":\"white\",\"ticks\":\"\"}},\"ternary\":{\"bgcolor\":\"#E5ECF6\",\"aaxis\":{\"gridcolor\":\"white\",\"linecolor\":\"white\",\"ticks\":\"\"},\"baxis\":{\"gridcolor\":\"white\",\"linecolor\":\"white\",\"ticks\":\"\"},\"caxis\":{\"gridcolor\":\"white\",\"linecolor\":\"white\",\"ticks\":\"\"}},\"coloraxis\":{\"colorbar\":{\"outlinewidth\":0,\"ticks\":\"\"}},\"colorscale\":{\"sequential\":[[0.0,\"#0d0887\"],[0.1111111111111111,\"#46039f\"],[0.2222222222222222,\"#7201a8\"],[0.3333333333333333,\"#9c179e\"],[0.4444444444444444,\"#bd3786\"],[0.5555555555555556,\"#d8576b\"],[0.6666666666666666,\"#ed7953\"],[0.7777777777777778,\"#fb9f3a\"],[0.8888888888888888,\"#fdca26\"],[1.0,\"#f0f921\"]],\"sequentialminus\":[[0.0,\"#0d0887\"],[0.1111111111111111,\"#46039f\"],[0.2222222222222222,\"#7201a8\"],[0.3333333333333333,\"#9c179e\"],[0.4444444444444444,\"#bd3786\"],[0.5555555555555556,\"#d8576b\"],[0.6666666666666666,\"#ed7953\"],[0.7777777777777778,\"#fb9f3a\"],[0.8888888888888888,\"#fdca26\"],[1.0,\"#f0f921\"]],\"diverging\":[[0,\"#8e0152\"],[0.1,\"#c51b7d\"],[0.2,\"#de77ae\"],[0.3,\"#f1b6da\"],[0.4,\"#fde0ef\"],[0.5,\"#f7f7f7\"],[0.6,\"#e6f5d0\"],[0.7,\"#b8e186\"],[0.8,\"#7fbc41\"],[0.9,\"#4d9221\"],[1,\"#276419\"]]},\"xaxis\":{\"gridcolor\":\"white\",\"linecolor\":\"white\",\"ticks\":\"\",\"title\":{\"standoff\":15},\"zerolinecolor\":\"white\",\"automargin\":true,\"zerolinewidth\":2},\"yaxis\":{\"gridcolor\":\"white\",\"linecolor\":\"white\",\"ticks\":\"\",\"title\":{\"standoff\":15},\"zerolinecolor\":\"white\",\"automargin\":true,\"zerolinewidth\":2},\"scene\":{\"xaxis\":{\"backgroundcolor\":\"#E5ECF6\",\"gridcolor\":\"white\",\"linecolor\":\"white\",\"showbackground\":true,\"ticks\":\"\",\"zerolinecolor\":\"white\",\"gridwidth\":2},\"yaxis\":{\"backgroundcolor\":\"#E5ECF6\",\"gridcolor\":\"white\",\"linecolor\":\"white\",\"showbackground\":true,\"ticks\":\"\",\"zerolinecolor\":\"white\",\"gridwidth\":2},\"zaxis\":{\"backgroundcolor\":\"#E5ECF6\",\"gridcolor\":\"white\",\"linecolor\":\"white\",\"showbackground\":true,\"ticks\":\"\",\"zerolinecolor\":\"white\",\"gridwidth\":2}},\"shapedefaults\":{\"line\":{\"color\":\"#2a3f5f\"}},\"annotationdefaults\":{\"arrowcolor\":\"#2a3f5f\",\"arrowhead\":0,\"arrowwidth\":1},\"geo\":{\"bgcolor\":\"white\",\"landcolor\":\"#E5ECF6\",\"subunitcolor\":\"white\",\"showland\":true,\"showlakes\":true,\"lakecolor\":\"white\"},\"title\":{\"x\":0.05},\"mapbox\":{\"style\":\"light\"}}},\"xaxis\":{\"anchor\":\"y\",\"domain\":[0.0,1.0],\"title\":{\"text\":\"Estado\"}},\"yaxis\":{\"anchor\":\"x\",\"domain\":[0.0,1.0],\"title\":{\"text\":\"Num_Vendas\"}},\"legend\":{\"title\":{\"text\":\"Servico\"},\"tracegroupgap\":0},\"title\":{\"text\":\"Vendas dos servi\\u00e7os por estados\"},\"barmode\":\"relative\"},                        {\"responsive\": true}                    ).then(function(){\n",
       "                            \n",
       "var gd = document.getElementById('db71e0bd-1c7e-475a-b7c6-9161508f90f7');\n",
       "var x = new MutationObserver(function (mutations, observer) {{\n",
       "        var display = window.getComputedStyle(gd).display;\n",
       "        if (!display || display === 'none') {{\n",
       "            console.log([gd, 'removed!']);\n",
       "            Plotly.purge(gd);\n",
       "            observer.disconnect();\n",
       "        }}\n",
       "}});\n",
       "\n",
       "// Listen for the removal of the full notebook cells\n",
       "var notebookContainer = gd.closest('#notebook-container');\n",
       "if (notebookContainer) {{\n",
       "    x.observe(notebookContainer, {childList: true});\n",
       "}}\n",
       "\n",
       "// Listen for the clearing of the current output cell\n",
       "var outputEl = gd.closest('.output');\n",
       "if (outputEl) {{\n",
       "    x.observe(outputEl, {childList: true});\n",
       "}}\n",
       "\n",
       "                        })                };                });            </script>        </div>"
      ]
     },
     "metadata": {},
     "output_type": "display_data"
    }
   ],
   "source": [
    "vendas_servico_estado = df_analytics.groupby(['Estado', 'Servico'])['Num_Vendas'].sum().reset_index()\n",
    "\n",
    "px.bar(vendas_servico_estado, x = 'Estado', y = 'Num_Vendas', color = 'Servico', title = 'Vendas dos serviços por estados')"
   ]
  },
  {
   "cell_type": "markdown",
   "id": "4ae20ba0",
   "metadata": {},
   "source": [
    "#### Nesse dois graficos, foi filtrado as vendas por serviços e as vendas por serviços nos estados. Sendo graficos que chamam muita atenção visto que, atitudes simples levam a grande resultando. Por exemplo,  buscar parcerias com as empresas Telemont, Conceta,  Serede e outras em outras regiões pode potencializar as vendas. Não só isso, pode ser feito parcerias com empresas com culturas parecidas com as de destaque. "
   ]
  }
 ],
 "metadata": {
  "kernelspec": {
   "display_name": "Python 3 (ipykernel)",
   "language": "python",
   "name": "python3"
  },
  "language_info": {
   "codemirror_mode": {
    "name": "ipython",
    "version": 3
   },
   "file_extension": ".py",
   "mimetype": "text/x-python",
   "name": "python",
   "nbconvert_exporter": "python",
   "pygments_lexer": "ipython3",
   "version": "3.12.4"
  }
 },
 "nbformat": 4,
 "nbformat_minor": 5
}
