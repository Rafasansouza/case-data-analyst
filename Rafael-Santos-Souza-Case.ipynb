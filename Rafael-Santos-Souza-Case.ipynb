{
 "cells": [
  {
   "cell_type": "markdown",
   "id": "bf754584",
   "metadata": {},
   "source": [
    "#### Criando insights em case com dados de uma empresa de fibra óptica fictícia"
   ]
  },
  {
   "cell_type": "markdown",
   "id": "8e75c888",
   "metadata": {},
   "source": [
    "De inicio começo importando as bibliotecas para o tratamento dos dados e criação de insights"
   ]
  },
  {
   "cell_type": "code",
   "execution_count": null,
   "id": "02d1f6b6",
   "metadata": {},
   "outputs": [],
   "source": [
    "import pandas as pd\n",
    "import numpy as np\n",
    "import matplotlib.pyplot as plt\n",
    "import plotly.express as px\n",
    "import re"
   ]
  },
  {
   "cell_type": "markdown",
   "id": "d1a58682",
   "metadata": {},
   "source": [
    "Carregando a \"amostra_360\" para o df"
   ]
  },
  {
   "cell_type": "code",
   "execution_count": null,
   "id": "329f0dbb",
   "metadata": {},
   "outputs": [],
   "source": [
    "df = pd.read_excel('amostra_360.xlsx')"
   ]
  },
  {
   "cell_type": "markdown",
   "id": "6c3c7a83",
   "metadata": {},
   "source": [
    "Visualizando o df"
   ]
  },
  {
   "cell_type": "code",
   "execution_count": null,
   "id": "ae20621e",
   "metadata": {
    "scrolled": true
   },
   "outputs": [],
   "source": [
    "df.head()"
   ]
  },
  {
   "cell_type": "code",
   "execution_count": null,
   "id": "1bf1cb51",
   "metadata": {},
   "outputs": [],
   "source": [
    "df.info() #Solicitando informações do df"
   ]
  },
  {
   "cell_type": "code",
   "execution_count": null,
   "id": "f28dd25d",
   "metadata": {},
   "outputs": [],
   "source": [
    "df.isnull().sum() #Consultando celulas vazias por coluna"
   ]
  },
  {
   "cell_type": "code",
   "execution_count": null,
   "id": "a1df51b5",
   "metadata": {},
   "outputs": [],
   "source": [
    "df.dropna(axis = 1, how = 'all') #Removendo colunas completamente vazias"
   ]
  },
  {
   "cell_type": "markdown",
   "id": "ce883cbf",
   "metadata": {},
   "source": [
    "#### 54 colunas foram removidas."
   ]
  },
  {
   "cell_type": "code",
   "execution_count": null,
   "id": "535246b7",
   "metadata": {},
   "outputs": [],
   "source": [
    "df.isnull().sum()"
   ]
  },
  {
   "cell_type": "code",
   "execution_count": null,
   "id": "228ed63b",
   "metadata": {},
   "outputs": [],
   "source": [
    "df.dropna(axis = 1, thresh = 11) #thresh para remover colunas com apenas 11 numeros"
   ]
  },
  {
   "cell_type": "markdown",
   "id": "d13684c0",
   "metadata": {},
   "source": [
    "Muitos dados em branco e fica dificil utilização da função \"dropna\". Sendo assim crio um df com colunas relevante para seguir com o tratamento de dados."
   ]
  },
  {
   "cell_type": "code",
   "execution_count": null,
   "id": "4390648b",
   "metadata": {},
   "outputs": [],
   "source": [
    "list_columns = ['cd_tipo_survey_hp', 'ic_venda', 'velocidade_hc', 'ds_uf_hc', 'ds_municipio_hc', 'prestadora_servico', 'produto', 'dt_solicitacao', 'dt_instalacao', 'status_ordem_instalacao']\n",
    "df_analytics = df[list_columns]\n",
    "df_analytics"
   ]
  },
  {
   "cell_type": "code",
   "execution_count": null,
   "id": "7c70e42f",
   "metadata": {
    "scrolled": true
   },
   "outputs": [],
   "source": [
    "df_analytics.isnull().sum()"
   ]
  },
  {
   "cell_type": "markdown",
   "id": "715e211c",
   "metadata": {},
   "source": [
    "\n",
    "## Tratamento de Dados\r\n",
    "\r\n",
    "Como visto na função `isnull().sum()`, ainda temos algumas células vazias. Agora, preciso explicar as hipóteses levantadas que justificaram o tratamento dos dados por meio da exclusão das linhas com células vazias e a aplicação de um filtro para o status de instalação `\"COMPLETED\"`.\r\n",
    "\r\n",
    "### Hipótese 1\r\n",
    "No pior dos casos, se considerarmos que as linhas não convergem entre si, ainda assim o número de células vazias é muito menor que o número total de linhas. Portanto, foi considerado que sua exclusão não impacta significativamente a análise das amostras. Além disso, completar esses dados com valores aleatórios ou fazer a interpolação seria um processo trabalhoso que, provavelmente, não traria resultados tão significativos.\r\n",
    "\r\n",
    "### Hipótese 2\r\n",
    "Não posso considerar os dados de empresas que não possuem o status de instalação `\"COMPLETED\"`. Dessa forma, registros com status `\"CANCELLED\"` são descartados, pois o serviço não foi prestado, e o status `\"IN_PROGRESS\"` não me garante que o serviço não será cancelado antes de sua conclusão, como, por exemplo, a equipe chegar ao local para a instalação.\r\n",
    "\r\n",
    "---\r\n",
    "\r\n",
    "Com isso, optei por excluir as linhas com células vazias e aplicar um filtro na coluna `Status_Instalação` para manter apenas os registros com o status `\"PLETED\"`.\r\n",
    "\n",
    "\n"
   ]
  },
  {
   "cell_type": "code",
   "execution_count": null,
   "id": "c50a654d",
   "metadata": {},
   "outputs": [],
   "source": [
    "df_analytics = df_analytics.dropna(axis=0)#Remolvo as linhas vazias que contem celulas vazias\n",
    "df_analytics"
   ]
  },
  {
   "cell_type": "code",
   "execution_count": null,
   "id": "54d624cd",
   "metadata": {},
   "outputs": [],
   "source": [
    "df_analytics.isnull().sum()"
   ]
  },
  {
   "cell_type": "code",
   "execution_count": null,
   "id": "48524420",
   "metadata": {},
   "outputs": [],
   "source": [
    "#filtando o df apenas para o status de ordem \"completo\"\n",
    "df_analytics = df_analytics.loc[df_analytics['status_ordem_instalacao']=='COMPLETED']\n",
    "df_analytics"
   ]
  },
  {
   "cell_type": "code",
   "execution_count": null,
   "id": "a2836b70",
   "metadata": {
    "scrolled": true
   },
   "outputs": [],
   "source": [
    "#Usando a função rename para renomear as colunas do df_analytics\n",
    "df_analytics = df_analytics.rename(columns={\"cd_tipo_survey_hp\": \"Tipo_Local\", \"ic_venda\": \"Num_Vendas\", \"velocidade_hc\": \"Velocidade\", \"ds_uf_hc\": \"Estado\", \"ds_municipio_hc\": \"Municipio\", \"prestadora_servico\": \"Servico\", \"produto\": \"Produto\", \"dt_solicitacao\": \"Dt_Solicitacao\", \"dt_instalacao\": \"Dt_Instalacao\", \"status_ordem_instalacao\": \"Status_Instalacao\"})\n",
    "df_analytics"
   ]
  },
  {
   "cell_type": "code",
   "execution_count": null,
   "id": "40b11ddd",
   "metadata": {},
   "outputs": [],
   "source": [
    "df_analytics.reset_index(drop=True, inplace=True)#resetando o index de cada linhas"
   ]
  },
  {
   "cell_type": "code",
   "execution_count": null,
   "id": "5eee33a2",
   "metadata": {},
   "outputs": [],
   "source": [
    "df_analytics"
   ]
  },
  {
   "cell_type": "code",
   "execution_count": null,
   "id": "c261dd37",
   "metadata": {},
   "outputs": [],
   "source": [
    "df_analytics.info()#agora verifico o dtype de cada coluna"
   ]
  },
  {
   "cell_type": "code",
   "execution_count": null,
   "id": "df9928e5",
   "metadata": {},
   "outputs": [],
   "source": [
    "#transformando o dtype da coluna \"Dt_Instalacao\" de object para datetime\n",
    "df_analytics[\"Dt_Instalacao\"] = pd.to_datetime(df_analytics[\"Dt_Instalacao\"])"
   ]
  },
  {
   "cell_type": "code",
   "execution_count": null,
   "id": "193fb6b0",
   "metadata": {},
   "outputs": [],
   "source": [
    "df_analytics.info()"
   ]
  },
  {
   "cell_type": "code",
   "execution_count": null,
   "id": "6284ca0a",
   "metadata": {},
   "outputs": [],
   "source": [
    "#criando coluna de duração para concluir o serviço\n",
    "df_analytics['Duracao_Servico'] = df_analytics['Dt_Instalacao']-df_analytics['Dt_Solicitacao']"
   ]
  },
  {
   "cell_type": "code",
   "execution_count": null,
   "id": "62a4f103",
   "metadata": {},
   "outputs": [],
   "source": [
    "df_analytics.info()"
   ]
  },
  {
   "cell_type": "code",
   "execution_count": null,
   "id": "d0a0f62b",
   "metadata": {},
   "outputs": [],
   "source": [
    "#transformo essa nova coluna de timedelta para int\n",
    "df_analytics['Duracao_Servico'] = df_analytics['Duracao_Servico'].dt.days.astype(int)"
   ]
  },
  {
   "cell_type": "code",
   "execution_count": null,
   "id": "1eea27ab",
   "metadata": {},
   "outputs": [],
   "source": [
    "df_analytics.info()"
   ]
  },
  {
   "cell_type": "code",
   "execution_count": null,
   "id": "adfb86a1",
   "metadata": {},
   "outputs": [],
   "source": [
    "df_analytics"
   ]
  },
  {
   "cell_type": "code",
   "execution_count": null,
   "id": "7d9da673",
   "metadata": {},
   "outputs": [],
   "source": [
    "#observando a df_analytics a velocidade esta em object (valor da velocidade e sua unidade) e alguns dos dados estão escritos de forma diferente\n",
    "#Sendo assim, uso a função apply em conjunto com lambda para substituir strigs por um espaço, tendo so numero nas celulas as transformo int\n",
    "df_analytics['Velocidade'] = df_analytics['Velocidade'].apply(lambda x: re.sub('[^0-9]', '', str(x))).astype(int)"
   ]
  },
  {
   "cell_type": "code",
   "execution_count": null,
   "id": "1da38244",
   "metadata": {},
   "outputs": [],
   "source": [
    "df_analytics.info()"
   ]
  },
  {
   "cell_type": "code",
   "execution_count": null,
   "id": "5d44b59f",
   "metadata": {
    "scrolled": true
   },
   "outputs": [],
   "source": [
    "#renomeio a coluna de velocidade, adicionando a unidade MBPS\n",
    "df_analytics = df_analytics.rename(columns={'Velocidade': 'Velocidade_MBPS'})\n",
    "df_analytics"
   ]
  },
  {
   "cell_type": "code",
   "execution_count": null,
   "id": "7335585b",
   "metadata": {
    "scrolled": true
   },
   "outputs": [],
   "source": [
    "#Aqui percebo que para analisar os dados em mes e ano, preciso extrair esses dados da coluna \"Dt_Solicitação\"\n",
    "#Sendo assim, tenho mes e ano em duas novas colunas\n",
    "df_analytics['Mes'] = df_analytics['Dt_Solicitacao'].dt.strftime('%B')\n",
    "df_analytics['Ano'] = df_analytics['Dt_Solicitacao'].dt.year\n",
    "df_analytics"
   ]
  },
  {
   "cell_type": "markdown",
   "id": "5328f7d6",
   "metadata": {},
   "source": [
    "#### Com o DataFrame tratado e pronto para gerar os insights, começo a utilizar as bibliotecas `matplotlib` e `plotly.express`.\r\n",
    "#### Observe que, neste ponto, procuro gerar os insights da forma mais variada possível. Isso é proposital, com o intuito de demonstrar o conhecimento em diversas funções das respectivas bibliotecas\r\n"
   ]
  },
  {
   "cell_type": "markdown",
   "id": "9c961deb",
   "metadata": {},
   "source": [
    "### Insights para visulizar as vendas de acordo com o tempo."
   ]
  },
  {
   "cell_type": "code",
   "execution_count": null,
   "id": "0ef80a7a",
   "metadata": {
    "scrolled": true
   },
   "outputs": [],
   "source": [
    "\n",
    "meses_vendas = df_analytics.groupby(['Ano', 'Mes'])['Num_Vendas'].sum().reset_index()\n",
    "\n",
    "px.bar(meses_vendas, x='Mes', y='Num_Vendas', color= 'Ano').update_layout(title='Vendas Mensais por Ano').update_xaxes(title_text=None).update_yaxes(title_text=None)\n"
   ]
  },
  {
   "cell_type": "markdown",
   "id": "6785d6f7",
   "metadata": {},
   "source": [
    "#### Aqui é percepitivel que o mês de agosto, junho e julho de 2022 se destacou nas vendas. Por que será? O fatos desses meses fazerem parte da estação do ano de inverno. Pode ser uma justificativa, as pessoas passam mais o fim de semana em suas casas, aquelas que não tem internet porque passa pouquissimo tempo em casa e se satisfaz com os dados moveis, começam a necessitar de internet ? \n",
    "#### Outro ponto que chama atenção é a minima de vendas no mês de fevereiro, será que o verão contribui de forma oposta ao inverno?\n"
   ]
  },
  {
   "cell_type": "code",
   "execution_count": null,
   "id": "82ce14fa",
   "metadata": {},
   "outputs": [],
   "source": [
    "ano_vendas = df_analytics.groupby('Ano')['Num_Vendas'].sum()\n",
    "\n",
    "colors = ['gray', 'yellow']\n",
    "\n",
    "px.pie(ano_vendas, names = ano_vendas.index, values = ano_vendas.values, color_discrete_sequence=colors).update_layout(title='Vendas por Ano')"
   ]
  },
  {
   "cell_type": "markdown",
   "id": "3268e9d7",
   "metadata": {},
   "source": [
    "#### Por falta de dados não há como comparar os dados de 2022 e 2023."
   ]
  },
  {
   "cell_type": "markdown",
   "id": "978c6010",
   "metadata": {},
   "source": [
    "#### Porém, apenas os dois primeiros meses de 2023 esta bem proximo de 2/12 do ano de 2022. O que leva a seguinte pergunta, nesse ritimo será que as vendas no ano de 2023 vão superar o ano anterior? "
   ]
  },
  {
   "cell_type": "code",
   "execution_count": null,
   "id": "3220cbf1",
   "metadata": {},
   "outputs": [],
   "source": [
    "fig, ax = plt.subplots(figsize=(8,5))\n",
    "colors = ['gray']\n",
    "\n",
    "data_vendas = df_analytics.groupby('Dt_Solicitacao')['Num_Vendas'].sum()\n",
    "\n",
    "ax.plot( data_vendas.index, data_vendas.values, color=colors[0], linewidth=2.0)\n",
    "plt.show()"
   ]
  },
  {
   "cell_type": "markdown",
   "id": "e10167ac",
   "metadata": {},
   "source": [
    "#### Aqui temos um grafico de linhas das vendas ao longo dos dias. Percebe-se uma diminuição no número de vendas por dia."
   ]
  },
  {
   "cell_type": "code",
   "execution_count": null,
   "id": "42f8a53d",
   "metadata": {
    "scrolled": true
   },
   "outputs": [],
   "source": [
    "#Gerando grafico de vendas por estado\n",
    "vendas_por_estado = df_analytics.groupby('Estado')['Num_Vendas'].sum()\n",
    "\n",
    "vendas_por_estado.plot.bar(color='gray');"
   ]
  },
  {
   "cell_type": "code",
   "execution_count": null,
   "id": "dde058c3",
   "metadata": {},
   "outputs": [],
   "source": [
    "#Gerando grafico de duração de instalação por estado\n",
    "fig, ax = plt.subplots(figsize=(8,5))\n",
    "\n",
    "mean_duracao_estado = df_analytics.groupby('Estado')['Duracao_Servico'].mean()\n",
    "\n",
    "mean_duracao_estado.plot.bar(color='gray', title = 'Duração de instalação(dias) por estado');"
   ]
  },
  {
   "cell_type": "markdown",
   "id": "49bc58e1",
   "metadata": {},
   "source": [
    "#### Nos gráficos de barras dos estados por vendas e duração de instalação. Percebe-se que nas regiões que temos um maior tempo de instalação, há uma deficiência de vendas."
   ]
  },
  {
   "cell_type": "markdown",
   "id": "6f080551",
   "metadata": {},
   "source": [
    "#### Buscar parcerias com outros serviços do estado seria uma solução? Empresa que dispõe uma maior atenção aos clientes se destacam no mercado, agilidade na instação desso produto pode contribuir para uma maior fama na região consequentemente maior número de vendas."
   ]
  },
  {
   "cell_type": "code",
   "execution_count": null,
   "id": "a6f07a16",
   "metadata": {},
   "outputs": [],
   "source": [
    "vendas_por_local = df_analytics.groupby('Tipo_Local')['Num_Vendas'].sum()\n",
    "\n",
    "colors = ['gray', 'yellow']\n",
    "\n",
    "px.pie(vendas_por_local, names = vendas_por_local.index, values = vendas_por_local.values, color_discrete_sequence=colors).update_layout(title='Vendas por tipo de local')"
   ]
  },
  {
   "cell_type": "markdown",
   "id": "3b5776b7",
   "metadata": {},
   "source": [
    "#### No gráfico de vendas por tipo de local, é notório uma dominância das vendas para moradia. E por mais que seja um grafico simples quer dizer muito. Com ele podemos obeserva o publico alvo das vendas. Direcionando assim estrategias de marketing para potencializar as vendas dos produtos, investindo em canais de marketing específicos e atigindo o público alvo."
   ]
  },
  {
   "cell_type": "code",
   "execution_count": null,
   "id": "bad0e404",
   "metadata": {
    "scrolled": true
   },
   "outputs": [],
   "source": [
    "vendas_por_vel = df_analytics.groupby('Velocidade_MBPS')['Num_Vendas'].sum()\n",
    "vendas_por_vel.plot.bar(color='gray', title='Vendas por pacote de velocidade');"
   ]
  },
  {
   "cell_type": "markdown",
   "id": "143d0fe1",
   "metadata": {},
   "source": [
    "#### Observe que o pacote de velocidade se destaca no número de vendas, provavelmente deve ser um pacote que atende as necessidades do cliente, o famoso custo beneficio. Aplicar esse pacote para outras regiões, a qual ele não esteja disponivel, ou tentativas de baratear os serviços de instalaçao podem potencializar as vendas."
   ]
  },
  {
   "cell_type": "code",
   "execution_count": null,
   "id": "8b7d734f",
   "metadata": {},
   "outputs": [],
   "source": [
    "#Gerando grafico de duração de instalação por serviço\n",
    "fig, ax = plt.subplots(figsize=(8,5))\n",
    "\n",
    "mean_duracao_estado = df_analytics.groupby('Servico')['Duracao_Servico'].mean()\n",
    "\n",
    "mean_duracao_estado.plot.bar(color='gray', title = 'Duração de instalação(dias) por Servico')"
   ]
  },
  {
   "cell_type": "code",
   "execution_count": null,
   "id": "3c823452",
   "metadata": {},
   "outputs": [],
   "source": [
    "vendas_por_servico = df_analytics.groupby('Servico')['Num_Vendas'].sum()\n",
    "\n",
    "px.pie(vendas_por_servico, names = vendas_por_servico.index, values = vendas_por_servico.values).update_layout(legend=dict(title='Vendas por Serviço', orientation=\"h\", yanchor=\"bottom\", y=1.02, xanchor=\"right\", x=1))"
   ]
  },
  {
   "cell_type": "markdown",
   "id": "42cb151e",
   "metadata": {},
   "source": [
    "#### Como dito ateriormente, prestação de serviço rápido passa ao cliente uma visão de atenção, ele se sente especial. E os dados não dizem o contrario. Observe a empresa prestadora de serviço \"Serede\" no gráfico pizza perceba como ela se destaca no número de vendas, sendo responsavel por quase 40% das vendas. Agora olhe o gráfico anterior de media de duração de instalação por serviço, justamente a empresa que se destaca é a SEREDE, com a menor média de tempo para prestar serviço"
   ]
  },
  {
   "cell_type": "code",
   "execution_count": null,
   "id": "d4657078",
   "metadata": {},
   "outputs": [],
   "source": [
    "vendas_servico_estado = df_analytics.groupby(['Estado', 'Servico'])['Num_Vendas'].sum().reset_index()\n",
    "\n",
    "px.bar(vendas_servico_estado, x = 'Estado', y = 'Num_Vendas', color = 'Servico', title = 'Vendas dos serviços por estados')"
   ]
  },
  {
   "cell_type": "markdown",
   "id": "bbe05721-796b-4d6e-ab60-5989734bb0c3",
   "metadata": {},
   "source": [
    "#### Nesse dois graficos, foi filtrado as vendas por serviços e as vendas por serviços nos estados. Sendo graficos que chamam muita atenção visto que, atitudes simples levam a grande resultando. Por exemplo,  buscar parcerias com as empresas Telemont, Conceta,  Serede e outras em outras regiões pode potencializar as vendas. Não só isso, pode ser feito parcerias com empresas com culturas parecidas com as de destaque. "
   ]
  }
 ],
 "metadata": {
  "kernelspec": {
   "display_name": "Python 3 (ipykernel)",
   "language": "python",
   "name": "python3"
  },
  "language_info": {
   "codemirror_mode": {
    "name": "ipython",
    "version": 3
   },
   "file_extension": ".py",
   "mimetype": "text/x-python",
   "name": "python",
   "nbconvert_exporter": "python",
   "pygments_lexer": "ipython3",
   "version": "3.12.4"
  }
 },
 "nbformat": 4,
 "nbformat_minor": 5
}
